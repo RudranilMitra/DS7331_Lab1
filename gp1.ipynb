{
 "cells": [
  {
   "cell_type": "markdown",
   "metadata": {},
   "source": [
    "# Lab 1 : Visualization and Data Processing\n",
    "\n",
    "## Group 4 :  Simerpreet Reddy, Rudranil Mitra, Samuel VonPaays Soh, Kristi Herman\n",
    "\n",
    "---\n",
    "## <font color='darkgreen'> Business Understanding </font>\n",
    "\n",
    "The source selected for this analysis is a Craigslist used car listings dataset from Kaggle:  https://www.kaggle.com/austinreese/craigslist-carstrucks-data<br>  The author of this dataset used web scraping algorithms to scrape the information from all regional Craigslist's sites in the U.S. \n",
    "\n",
    "\n",
    "#### <font color='green'>Describe the purpose of the data set you selected (i.e., why was this data collected in the first place?)</font>\n",
    "The purpose of this dataset is to collect data for all used cars and trucks for sale in the U.S. that are listed on Craigslist regional sites.  This dataset was selected to model and predict used car prices and to classify price ranges by categories.  Included in the dataset were other types of vehicles such as busses and motorcycles.  Those were removed to focus the analysis on cars and trucks only. \n",
    "\n",
    "\n",
    "#### <font color='green'>Describe how you would define and measure the outcomes from the dataset. That is, why is this data important and how do you know if you have mined useful knowledge from the dataset? </font>\n",
    "\n",
    "We will know that we have mined useful knowledge if we are able to come up with a good prediction for used car prices and a classifier for price range predictions. In other words, a good model will be able to find relationships among the predictors and the response variables.  \n",
    "\n",
    "#### <font color='green'>How would you measure the effectiveness of a good prediction algorithm? Be specific. </font>\n",
    "\n",
    "Our goal is to run both both regression and classification algorithms on this dataset. For the regression problem to predict car prices, RMSE along with k-fold cross validation will be used to determine the effectiveness of the prediction. For the classification problem, k-fold cross validation with accuracy, precision, recall, True Positive Rate, and False Positive Rate will be used to measure the effectiveness of the prediction model. The value for 'k' in cross validation will be determined through hyperparameter tuning during the model building process."
   ]
  },
  {
   "cell_type": "markdown",
   "metadata": {},
   "source": [
    "## Data Meaning Type\n",
    "\n",
    "*Describe the meaning and type of data (scale, values, etc.) for each attribute in the data file.*\n",
    "\n",
    "<blockquote>The initial dataset contained <b>458,213 rows</b> with <b>26 fields</b>."
   ]
  },
  {
   "cell_type": "code",
   "execution_count": 1,
   "metadata": {},
   "outputs": [],
   "source": [
    "#import libraries\n",
    "import pandas as pd\n",
    "import numpy as np\n",
    "import matplotlib.pyplot as plt\n",
    "import plotly.express as px\n",
    "import seaborn as sns\n",
    "import requests\n",
    "import json\n",
    "import time\n",
    "from datetime import datetime\n",
    "from sklearn.base import BaseEstimator, TransformerMixin\n",
    "cmap = sns.diverging_palette(220, 10, as_cmap=True)"
   ]
  },
  {
   "cell_type": "code",
   "execution_count": 5,
   "metadata": {},
   "outputs": [],
   "source": [
    "#import vehicle dataset\n",
    "orig_df = pd.read_csv('data/vehicles.csv') "
   ]
  },
  {
   "cell_type": "code",
   "execution_count": 66,
   "metadata": {},
   "outputs": [
    {
     "name": "stdout",
     "output_type": "stream",
     "text": [
      "<class 'pandas.core.frame.DataFrame'>\n",
      "RangeIndex: 458213 entries, 0 to 458212\n",
      "Data columns (total 26 columns):\n",
      "Unnamed: 0      458213 non-null int64\n",
      "id              458213 non-null int64\n",
      "url             458213 non-null object\n",
      "region          458213 non-null object\n",
      "region_url      458213 non-null object\n",
      "price           458213 non-null int64\n",
      "year            457163 non-null float64\n",
      "manufacturer    439993 non-null object\n",
      "model           453367 non-null object\n",
      "condition       265273 non-null object\n",
      "cylinders       287073 non-null object\n",
      "fuel            454976 non-null object\n",
      "odometer        402910 non-null float64\n",
      "title_status    455636 non-null object\n",
      "transmission    455771 non-null object\n",
      "VIN             270664 non-null object\n",
      "drive           324025 non-null object\n",
      "size            136865 non-null object\n",
      "type            345475 non-null object\n",
      "paint_color     317370 non-null object\n",
      "image_url       458185 non-null object\n",
      "description     458143 non-null object\n",
      "state           458213 non-null object\n",
      "lat             450765 non-null float64\n",
      "long            450765 non-null float64\n",
      "posting_date    458185 non-null object\n",
      "dtypes: float64(4), int64(3), object(19)\n",
      "memory usage: 90.9+ MB\n"
     ]
    }
   ],
   "source": [
    "# Copy original file to car_df to avoid reloading the large file, keep the original dataset in case it is needed. \n",
    "car_df = orig_df.copy()\n",
    "\n",
    "#info\n",
    "car_df.info()"
   ]
  },
  {
   "cell_type": "markdown",
   "metadata": {},
   "source": [
    "<blockquote>These fields were immediately dropped for the following reasons:<br>\n",
    "1) Not useful for the two prediction problems in this analysis (id, Unnamed:0, url, image_url, region_url, description)<br>\n",
    "2) Too many missing values that could not be easily derived (size) <br> \n",
    "3) Similar to other fields (region)"
   ]
  },
  {
   "cell_type": "code",
   "execution_count": 67,
   "metadata": {},
   "outputs": [],
   "source": [
    "car_df = car_df.drop(columns=['id','Unnamed: 0','url','image_url','region_url','description','size','region'])"
   ]
  },
  {
   "cell_type": "markdown",
   "metadata": {},
   "source": [
    "<blockquote>This is a more detailed description of the fields that will be used for explanatory and response variables after some transformations are applied in Data Quality. </blockquote> \n",
    "   "
   ]
  },
  {
   "cell_type": "code",
   "execution_count": 68,
   "metadata": {},
   "outputs": [
    {
     "data": {
      "text/html": [
       "<style>\n",
       "table {float:left}\n",
       "</style>\n"
      ],
      "text/plain": [
       "<IPython.core.display.HTML object>"
      ]
     },
     "metadata": {},
     "output_type": "display_data"
    }
   ],
   "source": [
    "%%html\n",
    "<style>\n",
    "table {float:left}\n",
    "</style>"
   ]
  },
  {
   "cell_type": "markdown",
   "metadata": {},
   "source": [
    "|<p>Field Name|<p>Description|Type|Scale|\n",
    "|:-----|:-----|:-----|:-----|\n",
    "|<p>price |<p>The price of the vehicle. |integer |USD |\n",
    "|<p>price_range$ |<p>Price category derived from \"price\" field, e.g., 5,000 - 10,000. |category |? |\n",
    "|<p>manufacturer |<p>Manufacturer of the vehicle, e.g., honda, jeep, etc.  There are 44 unique values. |category |? |\n",
    "|<p>model |<p>Model of the vehicle, e.g., f150, malibue, etc.  There are 31,521 unique models. |category |? |\n",
    "|<p>condition_new |<p>Condition of the car with 4 values (salvage, fair_good, excellent_likenew, new).  This field combined some of the values in the original \"condition\" field. |category |? |\n",
    "|<p>cyclinders |<p>Number of cylinders in the car ranging from 1 to 12. |integer |? |\n",
    "|<p>fuel |<p>Type of fuel with the following categories:  'gas', 'diesel', 'other', 'hybrid', 'electric'. |category |? |\n",
    "|<p>odometer |<p>Mileage recorded for the vehicle |integer |Miles |\n",
    "|<p>title_status |<p>Indicates what the title status is of the vehicle:  'clean', 'lien', 'missing', 'salvage', 'rebuilt', 'parts only'. |category |? |\n",
    "|<p>transmission_new |<p>Type of transmission:   'other', 'automatic', 'manual'.  This field combined some of the categories from the original 'transmission' field. |category |? |\n",
    "|<p>drive |<p>Type of drive: ' rwd', 'fwd', '4wd'. |category |? |\n",
    "|<p>type_new |<p>Type of vehicle with 9 categories after combining some from the original types:  'sedan', 'pickup_truck', 'coupe', 'crossover', 'mini-van','convertible', 'hatchback', 'van', 'offroad'. |category |? |\n",
    "|<p>paint_color_new |<p>Color of the vehicle with 4 categories after combining some from the original colors:  'BlSlvrWhGryMsng', 'BluRdBrwn', 'OrYlwGrnPrpl', 'Custom'. |category |? \n",
    "|<p>state |<p>State of listing including all 50 states and DC. |category |? |\n",
    "|<p>car_Age_in_yrs |<p>Derived from the original year column and the date of the posting. |integer |years |"
   ]
  },
  {
   "cell_type": "markdown",
   "metadata": {},
   "source": [
    "All the categorical variables will be One Hot Encoded in the [New Features](#New-Features) section below."
   ]
  },
  {
   "cell_type": "markdown",
   "metadata": {},
   "source": [
    "## Data Quality\n",
    "Verify data quality: Explain any missing values, duplicate data, and outliers. Are those mistakes? How do you deal with these problems? Give justifications for your methods"
   ]
  },
  {
   "cell_type": "markdown",
   "metadata": {},
   "source": [
    "### Duplicate Data (Rudranil)"
   ]
  },
  {
   "cell_type": "markdown",
   "metadata": {},
   "source": [
    "<blockquote>There were multiple duplicate for VINs becaues the same car could be listing in multiple regions in Craiglist.  The duplicates were removed.  "
   ]
  },
  {
   "cell_type": "code",
   "execution_count": null,
   "metadata": {},
   "outputs": [],
   "source": [
    "#rudranil to add code/notes"
   ]
  },
  {
   "cell_type": "markdown",
   "metadata": {},
   "source": [
    "### Missing values"
   ]
  },
  {
   "cell_type": "markdown",
   "metadata": {},
   "source": [
    "<blockquote>There were a significant number of missing values in the original dataset. "
   ]
  },
  {
   "cell_type": "code",
   "execution_count": 69,
   "metadata": {},
   "outputs": [
    {
     "data": {
      "text/plain": [
       "price           0     \n",
       "year            1050  \n",
       "manufacturer    18220 \n",
       "model           4846  \n",
       "condition       192940\n",
       "cylinders       171140\n",
       "fuel            3237  \n",
       "odometer        55303 \n",
       "title_status    2577  \n",
       "transmission    2442  \n",
       "VIN             187549\n",
       "drive           134188\n",
       "type            112738\n",
       "paint_color     140843\n",
       "state           0     \n",
       "lat             7448  \n",
       "long            7448  \n",
       "posting_date    28    \n",
       "dtype: int64"
      ]
     },
     "execution_count": 69,
     "metadata": {},
     "output_type": "execute_result"
    }
   ],
   "source": [
    "#n/a's\n",
    "car_df.isna().sum()"
   ]
  },
  {
   "cell_type": "markdown",
   "metadata": {},
   "source": [
    "<blockquote>Some data such as cylinders, year, fuel, drive, transmission, and model could be attained from the Department of Transportation using the VIN number.  A scraper was built to retrieve the data.  More details about the scraper are in the <a href='#exceptional'>Exceptional section</a> .Once the data was retrieved, it was exported to a separate csv and imported and merged into car_df to fill in missing values by VIN."
   ]
  },
  {
   "cell_type": "code",
   "execution_count": 70,
   "metadata": {},
   "outputs": [],
   "source": [
    "#import VIN dataset\n",
    "vin_df  = pd.read_csv('data/vin_data.csv',sep='|', encoding='latin-1')"
   ]
  },
  {
   "cell_type": "code",
   "execution_count": 71,
   "metadata": {},
   "outputs": [],
   "source": [
    "# Merge the VIN dataset with the original dataset\n",
    "# With this merge we are able to fill out many missing values in the original dataset \n",
    "\n",
    "# Creating a SK Learn Transformer template, will be useful later to generate a \n",
    "# data cleaning pipeline \n",
    "class MergeTransform(BaseEstimator, TransformerMixin):\n",
    "    def __init__(self,original_dataset,column_map,columns_to_drop,join_column):\n",
    "        self.original_dataset = original_dataset\n",
    "        self.column_map = column_map\n",
    "        self.columns_to_drop = columns_to_drop\n",
    "        self.join_column = join_column\n",
    "    #\n",
    "    def fit(self, X, y = None):\n",
    "        return self\n",
    "    #\n",
    "    def transform(self, X, y = None):\n",
    "        #\n",
    "        X = X.drop_duplicates(['VIN'])\n",
    "        #\n",
    "        merged_dataset = pd.merge(self.original_dataset, X, how='left',on=self.join_column)\n",
    "        #\n",
    "        for k,v in self.column_map:\n",
    "            merged_dataset[k].fillna(merged_dataset[v],inplace=True)\n",
    "        #\n",
    "        merged_dataset.drop(self.columns_to_drop,axis = 1, inplace = True)\n",
    "        merged_dataset['cylinders']=merged_dataset['cylinders'].replace({'cylinders':''},regex=True)\n",
    "        #\n",
    "        return merged_dataset\n",
    "    \n",
    "# The datasets will be joined on VIN\n",
    "join_col = ['VIN']\n",
    "\n",
    "# These are the columns that are being cleaned up. The column on the left is the from the cars dataset. These columns\n",
    "# have null values and need to be replaced from the VIN dataset\n",
    "column_transform_map = [['cylinders', 'EngineCylinders'],\n",
    "                        ['year', 'ModelYear'],\n",
    "                        ['fuel', 'FuelTypePrimary'],\n",
    "                        ['drive', 'DriveType'],\n",
    "                        ['transmission', 'TransmissionStyle'],\n",
    "                        ['model', 'Model']]\n",
    "\n",
    "# These are additional columns from the VIN dataset an can be dropped after the merge \n",
    "columns_to_drop = ['DriveType', 'EngineCylinders', 'EngineManufacturer', 'EngineModel', 'Make', 'Manufacturer', 'Model', 'ModelYear', 'PlantCompanyName', 'TransmissionSpeeds', 'TransmissionStyle', 'FuelTypePrimary']\n",
    "\n",
    "# Create an instance of the transformer\n",
    "transformer = MergeTransform(car_df, column_transform_map, columns_to_drop, join_col)\n",
    "\n",
    "# Run the transformer to generate the clean dataset\n",
    "car_df = transformer.transform(vin_df)    "
   ]
  },
  {
   "cell_type": "markdown",
   "metadata": {},
   "source": [
    "<blockquote>After merging the original dataset with the VIN dataset, the missing values have been reduced."
   ]
  },
  {
   "cell_type": "code",
   "execution_count": 72,
   "metadata": {},
   "outputs": [
    {
     "data": {
      "text/plain": [
       "price           0     \n",
       "year            145   \n",
       "manufacturer    18220 \n",
       "model           3837  \n",
       "condition       192940\n",
       "cylinders       80402 \n",
       "fuel            415   \n",
       "odometer        55303 \n",
       "title_status    2577  \n",
       "transmission    1940  \n",
       "VIN             187549\n",
       "drive           92235 \n",
       "type            112738\n",
       "paint_color     140843\n",
       "state           0     \n",
       "lat             7448  \n",
       "long            7448  \n",
       "posting_date    28    \n",
       "dtype: int64"
      ]
     },
     "execution_count": 72,
     "metadata": {},
     "output_type": "execute_result"
    }
   ],
   "source": [
    "#n/as\n",
    "car_df.isna().sum()"
   ]
  },
  {
   "cell_type": "markdown",
   "metadata": {},
   "source": [
    "<blockquote>The VIN column was then dropped since it was no longer needed for the analysis."
   ]
  },
  {
   "cell_type": "code",
   "execution_count": 73,
   "metadata": {},
   "outputs": [],
   "source": [
    "#drop extra ID fields, URL fields, region fields, and description\n",
    "car_df = car_df.drop(columns=['VIN'])"
   ]
  },
  {
   "cell_type": "markdown",
   "metadata": {},
   "source": [
    "<blockquote>For 7 of the columns that still have missing data and no source to obtain it, the rows with missing values were dropped (condition, title_status, drive, fuel, model, manufacturer, and year).  The remaining n/a's are combined with other fields in the section below for Re-Categorizing Data."
   ]
  },
  {
   "cell_type": "code",
   "execution_count": 74,
   "metadata": {},
   "outputs": [],
   "source": [
    "#drop rows with n/a for important variables that couldn't be obtained from the dept. of transportation\n",
    "car_df = car_df[car_df['condition'].notna()]\n",
    "car_df = car_df[car_df['title_status'].notna()]\n",
    "car_df = car_df[car_df['drive'].notna()]\n",
    "car_df = car_df[car_df['fuel'].notna()]\n",
    "car_df = car_df[car_df['model'].notna()]\n",
    "car_df = car_df[car_df['manufacturer'].notna()]\n",
    "car_df['year'].dropna(inplace=True)"
   ]
  },
  {
   "cell_type": "code",
   "execution_count": 75,
   "metadata": {
    "scrolled": true
   },
   "outputs": [
    {
     "data": {
      "text/plain": [
       "price           0    \n",
       "year            0    \n",
       "manufacturer    0    \n",
       "model           0    \n",
       "condition       0    \n",
       "cylinders       11333\n",
       "fuel            0    \n",
       "odometer        14410\n",
       "title_status    0    \n",
       "transmission    99   \n",
       "drive           0    \n",
       "type            21630\n",
       "paint_color     34125\n",
       "state           0    \n",
       "lat             1706 \n",
       "long            1706 \n",
       "posting_date    0    \n",
       "dtype: int64"
      ]
     },
     "execution_count": 75,
     "metadata": {},
     "output_type": "execute_result"
    }
   ],
   "source": [
    "car_df.isna().sum()"
   ]
  },
  {
   "cell_type": "markdown",
   "metadata": {},
   "source": [
    "### Re-Categorizing Data"
   ]
  },
  {
   "cell_type": "markdown",
   "metadata": {},
   "source": [
    "<blockquote>One of the goals of this project is to predict categorical responses for price range.  A new category field was needed for this derived from the \"price\" field."
   ]
  },
  {
   "cell_type": "code",
   "execution_count": 76,
   "metadata": {},
   "outputs": [
    {
     "data": {
      "text/plain": [
       "[10K-50K, 5K-10K, 1K-5K, 50k-100K, <1K, 100K-4MM, NaN]\n",
       "Categories (6, object): [<1K < 1K-5K < 5K-10K < 10K-50K < 50k-100K < 100K-4MM]"
      ]
     },
     "execution_count": 76,
     "metadata": {},
     "output_type": "execute_result"
    }
   ],
   "source": [
    "#Create column price_range to classify price of a car into one of the following groups: ('less than $1000', '$1000 to $5000', '$5000 to $10000','$10000 to $50000', '$50000 to $100000','$100000 to $4000000' etc.)\n",
    "car_df['price_range$'] = pd.cut(x=car_df['price'], bins=[-1, 1000, 5000,10000,50000, 100000,4000000],labels=['<1K', '1K-5K', '5K-10K','10K-50K', '50k-100K','100K-4MM' ])\n",
    "car_df['price_range$'].unique()"
   ]
  },
  {
   "cell_type": "markdown",
   "metadata": {},
   "source": [
    "<blockquote>\"Conditions\" that were similar to each other were grouped together in a condition_new field."
   ]
  },
  {
   "cell_type": "code",
   "execution_count": 77,
   "metadata": {},
   "outputs": [
    {
     "data": {
      "text/plain": [
       "array(['good_fair', 'excellent_likenew', 'salvage', 'new'], dtype=object)"
      ]
     },
     "execution_count": 77,
     "metadata": {},
     "output_type": "execute_result"
    }
   ],
   "source": [
    "#combine conditions to 4 categories with the following groupings ('good', 'fair'), ('excellent','like new'), 'salvage', 'new' \n",
    "conditions = [\n",
    "    (car_df['condition'] == \"good\") | (car_df['condition'] == \"fair\"),\n",
    "    (car_df['condition'] == \"excellent\") | (car_df['condition'] == \"like new\"),\n",
    "    (car_df['condition'] == \"salvage\"),\n",
    "    (car_df['condition'] == \"new\")\n",
    "    ]\n",
    "\n",
    "#new condition categories\n",
    "values = ['good_fair', 'excellent_likenew', 'salvage', 'new']\n",
    "\n",
    "#new condition column\n",
    "car_df['condition_new'] = np.select(conditions, values)\n",
    "car_df['condition_new'].unique()"
   ]
  },
  {
   "cell_type": "code",
   "execution_count": 78,
   "metadata": {},
   "outputs": [],
   "source": [
    "#drop the original condition field\n",
    "car_df = car_df.drop(columns=['condition'])"
   ]
  },
  {
   "cell_type": "markdown",
   "metadata": {},
   "source": [
    "<blockquote>'Transmission' types that were similar were grouped together in a new 'transmission_new' field with these final categories: Automatic, Manual, and Other."
   ]
  },
  {
   "cell_type": "code",
   "execution_count": 79,
   "metadata": {},
   "outputs": [
    {
     "data": {
      "text/plain": [
       "array(['Other', 'Automatic', 'Manual', '0'], dtype=object)"
      ]
     },
     "execution_count": 79,
     "metadata": {},
     "output_type": "execute_result"
    }
   ],
   "source": [
    "#Group different transmission categories\n",
    "car_df['transmission'] = car_df['transmission'].fillna('other')\n",
    "transmission_types = [\n",
    "    (car_df['transmission'] == \"automatic\") | (car_df['transmission'] == \"Automatic\") | (car_df['transmission'] == \"Continuously Variable Transmission (CVT)\"),\n",
    "    (car_df['transmission'] == \"manual\") | (car_df['transmission'] == \"Manual/Standard\"),\n",
    "    (car_df['transmission'] == \"other\")\n",
    "    ]\n",
    "\n",
    "#new transmission categories\n",
    "t_values_types = ['Automatic', 'Manual', 'Other']\n",
    "\n",
    "#new transmission column\n",
    "car_df['transmission_new'] = np.select(transmission_types, t_values_types)\n",
    "car_df['transmission_new'].unique()"
   ]
  },
  {
   "cell_type": "code",
   "execution_count": 80,
   "metadata": {},
   "outputs": [],
   "source": [
    "#drop the original transmission field\n",
    "car_df = car_df.drop(columns=['transmission'])"
   ]
  },
  {
   "cell_type": "markdown",
   "metadata": {},
   "source": [
    "<blockquote>Car 'types' that were similar were grouped together in a new 'type_new' field with these final categories: 'sedan', 'pickup_truck', 'coupe', 'crossover', 'mini-van', 'convertible', 'hatchback', 'van', 'offroad'."
   ]
  },
  {
   "cell_type": "code",
   "execution_count": 81,
   "metadata": {},
   "outputs": [
    {
     "data": {
      "text/plain": [
       "array(['sedan', 'pickup_truck', 'coupe', 'crossover', 'mini-van', '',\n",
       "       'convertible', 'hatchback', 'van', 'offroad'], dtype=object)"
      ]
     },
     "execution_count": 81,
     "metadata": {},
     "output_type": "execute_result"
    }
   ],
   "source": [
    "#Combine types to: 'sedan', ('wagon','SUV') and call it 'crossover', ('pickup', 'truck'), 'coupe', 'van', 'mini-van', 'convertible', 'hatchback', 'offroad'\n",
    "car_df['type'] = car_df['type'].fillna('')\n",
    "car_df = car_df[car_df['type'].isin(['sedan', 'SUV', 'pickup', 'coupe', 'van', 'truck','mini-van', 'wagon', 'convertible', 'hatchback','offroad',''])]\n",
    "\n",
    "types = [\n",
    "    (car_df['type'] == \"wagon\") | (car_df['type'] == \"SUV\"),\n",
    "    (car_df['type'] == \"pickup\") | (car_df['type'] == \"truck\"),\n",
    "    (car_df['type'] == \"sedan\"),\n",
    "    (car_df['type'] == \"coupe\"),\n",
    "     (car_df['type'] == \"van\"),\n",
    "    (car_df['type'] == \"mini-van\"),\n",
    "     (car_df['type'] == \"wagon\"),\n",
    "    (car_df['type'] == \"convertible\"),\n",
    "     (car_df['type'] == \"hatchback\"),\n",
    "    (car_df['type'] == \"offroad\"),\n",
    "    (car_df['type'] == \"\")\n",
    "    ]\n",
    "#new condition categories\n",
    "values_types = ['crossover', 'pickup_truck', 'sedan', 'coupe','van','mini-van','wagon','convertible','hatchback','offroad','']\n",
    "#new condition column\n",
    "car_df['type_new'] = np.select(types, values_types)\n",
    "car_df.head()\n",
    "car_df['type_new'].unique()"
   ]
  },
  {
   "cell_type": "code",
   "execution_count": 82,
   "metadata": {},
   "outputs": [],
   "source": [
    "#drop the original type field\n",
    "car_df = car_df.drop(columns=['type'])"
   ]
  },
  {
   "cell_type": "markdown",
   "metadata": {},
   "source": [
    "<blockquote>Paint colors that were similar were grouped together in a new 'paint_color_new' field with these final categories: 'BlSlvrWhGryMsng', 'BluRdBrwn', 'OrYlwGrnPrpl', 'Custom'."
   ]
  },
  {
   "cell_type": "code",
   "execution_count": 83,
   "metadata": {},
   "outputs": [
    {
     "data": {
      "text/plain": [
       "array(['BlSlvrWhGryMsng', 'BluRdBrwn', 'OrYlwGrnPrpl', 'Custom'],\n",
       "      dtype=object)"
      ]
     },
     "execution_count": 83,
     "metadata": {},
     "output_type": "execute_result"
    }
   ],
   "source": [
    "car_df['paint_color'] = car_df['paint_color'].fillna('')\n",
    "paint_color_grps = [\n",
    "    (car_df['paint_color'] == \"black\") | (car_df['paint_color'] == \"silver\") | (car_df['paint_color'] == \"white\")|(car_df['paint_color'] == \"grey\")|(car_df['paint_color'] == '')  ,\n",
    "    (car_df['paint_color'] == \"blue\") | (car_df['paint_color'] == \"red\")| (car_df['paint_color'] == \"brown\"),\n",
    "    (car_df['paint_color'] == \"orange\")| (car_df['paint_color'] == \"yellow\")| (car_df['paint_color'] == \"green\")| (car_df['paint_color'] == \"purple\"),\n",
    "    (car_df['paint_color'] == \"custom\")\n",
    "    ]\n",
    "#new paint groups\n",
    "values_paint = ['BlSlvrWhGryMsng', 'BluRdBrwn', 'OrYlwGrnPrpl', 'Custom']\n",
    "#new condition column\n",
    "car_df['paint_color_new'] = np.select(paint_color_grps, values_paint)\n",
    "car_df['paint_color_new'].unique()"
   ]
  },
  {
   "cell_type": "code",
   "execution_count": 85,
   "metadata": {},
   "outputs": [],
   "source": [
    "#drop the original color field\n",
    "car_df = car_df.drop(columns=['paint_color'])"
   ]
  },
  {
   "cell_type": "markdown",
   "metadata": {},
   "source": [
    "### Outliers (Sam)"
   ]
  },
  {
   "cell_type": "markdown",
   "metadata": {},
   "source": [
    "<blockquote>Price, year, and odometer had some major outliers.  A lot of the extreme outliers seemed to be mistakes (e.g., 3.5 billion for price, 1900 for year)."
   ]
  },
  {
   "cell_type": "code",
   "execution_count": 86,
   "metadata": {},
   "outputs": [
    {
     "data": {
      "text/html": [
       "<div>\n",
       "<style scoped>\n",
       "    .dataframe tbody tr th:only-of-type {\n",
       "        vertical-align: middle;\n",
       "    }\n",
       "\n",
       "    .dataframe tbody tr th {\n",
       "        vertical-align: top;\n",
       "    }\n",
       "\n",
       "    .dataframe thead th {\n",
       "        text-align: right;\n",
       "    }\n",
       "</style>\n",
       "<table border=\"1\" class=\"dataframe\">\n",
       "  <thead>\n",
       "    <tr style=\"text-align: right;\">\n",
       "      <th></th>\n",
       "      <th>price</th>\n",
       "      <th>year</th>\n",
       "      <th>odometer</th>\n",
       "      <th>lat</th>\n",
       "      <th>long</th>\n",
       "    </tr>\n",
       "  </thead>\n",
       "  <tbody>\n",
       "    <tr>\n",
       "      <th>count</th>\n",
       "      <td>2.128020e+05</td>\n",
       "      <td>212802.000000</td>\n",
       "      <td>1.985190e+05</td>\n",
       "      <td>211215.000000</td>\n",
       "      <td>211215.000000</td>\n",
       "    </tr>\n",
       "    <tr>\n",
       "      <th>mean</th>\n",
       "      <td>3.355408e+04</td>\n",
       "      <td>2010.441598</td>\n",
       "      <td>1.104678e+05</td>\n",
       "      <td>38.395857</td>\n",
       "      <td>-92.308214</td>\n",
       "    </tr>\n",
       "    <tr>\n",
       "      <th>std</th>\n",
       "      <td>7.851070e+06</td>\n",
       "      <td>8.232600</td>\n",
       "      <td>4.597048e+06</td>\n",
       "      <td>5.412881</td>\n",
       "      <td>16.922725</td>\n",
       "    </tr>\n",
       "    <tr>\n",
       "      <th>min</th>\n",
       "      <td>0.000000e+00</td>\n",
       "      <td>1900.000000</td>\n",
       "      <td>0.000000e+00</td>\n",
       "      <td>-81.702792</td>\n",
       "      <td>-159.713745</td>\n",
       "    </tr>\n",
       "    <tr>\n",
       "      <th>25%</th>\n",
       "      <td>5.100000e+03</td>\n",
       "      <td>2007.000000</td>\n",
       "      <td>4.312350e+04</td>\n",
       "      <td>34.830000</td>\n",
       "      <td>-104.516117</td>\n",
       "    </tr>\n",
       "    <tr>\n",
       "      <th>50%</th>\n",
       "      <td>1.090000e+04</td>\n",
       "      <td>2012.000000</td>\n",
       "      <td>9.258200e+04</td>\n",
       "      <td>39.150700</td>\n",
       "      <td>-86.457410</td>\n",
       "    </tr>\n",
       "    <tr>\n",
       "      <th>75%</th>\n",
       "      <td>1.999500e+04</td>\n",
       "      <td>2016.000000</td>\n",
       "      <td>1.391290e+05</td>\n",
       "      <td>42.260000</td>\n",
       "      <td>-80.227700</td>\n",
       "    </tr>\n",
       "    <tr>\n",
       "      <th>max</th>\n",
       "      <td>3.615215e+09</td>\n",
       "      <td>2021.000000</td>\n",
       "      <td>2.043756e+09</td>\n",
       "      <td>70.160259</td>\n",
       "      <td>150.898969</td>\n",
       "    </tr>\n",
       "  </tbody>\n",
       "</table>\n",
       "</div>"
      ],
      "text/plain": [
       "              price           year      odometer            lat           long\n",
       "count  2.128020e+05  212802.000000  1.985190e+05  211215.000000  211215.000000\n",
       "mean   3.355408e+04  2010.441598    1.104678e+05  38.395857     -92.308214    \n",
       "std    7.851070e+06  8.232600       4.597048e+06  5.412881       16.922725    \n",
       "min    0.000000e+00  1900.000000    0.000000e+00 -81.702792     -159.713745   \n",
       "25%    5.100000e+03  2007.000000    4.312350e+04  34.830000     -104.516117   \n",
       "50%    1.090000e+04  2012.000000    9.258200e+04  39.150700     -86.457410    \n",
       "75%    1.999500e+04  2016.000000    1.391290e+05  42.260000     -80.227700    \n",
       "max    3.615215e+09  2021.000000    2.043756e+09  70.160259      150.898969   "
      ]
     },
     "execution_count": 86,
     "metadata": {},
     "output_type": "execute_result"
    }
   ],
   "source": [
    "car_df.describe()"
   ]
  },
  {
   "cell_type": "markdown",
   "metadata": {},
   "source": [
    "Price"
   ]
  },
  {
   "cell_type": "code",
   "execution_count": 88,
   "metadata": {},
   "outputs": [],
   "source": [
    "#remove extreme outliers for price and entries that seem to be dummy prices\n",
    "car_df=car_df[car_df['price'] < 4000000] \n",
    "car_df = car_df.drop(car_df[(car_df.price == 1111111) | (car_df.price == 123456) | (car_df.price == 9999999)].index)\n",
    "\n",
    "# Using quantile to remove outlier in column \"price\"\n",
    "q_hi=car_df['price'].quantile(0.99)\n",
    "q_low=car_df['price'].quantile(0.01)\n",
    "car_df=car_df[(car_df['price']<q_hi)&(car_df['price']>q_low)]"
   ]
  },
  {
   "cell_type": "markdown",
   "metadata": {},
   "source": [
    "Year"
   ]
  },
  {
   "cell_type": "code",
   "execution_count": 89,
   "metadata": {},
   "outputs": [
    {
     "data": {
      "text/plain": [
       "count    200277.000000\n",
       "mean     5.157389     \n",
       "std      2.099203     \n",
       "min      0.050092     \n",
       "25%      4.072290     \n",
       "50%      5.157441     \n",
       "75%      7.024218     \n",
       "max      7.725003     \n",
       "Name: percent, dtype: float64"
      ]
     },
     "execution_count": 89,
     "metadata": {},
     "output_type": "execute_result"
    }
   ],
   "source": [
    "a = car_df['year'].value_counts() / len(car_df) * 100\n",
    "a=pd.DataFrame(a).reset_index()\n",
    "a.columns=['year','percent']\n",
    "car_df=pd.merge(car_df,a,on='year')\n",
    "car_df= car_df[car_df['percent']>0.05]\n",
    "car_df['percent'].describe()"
   ]
  },
  {
   "cell_type": "markdown",
   "metadata": {},
   "source": [
    "Odometer"
   ]
  },
  {
   "cell_type": "code",
   "execution_count": 90,
   "metadata": {},
   "outputs": [],
   "source": [
    "car_df = car_df[car_df['odometer'] < 1000000]"
   ]
  },
  {
   "cell_type": "code",
   "execution_count": 97,
   "metadata": {},
   "outputs": [
    {
     "data": {
      "image/png": "[encoded data removed]",
      "text/plain": [
       "<Figure size 864x576 with 3 Axes>"
      ]
     },
     "metadata": {
      "needs_background": "light"
     },
     "output_type": "display_data"
    }
   ],
   "source": [
    "# boxplots after removing the outliers\n",
    "fig, axs = plt.subplots(ncols=3, figsize=(12,8))\n",
    "sns.boxplot(y=car_df['price'], ax=axs[0])\n",
    "sns.boxplot(y=car_df['year'], ax=axs[1])\n",
    "sns.boxplot(y=car_df['odometer'], ax=axs[2])\n",
    "plt.show()"
   ]
  },
  {
   "cell_type": "code",
   "execution_count": 92,
   "metadata": {},
   "outputs": [
    {
     "name": "stdout",
     "output_type": "stream",
     "text": [
      "<class 'pandas.core.frame.DataFrame'>\n",
      "Int64Index: 187546 entries, 0 to 201114\n",
      "Data columns (total 19 columns):\n",
      "price               187546 non-null int64\n",
      "year                187546 non-null float64\n",
      "manufacturer        187546 non-null object\n",
      "model               187546 non-null object\n",
      "cylinders           178865 non-null object\n",
      "fuel                187546 non-null object\n",
      "odometer            187546 non-null float64\n",
      "title_status        187546 non-null object\n",
      "drive               187546 non-null object\n",
      "state               187546 non-null object\n",
      "lat                 186017 non-null float64\n",
      "long                186017 non-null float64\n",
      "posting_date        187546 non-null object\n",
      "price_range$        187546 non-null category\n",
      "condition_new       187546 non-null object\n",
      "transmission_new    187546 non-null object\n",
      "type_new            187546 non-null object\n",
      "paint_color_new     187546 non-null object\n",
      "percent             187546 non-null float64\n",
      "dtypes: category(1), float64(5), int64(1), object(12)\n",
      "memory usage: 27.4+ MB\n"
     ]
    }
   ],
   "source": [
    "car_df.info()"
   ]
  },
  {
   "cell_type": "markdown",
   "metadata": {},
   "source": [
    "### Other cleanup"
   ]
  },
  {
   "cell_type": "markdown",
   "metadata": {},
   "source": [
    "<blockquote>After the merge with the Dept. of Transportation data, the cyclinders were repeated in different formats.  This column was converted to an int. "
   ]
  },
  {
   "cell_type": "code",
   "execution_count": 93,
   "metadata": {},
   "outputs": [],
   "source": [
    "## fill null with Z and remove later\n",
    "car_df['cylinders'] = car_df['cylinders'].fillna('Z')"
   ]
  },
  {
   "cell_type": "code",
   "execution_count": 94,
   "metadata": {
    "scrolled": true
   },
   "outputs": [],
   "source": [
    "# transform cylinders to integer format\n",
    "car_df.drop(car_df[car_df['cylinders']=='Z'].index,inplace=True)\n",
    "car_df.drop(car_df[car_df['cylinders']=='other'].index,inplace=True)\n",
    "car_df['cylinders'] = car_df['cylinders'].astype('int64')"
   ]
  },
  {
   "cell_type": "code",
   "execution_count": 95,
   "metadata": {},
   "outputs": [
    {
     "data": {
      "text/plain": [
       "array([ 4,  8,  6,  5,  2,  3, 10, 12,  1], dtype=int64)"
      ]
     },
     "execution_count": 95,
     "metadata": {},
     "output_type": "execute_result"
    }
   ],
   "source": [
    "car_df['cylinders'].unique()"
   ]
  },
  {
   "cell_type": "markdown",
   "metadata": {},
   "source": [
    "<blockquote>The Harley-Davidsons were removed since they are motorcycles and this study is focused on cars.  Morgans were removed as well."
   ]
  },
  {
   "cell_type": "code",
   "execution_count": 96,
   "metadata": {},
   "outputs": [],
   "source": [
    "# drop \"harley-davidson\" and \"morgan\"\n",
    "car_df = car_df.drop(car_df[(car_df.manufacturer == \"harley-davidson\") | (car_df.manufacturer == \"morgan\")].index)"
   ]
  },
  {
   "cell_type": "markdown",
   "metadata": {},
   "source": [
    "<blockquote>The \"posting_date\" was converted to a datetime object.  This will be used to derive a new column for the age of the car in the New Features section."
   ]
  },
  {
   "cell_type": "code",
   "execution_count": 35,
   "metadata": {},
   "outputs": [],
   "source": [
    "#convert posting_date to datetime object\n",
    "car_df['posting_date'] = car_df['posting_date'].astype('datetime64[ns]')"
   ]
  },
  {
   "cell_type": "markdown",
   "metadata": {},
   "source": [
    "### Simple Statistics (Rudranil)\n",
    "Visualize appropriate statistics (e.g., range, mode, mean, median, variance, counts) for a subset of attributes. Describe anything meaningful you found from this or if you found something potentially interesting. Note: You can also use data from other sources for comparison. Explain why the statistics run are meaningful. "
   ]
  },
  {
   "cell_type": "code",
   "execution_count": 36,
   "metadata": {},
   "outputs": [
    {
     "data": {
      "text/html": [
       "<div>\n",
       "<style scoped>\n",
       "    .dataframe tbody tr th:only-of-type {\n",
       "        vertical-align: middle;\n",
       "    }\n",
       "\n",
       "    .dataframe tbody tr th {\n",
       "        vertical-align: top;\n",
       "    }\n",
       "\n",
       "    .dataframe thead th {\n",
       "        text-align: right;\n",
       "    }\n",
       "</style>\n",
       "<table border=\"1\" class=\"dataframe\">\n",
       "  <thead>\n",
       "    <tr style=\"text-align: right;\">\n",
       "      <th></th>\n",
       "      <th>price</th>\n",
       "      <th>year</th>\n",
       "      <th>cylinders</th>\n",
       "      <th>odometer</th>\n",
       "      <th>lat</th>\n",
       "      <th>long</th>\n",
       "      <th>percent</th>\n",
       "    </tr>\n",
       "  </thead>\n",
       "  <tbody>\n",
       "    <tr>\n",
       "      <th>count</th>\n",
       "      <td>178505.000000</td>\n",
       "      <td>178505.00000</td>\n",
       "      <td>178505.000000</td>\n",
       "      <td>178505.000000</td>\n",
       "      <td>176966.000000</td>\n",
       "      <td>176973.000000</td>\n",
       "      <td>178505.000000</td>\n",
       "    </tr>\n",
       "    <tr>\n",
       "      <th>mean</th>\n",
       "      <td>14540.671107</td>\n",
       "      <td>2010.77962</td>\n",
       "      <td>5.804868</td>\n",
       "      <td>99492.217428</td>\n",
       "      <td>38.485166</td>\n",
       "      <td>-92.079877</td>\n",
       "      <td>5.209461</td>\n",
       "    </tr>\n",
       "    <tr>\n",
       "      <th>std</th>\n",
       "      <td>10920.180690</td>\n",
       "      <td>6.70603</td>\n",
       "      <td>1.608285</td>\n",
       "      <td>65597.100468</td>\n",
       "      <td>5.414029</td>\n",
       "      <td>16.804180</td>\n",
       "      <td>2.066219</td>\n",
       "    </tr>\n",
       "    <tr>\n",
       "      <th>min</th>\n",
       "      <td>1.000000</td>\n",
       "      <td>1964.00000</td>\n",
       "      <td>1.000000</td>\n",
       "      <td>0.000000</td>\n",
       "      <td>18.278511</td>\n",
       "      <td>-159.713745</td>\n",
       "      <td>0.050092</td>\n",
       "    </tr>\n",
       "    <tr>\n",
       "      <th>25%</th>\n",
       "      <td>5990.000000</td>\n",
       "      <td>2007.00000</td>\n",
       "      <td>4.000000</td>\n",
       "      <td>46608.000000</td>\n",
       "      <td>34.868800</td>\n",
       "      <td>-99.077900</td>\n",
       "      <td>4.072290</td>\n",
       "    </tr>\n",
       "    <tr>\n",
       "      <th>50%</th>\n",
       "      <td>11500.000000</td>\n",
       "      <td>2012.00000</td>\n",
       "      <td>6.000000</td>\n",
       "      <td>95784.000000</td>\n",
       "      <td>39.319607</td>\n",
       "      <td>-86.236775</td>\n",
       "      <td>5.157441</td>\n",
       "    </tr>\n",
       "    <tr>\n",
       "      <th>75%</th>\n",
       "      <td>20990.000000</td>\n",
       "      <td>2016.00000</td>\n",
       "      <td>8.000000</td>\n",
       "      <td>141300.000000</td>\n",
       "      <td>42.300673</td>\n",
       "      <td>-80.183000</td>\n",
       "      <td>7.024218</td>\n",
       "    </tr>\n",
       "    <tr>\n",
       "      <th>max</th>\n",
       "      <td>52985.000000</td>\n",
       "      <td>2020.00000</td>\n",
       "      <td>12.000000</td>\n",
       "      <td>999999.000000</td>\n",
       "      <td>64.993698</td>\n",
       "      <td>-67.382100</td>\n",
       "      <td>7.725003</td>\n",
       "    </tr>\n",
       "  </tbody>\n",
       "</table>\n",
       "</div>"
      ],
      "text/plain": [
       "               price          year      cylinders       odometer  \\\n",
       "count  178505.000000  178505.00000  178505.000000  178505.000000   \n",
       "mean   14540.671107   2010.77962    5.804868       99492.217428    \n",
       "std    10920.180690   6.70603       1.608285       65597.100468    \n",
       "min    1.000000       1964.00000    1.000000       0.000000        \n",
       "25%    5990.000000    2007.00000    4.000000       46608.000000    \n",
       "50%    11500.000000   2012.00000    6.000000       95784.000000    \n",
       "75%    20990.000000   2016.00000    8.000000       141300.000000   \n",
       "max    52985.000000   2020.00000    12.000000      999999.000000   \n",
       "\n",
       "                 lat           long        percent  \n",
       "count  176966.000000  176973.000000  178505.000000  \n",
       "mean   38.485166     -92.079877      5.209461       \n",
       "std    5.414029       16.804180      2.066219       \n",
       "min    18.278511     -159.713745     0.050092       \n",
       "25%    34.868800     -99.077900      4.072290       \n",
       "50%    39.319607     -86.236775      5.157441       \n",
       "75%    42.300673     -80.183000      7.024218       \n",
       "max    64.993698     -67.382100      7.725003       "
      ]
     },
     "execution_count": 36,
     "metadata": {},
     "output_type": "execute_result"
    }
   ],
   "source": [
    "car_df.describe()"
   ]
  },
  {
   "cell_type": "markdown",
   "metadata": {},
   "source": [
    "### Visualize Attributes (Simerpreet)\n",
    "Visualize the most interesting attributes (at least 5 attributes, your opinion on what is interesting). Important: Interpret the implications for each visualization. Explain for each attribute why the chosen visualization is appropriate."
   ]
  },
  {
   "cell_type": "code",
   "execution_count": null,
   "metadata": {},
   "outputs": [],
   "source": [
    "#Plot Used cars distribution in by car type\n",
    "plt.subplots(figsize = (11,7))\n",
    "car_df['type_new'].hist(bins=100)\n",
    "plt.title(\"Used cars distribution by car 'Type'\", fontsize=18)\n",
    "plt.xlabel('Car Type', fontsize=16)\n",
    "plt.ylabel('Number of Cars', fontsize=16)"
   ]
  },
  {
   "cell_type": "code",
   "execution_count": null,
   "metadata": {},
   "outputs": [],
   "source": [
    "#Histogram for Numbers of cars in each price range by drive\n",
    "fig, ax = plt.subplots(figsize = (16,7))\n",
    "sns.set_theme(style=\"whitegrid\")\n",
    "plt.title(\"Car 'Type' distribution by Drive\", fontsize=18)\n",
    "ax = sns.barplot(y=\"price\", x=\"drive\", data=car_df)\n",
    "ax.set_ylabel('Price', fontsize = 18)\n",
    "ax.set_xlabel ('Drive', fontsize = 18)"
   ]
  },
  {
   "cell_type": "code",
   "execution_count": null,
   "metadata": {},
   "outputs": [],
   "source": [
    "#Histogram for Numbers of cars in each price range by car condition\n",
    "fig, ax = plt.subplots(figsize = (11,7))\n",
    "sns.set_theme(style=\"whitegrid\")\n",
    "plt.title(\"Distribution of cars by their 'Condition' and Price\", fontsize=18)\n",
    "ax = sns.barplot(y=\"price\", x=\"condition\", data=car_df)\n",
    "ax.set_ylabel('Price', fontsize = 18)\n",
    "ax.set_xlabel (' Car Condition', fontsize = 18)"
   ]
  },
  {
   "cell_type": "code",
   "execution_count": null,
   "metadata": {},
   "outputs": [],
   "source": [
    "#Plot Used cars distribution in by Car Type_new\n",
    "fig, ax1 = plt.subplots(figsize = (13,9))\n",
    "ax1 = sns.histplot(x=\"type_new\",hue='price_range$', data=car_df)\n",
    "ax1.set_ylabel('Number of Cars', fontsize = 18)\n",
    "ax1.set_xlabel ('Car Type', fontsize = 18)\n",
    "plt.title(\"Car 'Type' distribution by Price range\", fontsize=18)"
   ]
  },
  {
   "cell_type": "code",
   "execution_count": null,
   "metadata": {},
   "outputs": [],
   "source": [
    "#Histogram for Numbers of cars in each price range by color of the car\n",
    "fig, ax = plt.subplots(figsize = (11,7))\n",
    "sns.set_theme(style=\"whitegrid\")\n",
    "#tips = sns.load_dataset(\"tips\")\n",
    "ax = sns.barplot(y=\"price\", x=\"paint_color\", data=car_df)\n",
    "ax.set_ylabel('Price', fontsize = 18)\n",
    "ax.set_xlabel ('Paint Color', fontsize = 18)"
   ]
  },
  {
   "cell_type": "code",
   "execution_count": null,
   "metadata": {},
   "outputs": [],
   "source": [
    "#Histogram for Numbers of cars in each price range by color of the car\n",
    "fig, ax = plt.subplots(figsize = (11,7))\n",
    "sns.set_theme(style=\"whitegrid\")\n",
    "#tips = sns.load_dataset(\"tips\")\n",
    "ax = sns.barplot(y=\"price\", x=\"paint_color_new\", hue='condition_new',data=car_df)\n",
    "ax.set_ylabel('price', fontsize = 18)\n",
    "ax.set_xlabel ('Paint Color', fontsize = 18)"
   ]
  },
  {
   "cell_type": "code",
   "execution_count": null,
   "metadata": {},
   "outputs": [],
   "source": [
    "#Plot Used cars distribution by State\n",
    "fig, ax1 = plt.subplots(figsize = (18,9))\n",
    "ax1 = sns.histplot(x=\"state\", data=car_df)\n",
    "ax1.set_ylabel('Number of Cars', fontsize = 18)\n",
    "ax1.set_xlabel ('State', fontsize = 18)\n",
    "plt.title(\"Used cars distribution by State\", fontsize=18)"
   ]
  },
  {
   "cell_type": "code",
   "execution_count": null,
   "metadata": {},
   "outputs": [],
   "source": [
    "#Plot Used cars distribution by State and price range\n",
    "fig, ax1 = plt.subplots(figsize = (13,9))\n",
    "ax1 = sns.histplot(x=\"state\",hue='price_range$', data=car_df)\n",
    "ax1.set_ylabel('Number of Cars', fontsize = 18)\n",
    "ax1.set_xlabel ('State', fontsize = 18)\n",
    "plt.title(\"Used cars distribution by State and price range\", fontsize=18)"
   ]
  },
  {
   "cell_type": "code",
   "execution_count": null,
   "metadata": {},
   "outputs": [],
   "source": [
    "#Plot Used cars distribution by car_Age_in_yrs\n",
    "fig, ax1 = plt.subplots(figsize = (13,9))\n",
    "ax1 = sns.histplot(x=\"car_Age_in_yrs\",hue='price_range$', data=car_df)\n",
    "ax1.set_ylabel('Number of Cars', fontsize = 18)\n",
    "ax1.set_xlabel ('car_Age_in_yrs', fontsize = 18)\n",
    "plt.title(\"Used cars distribution by car_Age_in_yrs and price range\", fontsize=18)"
   ]
  },
  {
   "cell_type": "code",
   "execution_count": null,
   "metadata": {},
   "outputs": [],
   "source": [
    "#Plot Used cars distribution in each price range\n",
    "plt.subplots(figsize = (11,7))\n",
    "car_df['price_range$'].hist(bins=100)\n",
    "plt.title('Used cars distribution in each price range', fontsize=18)\n",
    "plt.xlabel('Price Range$', fontsize=16)\n",
    "plt.ylabel('Number of Cars', fontsize=16)"
   ]
  },
  {
   "cell_type": "markdown",
   "metadata": {},
   "source": [
    "### Explore Joint Attributes (Simerpreet)\n",
    "Visualize relationships between attributes: Look at the attributes via scatter plots, correlation, cross-tabulation, group-wise averages, etc. as appropriate. Explain any interesting relationships."
   ]
  },
  {
   "cell_type": "code",
   "execution_count": null,
   "metadata": {},
   "outputs": [],
   "source": [
    "# Basic correlogram\n",
    "sns.pairplot(car_df)\n",
    "#sns.plt.show()"
   ]
  },
  {
   "cell_type": "markdown",
   "metadata": {},
   "source": [
    "### Explore Attributes and Class (Kristi)\n",
    "Identify and explain interesting relationships between features and the class you are trying to predict (i.e., relationships with variables and the target classification)."
   ]
  },
  {
   "cell_type": "code",
   "execution_count": null,
   "metadata": {},
   "outputs": [],
   "source": [
    "#Car'Type' distribution by Price\n",
    "fig, ax = plt.subplots(figsize = (15,7))\n",
    "sns.set_theme(style=\"whitegrid\")\n",
    "plt.title(\"Car 'Type' distribution by Price\", fontsize=18)\n",
    "ax = sns.barplot(y=\"price\", x=\"type_new\", data=car_df)\n",
    "ax.set_ylabel('Price', fontsize = 18)\n",
    "ax.set_xlabel ('Car Type', fontsize = 18)"
   ]
  },
  {
   "cell_type": "code",
   "execution_count": null,
   "metadata": {},
   "outputs": [],
   "source": [
    "# Draw Seaborn Scatter Plot to find relationship between age and fare\n",
    "sns.scatterplot(y = \"price\", x = \"odometer\",hue=\"type_new\", data = car_df)"
   ]
  },
  {
   "cell_type": "code",
   "execution_count": null,
   "metadata": {},
   "outputs": [],
   "source": [
    "# Draw Seaborn Scatter Plot to find relationship between age and fare\n",
    "sns.scatterplot(y = \"price\", x = \"odometer\", data = car_df)"
   ]
  },
  {
   "cell_type": "code",
   "execution_count": null,
   "metadata": {},
   "outputs": [],
   "source": [
    "#Car'Type' distribution by Price\n",
    "fig, ax = plt.subplots(figsize = (15,7))\n",
    "sns.set_theme(style=\"whitegrid\")\n",
    "plt.title(\"Car 'Type' distribution by Price\", fontsize=18)\n",
    "ax = sns.barplot(y=\"price\", x=\"type_new\", data=car_df)\n",
    "ax.set_ylabel('Price', fontsize = 18)\n",
    "ax.set_xlabel ('Car Type', fontsize = 18)"
   ]
  },
  {
   "cell_type": "code",
   "execution_count": null,
   "metadata": {},
   "outputs": [],
   "source": [
    "#Car'Type' distribution by Price\n",
    "fig, ax = plt.subplots(figsize = (15,7))\n",
    "sns.set_theme(style=\"whitegrid\")\n",
    "plt.title(\"Car 'Type' distribution by Price\", fontsize=18)\n",
    "ax = sns.barplot(y=\"price\", x=\"type_new\",hue=\"condition_new\", data=car_df)\n",
    "ax.set_ylabel('Price', fontsize = 18)\n",
    "ax.set_xlabel ('Car Type', fontsize = 18)"
   ]
  },
  {
   "cell_type": "code",
   "execution_count": null,
   "metadata": {},
   "outputs": [],
   "source": [
    "table=pd.crosstab(car_df['condition_new'],car_df['price_range$'])\n",
    "table.div(table.sum(1).astype(float),axis=0).plot(kind='bar',stacked=True, figsize=(12,6),)"
   ]
  },
  {
   "cell_type": "code",
   "execution_count": null,
   "metadata": {},
   "outputs": [],
   "source": [
    "#Car'Type' distribution by Price\n",
    "fig, ax = plt.subplots(figsize = (15,7))\n",
    "sns.set_theme(style=\"whitegrid\")\n",
    "plt.title(\"Car 'Type' distribution by Price\", fontsize=18)\n",
    "ax = sns.barplot(y=\"price\", x=\"type_new\",hue=\"manufacturer\", data=car_df)\n",
    "ax.set_ylabel('Price', fontsize = 18)\n",
    "ax.set_xlabel ('Car Type', fontsize = 18)"
   ]
  },
  {
   "cell_type": "code",
   "execution_count": null,
   "metadata": {},
   "outputs": [],
   "source": [
    "# Draw Seaborn Scatter Plot to find relationship between age and fare\n",
    "sns.scatterplot(y = \"price\", x = \"car_Age_in_yrs\", data = car_df)"
   ]
  },
  {
   "cell_type": "code",
   "execution_count": null,
   "metadata": {},
   "outputs": [],
   "source": [
    "#Plot Used cars distribution in each price range\n",
    "plt.subplots(figsize = (11,7))\n",
    "car_df['price_range$'].hist(bins=100)\n",
    "plt.title('Used cars distribution in each price range', fontsize=18)\n",
    "plt.xlabel('Price Range$', fontsize=16)\n",
    "plt.ylabel('Number of Cars', fontsize=16)"
   ]
  },
  {
   "cell_type": "code",
   "execution_count": null,
   "metadata": {},
   "outputs": [],
   "source": [
    "#Histogram for Numbers of cars in each price range by car type_new\n",
    "fig, ax = plt.subplots(figsize = (11,7))\n",
    "sns.set_theme(style=\"whitegrid\")\n",
    "plt.title(\"Car 'Type' distribution by Price\", fontsize=18)\n",
    "ax = sns.barplot(y=\"price\", x=\"type_new\", data=car_df)\n",
    "ax.set_ylabel('Price', fontsize = 18)\n",
    "ax.set_xlabel ('Car Type', fontsize = 18)"
   ]
  },
  {
   "cell_type": "markdown",
   "metadata": {},
   "source": [
    "### <a id=\"New-Features\">New Features (Sam)</a>\n",
    "Are there other features that could be added to the data or created from existing features? Which ones?\n",
    "* Age in years\n",
    "* Add details for OHE"
   ]
  },
  {
   "cell_type": "code",
   "execution_count": null,
   "metadata": {},
   "outputs": [],
   "source": [
    "car_df['car_Age_in_yrs'] = car_df['posting_date'].dt.year - car_df['year']"
   ]
  },
  {
   "cell_type": "code",
   "execution_count": 38,
   "metadata": {
    "scrolled": true
   },
   "outputs": [
    {
     "ename": "NameError",
     "evalue": "name 'car_df1' is not defined",
     "output_type": "error",
     "traceback": [
      "\u001b[1;31m---------------------------------------------------------------------------\u001b[0m",
      "\u001b[1;31mNameError\u001b[0m                                 Traceback (most recent call last)",
      "\u001b[1;32m<ipython-input-38-68ba49d790a6>\u001b[0m in \u001b[0;36m<module>\u001b[1;34m\u001b[0m\n\u001b[1;32m----> 1\u001b[1;33m car_df2=pd.get_dummies(car_df1[[ 'price', 'year', 'manufacturer', 'model', 'condition_new',\n\u001b[0m\u001b[0;32m      2\u001b[0m        \u001b[1;34m'fuel'\u001b[0m\u001b[1;33m,\u001b[0m \u001b[1;34m'odometer'\u001b[0m\u001b[1;33m,\u001b[0m \u001b[1;34m'title_status'\u001b[0m\u001b[1;33m,\u001b[0m \u001b[1;34m'transmission'\u001b[0m\u001b[1;33m,\u001b[0m \u001b[1;34m'drive'\u001b[0m\u001b[1;33m,\u001b[0m\u001b[1;33m\u001b[0m\u001b[0m\n\u001b[0;32m      3\u001b[0m        'size', 'type', 'paint_color', 'cylinders']])\n",
      "\u001b[1;31mNameError\u001b[0m: name 'car_df1' is not defined"
     ]
    }
   ],
   "source": [
    "car_df2=pd.get_dummies(car_df1[[ 'price', 'year', 'manufacturer', 'model', 'condition_new',\n",
    "       'fuel', 'odometer', 'title_status', 'transmission', 'drive',\n",
    "       'size', 'type', 'paint_color', 'cylinders']])"
   ]
  },
  {
   "cell_type": "markdown",
   "metadata": {},
   "source": [
    "<a id='exceptional'></a>\n",
    "\n",
    "### Exceptional Work\n",
    "\n",
    "There were columns in the dataset that had missing values. We extracted the information for these columns using the U.S. Department Of Transportation VIN API. (https://vpic.nhtsa.dot.gov/api/). As a valid VIN number is needed to extract information from this API the entire dataset could not be cleanup as many instances were missing VIN number. The following columns were extracted from the VIN API. A scraper was built to call a ReST endpoint and write the details to a file, which was later joined to the original dataset.\n",
    "\n",
    "\n",
    "\n",
    "| Attribute | Attribute Description | Imputed Column in the Original Dataset |\n",
    "| --- | --- | --- | \n",
    "|VIN | Unique Vehicle Indentifier for a car | Not Mapped. Used for perform join on dataset\n",
    "| DriveType | Front Wheel Drive, Rear Wheel Drive, All Wheel Drive, etc.| drive\n",
    "| EngineCylinders | Number of cylinders in the car| cylinders\n",
    "| EngineManufacturer | Manufacturer Name, for example Ford, GM, etc.| Not Mapped\n",
    "| EngineModel | The model of the engine | Not Mapped\n",
    "| Make | Make of the car. For example Toyota, Hyundai, etc. | Not Mapped \n",
    "| Manufacturer | Same as engine Manufacturer, but more detailed name | Not Mapped \n",
    "| Model | Model of the car. For example Camry, Sonata, etc.| model\n",
    "| ModelYear | Model when the car was released| year\n",
    "| PlantCompanyName | Plant where the engine was manufactured| Not Mapped\n",
    "| TransmissionSpeeds | How many transmissions are present in the car, for Example 4 Speed, 6 Speed etc.|  Not Mapped |\n",
    "| TransmissionStyle | Kind of transmission. For example, Automatic , Manual, CVT, etc.| transmission |\n",
    "| FuelTypePrimary | Fuel type used in the car. For example, Gasoline ,Diesel, etc.| fuel |\n",
    "\n"
   ]
  },
  {
   "cell_type": "code",
   "execution_count": null,
   "metadata": {},
   "outputs": [],
   "source": [
    "def fetch_vin_details(dataset, attribute):\n",
    "    # List of attributes to filter from the REST response\n",
    "    vin_attributes = [\n",
    "        'VIN',\n",
    "        'DriveType',\n",
    "        'EngineCylinders',\n",
    "        'EngineManufacturer',\n",
    "        'EngineModel',\n",
    "        'Make',\n",
    "        'Manufacturer',\n",
    "        'Model',\n",
    "        'ModelYear',\n",
    "        'PlantCompanyName',\n",
    "        'TransmissionSpeeds',\n",
    "        'TransmissionStyle',\n",
    "        'FuelTypePrimary']\n",
    "\n",
    "    #\n",
    "    row_list = []\n",
    "    request_batch_size = 50\n",
    "    current_fetch_size = 0\n",
    "    vin_details = ''\n",
    "    num_requests = 0\n",
    "\n",
    "    # Create VIN batches so that HTTP requests can be batched to reduce network IO calls for faster processing\n",
    "    for vin in dataset[attribute]:\n",
    "        #\n",
    "        if not pd.isnull(vin):\n",
    "            #\n",
    "            vin_details += vin + ';'\n",
    "            current_fetch_size += 1\n",
    "            #\n",
    "            if current_fetch_size == request_batch_size:\n",
    "                # Introducing a delay to not overload the remote server\n",
    "                if num_requests == 50:\n",
    "                    num_requests = 0\n",
    "                    print(\n",
    "                        'Going to sleep for sometime to avoid connection refused issue')\n",
    "                    time.sleep(2)\n",
    "                # Fetch response from API\n",
    "                rows = create_http_request(vin_details, vin_attributes)\n",
    "                vin_details = ''\n",
    "                current_fetch_size = 0\n",
    "                num_requests += 1\n",
    "                row_list.append(rows)\n",
    "\n",
    "    # Flush out remaining if last fetch size is fewer than the request batch size\n",
    "    if current_fetch_size < request_batch_size:\n",
    "        rows = create_http_request(vin_details, vin_attributes)\n",
    "    row_list.append(rows)\n",
    "\n",
    "    #\n",
    "    return row_list\n",
    "\n",
    "\n",
    "def create_http_request(vin_batch, attributes):\n",
    "    # construct the batched URL for fetching the VIN information from US DOT\n",
    "    header = {\n",
    "        'Accept': \"text/html,application/xhtml+xml,application/xml;q=0.9,image/webp,*/*;q=0.8\",\n",
    "        'Accept-Encoding': \"gzip, deflate, br\",\n",
    "        'Accept-Language': \"en-US,en;q=0.5\",\n",
    "        'Connection': \"keep-alive\",\n",
    "        'Content-Length': \"57\",\n",
    "        'Content-Type': \"application/x-www-form-urlencoded\",\n",
    "        'Host': \"vpic.nhtsa.dot.gov\",\n",
    "        'Origin': \"https://vpic.nhtsa.dot.gov\",\n",
    "        'Referer': \"https://vpic.nhtsa.dot.gov/api/\",\n",
    "        'Upgrade-Insecure-Requests': \"1\",\n",
    "        'User-Agent': \"Mozilla/5.0 (Windows NT 10.0; Win64; x64; rv:84.0) Gecko/20100101 Firefox/84.0\"\n",
    "    }\n",
    "\n",
    "    url = 'https://vpic.nhtsa.dot.gov/api/vehicles/DecodeVINValuesBatch/'\n",
    "\n",
    "    data_dict = {'DATA': vin_batch, 'format': 'JSON'}\n",
    "\n",
    "    # Parse the raw response in JSON format\n",
    "    response_raw = requests.post(\n",
    "        url, headers=header, data=data_dict)\n",
    "\n",
    "    # Parse if we get a sucessfull response, else return a null list\n",
    "    if not response_raw.status_code == requests.codes.ok:\n",
    "        print(\"Unable to get a reponse at {} for url , {} , {} \".format(\n",
    "            datetime.now(), url, response_raw.text))\n",
    "        return []\n",
    "\n",
    "    #\n",
    "    # print(response_raw.text)\n",
    "    response_json = json.loads(response_raw.text)\n",
    "\n",
    "    with open('vin_data.csv', 'a') as file:\n",
    "        # Create a dataframe from the JSON response\n",
    "        rows = []\n",
    "        for elements in range(0, response_json['Count']):\n",
    "            values = []\n",
    "            for key in attributes:\n",
    "                values.append(response_json['Results'][elements][key])\n",
    "            rows.append(values)\n",
    "            file.write(\"|\".join([str(element) for element in values])+\"\\n\")\n",
    "            file.flush()\n",
    "    #\n",
    "    print(\"Fetched {} records from API at {}\".format(len(rows), datetime.now()))\n",
    "    file.close()\n",
    "    #\n",
    "    return rows\n",
    "\n",
    "\n",
    "def unpack_list_to_df(row_list):\n",
    "    #\n",
    "    df_list = []\n",
    "\n",
    "    for indx in range(0, len(row_list)):\n",
    "        for iter in range(0, len(row_list[indx])):\n",
    "            df_list.append(row_list[indx][iter])\n",
    "\n",
    "    #\n",
    "    return pd.DataFrame(df_list, columns=[\n",
    "        'VIN',\n",
    "        'DriveType',\n",
    "        'EngineCylinders',\n",
    "        'EngineManufacturer',\n",
    "        'EngineModel',\n",
    "        'Make',\n",
    "        'Manufacturer',\n",
    "        'Model',\n",
    "        'ModelYear',\n",
    "        'PlantCompanyName',\n",
    "        'TransmissionSpeeds',\n",
    "        'TransmissionStyle',\n",
    "        'FuelTypePrimary'])"
   ]
  },
  {
   "cell_type": "markdown",
   "metadata": {},
   "source": [
    "<hr>"
   ]
  },
  {
   "cell_type": "markdown",
   "metadata": {},
   "source": [
    "Extra Plots (to be moved or deleted)"
   ]
  },
  {
   "cell_type": "code",
   "execution_count": null,
   "metadata": {},
   "outputs": [],
   "source": [
    "#histograms\n",
    "fig, axes = plt.subplots(1, 3, figsize=(14, 6), sharex=False)\n",
    "sns.distplot(car_df['price'] , color=\"skyblue\", ax=axes[0])\n",
    "sns.distplot(car_df['year'] , color=\"skyblue\", ax=axes[1])\n",
    "sns.distplot(car_df['odometer'] , color=\"skyblue\", ax=axes[2])\n"
   ]
  },
  {
   "cell_type": "code",
   "execution_count": 190,
   "metadata": {},
   "outputs": [
    {
     "data": {
      "text/plain": [
       "condition\n",
       "excellent    115201\n",
       "fair         7740  \n",
       "good         115681\n",
       "like new     24551 \n",
       "new          1428  \n",
       "salvage      661   \n",
       "Name: id, dtype: int64"
      ]
     },
     "execution_count": 190,
     "metadata": {},
     "output_type": "execute_result"
    }
   ],
   "source": [
    "#breakdown of car condition\n",
    "car_df.groupby('condition_new')['id'].nunique()"
   ]
  },
  {
   "cell_type": "code",
   "execution_count": 36,
   "metadata": {},
   "outputs": [
    {
     "data": {
      "text/plain": [
       "Text(0, 0.5, 'Frequency')"
      ]
     },
     "execution_count": 36,
     "metadata": {},
     "output_type": "execute_result"
    },
    {
     "data": {
      "image/png": "[encoded data removed]",
      "text/plain": [
       "<Figure size 576x432 with 1 Axes>"
      ]
     },
     "metadata": {
      "needs_background": "light"
     },
     "output_type": "display_data"
    }
   ],
   "source": [
    "#plot the conditions\n",
    "ax = car_df['condition_new'].value_counts().plot(kind='bar',\n",
    "                                    figsize=(8,6),\n",
    "                                    title=\"Condition of Cars\")\n",
    "ax.set_xlabel(\"Condition\")\n",
    "ax.set_ylabel(\"Frequency\")"
   ]
  },
  {
   "cell_type": "code",
   "execution_count": 194,
   "metadata": {},
   "outputs": [
    {
     "data": {
      "text/plain": [
       "count    4.029010e+05\n",
       "mean     1.016679e+05\n",
       "std      3.228658e+06\n",
       "min      0.000000e+00\n",
       "25%      4.087700e+04\n",
       "50%      8.764100e+04\n",
       "75%      1.340000e+05\n",
       "max      2.043756e+09\n",
       "Name: odometer, dtype: float64"
      ]
     },
     "execution_count": 194,
     "metadata": {},
     "output_type": "execute_result"
    }
   ],
   "source": [
    "#odometer\n",
    "car_df['odometer'].describe()"
   ]
  },
  {
   "cell_type": "code",
   "execution_count": 46,
   "metadata": {},
   "outputs": [
    {
     "data": {
      "text/plain": [
       "<matplotlib.axes._subplots.AxesSubplot at 0x2192c355f60>"
      ]
     },
     "execution_count": 46,
     "metadata": {},
     "output_type": "execute_result"
    },
    {
     "data": {
      "image/png": "[encoded data removed]",
      "text/plain": [
       "<Figure size 864x432 with 1 Axes>"
      ]
     },
     "metadata": {
      "needs_background": "light"
     },
     "output_type": "display_data"
    }
   ],
   "source": []
  },
  {
   "cell_type": "code",
   "execution_count": null,
   "metadata": {},
   "outputs": [],
   "source": [
    "#view condition by\n",
    "car_df2.groupby(by=['condition_new']).info()"
   ]
  }
 ],
 "metadata": {
  "celltoolbar": "Raw Cell Format",
  "kernelspec": {
   "display_name": "Python 3",
   "language": "python",
   "name": "python3"
  },
  "language_info": {
   "codemirror_mode": {
    "name": "ipython",
    "version": 3
   },
   "file_extension": ".py",
   "mimetype": "text/x-python",
   "name": "python",
   "nbconvert_exporter": "python",
   "pygments_lexer": "ipython3",
   "version": "3.8.5"
  }
 },
 "nbformat": 4,
 "nbformat_minor": 2
}
