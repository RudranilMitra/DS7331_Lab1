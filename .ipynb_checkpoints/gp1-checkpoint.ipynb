{
 "cells": [
  {
   "cell_type": "markdown",
   "metadata": {},
   "source": [
    "# Lab 1 : Visualization and Data Processing\n",
    "\n",
    "## Group 4 :  Simerpreet Reddy, Rudranil Mitra, Samuel VonPaays Soh, Kristi Herman\n",
    "\n",
    "GitHub Link -> https://github.com/RudranilMitra/DS7331_Lab1\n",
    "\n",
    "\n",
    "---\n",
    "## <font color='darkgreen'> Business Understanding </font>\n",
    "\n",
    "The source selected for this analysis is a Craigslist used car listings dataset from Kaggle:  https://www.kaggle.com/austinreese/craigslist-carstrucks-data<br>  The author of this dataset used web scraping algorithms to scrape the information for used vehicles from all regional Craigslist's sites in the U.S that were posted between 10/28/2020 and 12/3/2020.  The original dataset contained <b>458,213 rows</b> with <b>26 fields</b>. \n",
    "\n",
    "\n",
    "#### <font color='green'>Describe the purpose of the data set you selected (i.e., why was this data collected in the first place?)</font>\n",
    "The purpose of this dataset is to collect data for all used cars and trucks for sale in the U.S. that are listed on Craigslist regional sites.  This dataset was selected to model and predict used car prices and to classify price ranges by categories.  Included in the dataset were other types of vehicles such as buses and motorcycles.  Those records were removed to limit the analysis to cars and trucks only. Those records were removed to limit the analysis to cars and trucks only. In this analysis, any references to \"car\" includes cars and trucks.\n",
    "\n",
    "\n",
    "\n",
    "\n",
    "#### <font color='green'>Describe how you would define and measure the outcomes from the dataset. That is, why is this data important and how do you know if you have mined useful knowledge from the dataset? </font>\n",
    "\n",
    "We will know that we have mined useful knowledge if we are able to come up with a good prediction for used car prices and a classifier for price range predictions. In other words, a good model will be able to find relationships among the predictors and the response variables.  \n",
    "\n",
    "#### <font color='green'>How would you measure the effectiveness of a good prediction algorithm? Be specific. </font>\n",
    "\n",
    "Our goal is to run both both regression and classification algorithms on this dataset. For the regression problem of predicting car prices, RMSE along with k-fold cross validation will be used to determine the effectiveness of the prediction. For the classification problem, k-fold cross validation with accuracy, precision, recall, True Positive Rate, and False Positive Rate will be used to measure the effectiveness of the prediction model. The value for 'k' in cross validation will be determined through hyperparameter tuning during the model building process."
   ]
  },
  {
   "cell_type": "markdown",
   "metadata": {},
   "source": [
    "## Data Meaning Type\n",
    "\n",
    "*Describe the meaning and type of data (scale, values, etc.) for each attribute in the data file.*"
   ]
  },
  {
   "cell_type": "code",
   "execution_count": 1,
   "metadata": {},
   "outputs": [],
   "source": [
    "#import libraries\n",
    "import pandas as pd\n",
    "import numpy as np\n",
    "import matplotlib.pyplot as plt\n",
    "import plotly.express as px\n",
    "import seaborn as sns\n",
    "import requests\n",
    "import json\n",
    "import time\n",
    "import statsmodels.api as sm\n",
    "import statsmodels.stats.multicomp as mc\n",
    "import folium\n",
    "from datetime import datetime\n",
    "from mpl_toolkits.mplot3d import Axes3D\n",
    "from sklearn.base import BaseEstimator, TransformerMixin\n",
    "from statsmodels.formula.api import ols"
   ]
  },
  {
   "cell_type": "code",
   "execution_count": null,
   "metadata": {},
   "outputs": [],
   "source": [
    "#import vehicle dataset\n",
    "orig_df = pd.read_csv('data/vehicles.csv') "
   ]
  },
  {
   "cell_type": "markdown",
   "metadata": {},
   "source": [
    "<blockquote>The original dataset contained <b>458,213 rows</b> with <b>26 fields</b>. "
   ]
  },
  {
   "cell_type": "code",
   "execution_count": null,
   "metadata": {},
   "outputs": [],
   "source": [
    "# Copy original file to car_df to avoid reloading the large file, keep the original dataset in case it is needed. \n",
    "car_df = orig_df.copy()\n",
    "\n",
    "#info\n",
    "car_df.info()"
   ]
  },
  {
   "cell_type": "markdown",
   "metadata": {},
   "source": [
    "<blockquote>These fields(below) were immediately dropped for the following reasons:<br>\n",
    "1) The features were not useful for the two prediction problems in this analysis (id, Unnamed:0, url, image_url, region_url, description)<br>\n",
    "2) There were too many missing values that could not be easily derived (size) <br> \n",
    "3) The features provided similar location information to the \"state\" feature (region, lat, long were dropped and state was kept)"
   ]
  },
  {
   "cell_type": "code",
   "execution_count": null,
   "metadata": {},
   "outputs": [],
   "source": [
    "car_df = car_df.drop(columns=['id', 'Unnamed: 0', 'url', 'image_url',\n",
    "                              'region_url', 'description', 'size', 'region', 'lat', 'long'])"
   ]
  },
  {
   "cell_type": "markdown",
   "metadata": {},
   "source": [
    "<blockquote>This is a more detailed description of the fields that will be used for explanatory and response variables after some transformations are applied in <a href='#dataquality'>Data Quality</a> .  The first two variables listed are the ones that will be predicted - price and price_range. </blockquote> \n",
    "   "
   ]
  },
  {
   "cell_type": "code",
   "execution_count": null,
   "metadata": {},
   "outputs": [],
   "source": [
    "%%html\n",
    "<style>\n",
    "table {float:left}\n",
    "</style>"
   ]
  },
  {
   "cell_type": "markdown",
   "metadata": {},
   "source": [
    "|<p>Field Name|<p>Description|Type|Scale|\n",
    "|:-----|:-----|:-----|:-----|\n",
    "|<p>price |<p>The price of the vehicle in US dollars. |integer |ratio |\n",
    "|<p>price_range |<p>Price category derived from the \"price\" field, e.g., <1,000, 1,000 - 5,000, 5,000 - 10,000, etc. |category |ordinal |\n",
    "|<p>manufacturer |<p>Manufacturer of the vehicle, e.g., honda, jeep, etc.  There are 40 unique values. |category |nominal |\n",
    "|<p>model |<p>Model of the vehicle, e.g., f150, malibue, etc.  There are around 13,000 unique models. |category |nominal |\n",
    "|<p>condition_new |<p>Condition of the car with 4 values (salvage, fair_good, excellent_likenew, new).  This field combined some of the values in the original \"condition\" field. |category |ordinal |\n",
    "|<p>cylinders |<p>Number of cylinders in the car ranging from 2 to 12. |integer |interval |\n",
    "|<p>fuel |<p>Type of fuel with the following categories:  'gas', 'diesel', 'other', 'hybrid', 'electric'. |category |nominal |\n",
    "|<p>odometer |<p>Mileage listed for the vehicle. |integer |ratio |\n",
    "|<p>title_status |<p>The title status is of the vehicle:  'clean', 'lien', 'missing', 'salvage', 'rebuilt', 'parts only'. |category |nominal |\n",
    "|<p>transmission_new |<p>Type of transmission:   'other', 'automatic', 'manual'.  This field combined some of the categories from the original 'transmission' field.  The 'other' category includes semi-automatic and dual clutch vehicles. |category |nominal |\n",
    "|<p>drive_new |<p>Type of drive: ' rwd', 'fwd', '4wd', 'other'. |category |nominal |\n",
    "|<p>type_new |<p>Type of vehicle with 9 categories after combining some from the original types:  'sedan', 'pickup_truck', 'coupe', 'crossover', 'mini-van','convertible', 'hatchback', 'van', 'offroad'. |category |nominal |\n",
    "|<p>paint_color_new |<p>Color of the vehicle with 4 categories after combining some from the original colors:   'BlSlvrWhGryMsng', 'BluRdBrwn', 'OrYlwGrnPrpl', 'Custom'. |category |nominal \n",
    "|<p>state |<p>State the vehicle is being sold in.  All 50 states are represented as well as a category for D.C. |category |nominal |\n",
    "|<p>car_Age_in_yrs |<p>Derived by subtracting the original year of the vehicle from the date of the Craigslist posting. |integer |ratio |"
   ]
  },
  {
   "cell_type": "markdown",
   "metadata": {},
   "source": [
    "All the categorical variables will be One Hot Encoded in the [New Features](#New-Features) section below."
   ]
  },
  {
   "cell_type": "markdown",
   "metadata": {},
   "source": [
    "## Data Quality\n",
    "*Verify data quality: Explain any missing values, duplicate data, and outliers. Are those mistakes? How do you deal with these problems? Give justifications for your methods.*"
   ]
  },
  {
   "cell_type": "markdown",
   "metadata": {},
   "source": [
    "### Missing values"
   ]
  },
  {
   "cell_type": "markdown",
   "metadata": {},
   "source": [
    "<blockquote>There were a significant number of missing values in the original dataset. The first step taken to address this was to attempt to get the missing values from the Department of Transportation's VIN API (https://vpic.nhtsa.dot.gov/api/) based on VIN number.  From there, the records that had missing values were dropped or combined into \"other\" categories.  More details for each field are outlined below."
   ]
  },
  {
   "cell_type": "code",
   "execution_count": null,
   "metadata": {},
   "outputs": [],
   "source": [
    "#n/a's before getting Dept. of Transportation data\n",
    "car_df.isna().sum()"
   ]
  },
  {
   "cell_type": "markdown",
   "metadata": {},
   "source": [
    "<blockquote>Cylinders, year, fuel, drive, transmission, and model were available from the Department of Transportation.  A python wrapper was built to retrieve the data from ReST endpoints based on VIN number of records with missing data.  More details about the scraper are in the <a href='#exceptional'>Exceptional section</a>. Once the data was retrieved, it was exported to a separate csv (vin_data.csv) and imported and merged into car_df to fill in missing values by VIN."
   ]
  },
  {
   "cell_type": "code",
   "execution_count": null,
   "metadata": {},
   "outputs": [],
   "source": [
    "#import VIN dataset\n",
    "vin_df  = pd.read_csv('data/vin_data.csv',sep='|', encoding='latin-1')"
   ]
  },
  {
   "cell_type": "code",
   "execution_count": null,
   "metadata": {},
   "outputs": [],
   "source": [
    "class MergeTransform(BaseEstimator, TransformerMixin):\n",
    "    def __init__(self, original_dataset, column_map, columns_to_drop, join_column):\n",
    "        self.original_dataset = original_dataset\n",
    "        self.column_map = column_map\n",
    "        self.columns_to_drop = columns_to_drop\n",
    "        self.join_column = join_column\n",
    "    #\n",
    "\n",
    "    def fit(self, X, y=None):\n",
    "        return self\n",
    "    #\n",
    "\n",
    "    def transform(self, X, y=None):\n",
    "        #\n",
    "        X = X.drop_duplicates(['VIN'])\n",
    "        #\n",
    "        merged_dataset = pd.merge(\n",
    "            self.original_dataset, X, how='left', on=self.join_column)\n",
    "        #\n",
    "        for k, v in self.column_map:\n",
    "            merged_dataset[k].fillna(merged_dataset[v], inplace=True)\n",
    "        #\n",
    "        merged_dataset.drop(self.columns_to_drop, axis=1, inplace=True)\n",
    "        merged_dataset['cylinders'] = merged_dataset['cylinders'].replace(\n",
    "            {'cylinders': ''}, regex=True)\n",
    "        #\n",
    "        return merged_dataset\n",
    "\n",
    "\n",
    "# The datasets will be joined on VIN\n",
    "join_col = ['VIN']\n",
    "\n",
    "# These are the columns that are being cleaned up. The column on the left is the from the cars dataset. These columns\n",
    "# have null values and need to be replaced from the VIN dataset\n",
    "column_transform_map = [['cylinders', 'EngineCylinders'],\n",
    "                        ['year', 'ModelYear'],\n",
    "                        ['fuel', 'FuelTypePrimary'],\n",
    "                        ['drive', 'DriveType'],\n",
    "                        ['transmission', 'TransmissionStyle'],\n",
    "                        ['model', 'Model']]\n",
    "\n",
    "# These are additional columns from the VIN dataset an can be dropped after the merge\n",
    "columns_to_drop = ['DriveType', 'EngineCylinders', 'EngineManufacturer', 'EngineModel', 'Make', 'Manufacturer',\n",
    "                   'Model', 'ModelYear', 'PlantCompanyName', 'TransmissionSpeeds', 'TransmissionStyle', 'FuelTypePrimary']\n",
    "\n",
    "# Create an instance of the transformer\n",
    "transformer = MergeTransform(\n",
    "    car_df, column_transform_map, columns_to_drop, join_col)\n",
    "\n",
    "# Run the transformer to generate the clean dataset\n",
    "car_df = transformer.transform(vin_df)\n"
   ]
  },
  {
   "cell_type": "markdown",
   "metadata": {},
   "source": [
    "<blockquote>After merging the original dataset with the VIN dataset, the missing values have been reduced. We can see the differences in the table that mentions the before and after counts"
   ]
  },
  {
   "cell_type": "code",
   "execution_count": null,
   "metadata": {},
   "outputs": [],
   "source": [
    "#n/as after getting Dept. of Transportation data\n",
    "car_df.isna().sum()"
   ]
  },
  {
   "cell_type": "markdown",
   "metadata": {},
   "source": [
    "| Column | Before Merge Null Count| After Merge Null Count|\n",
    "| --- | --- | --- |\n",
    "price        |     0 |       0 |\n",
    "year         |  1050 |     145 |\n",
    "manufacturer | 18220 |   18220 |\n",
    "model        |  4846 |    3837 |\n",
    "condition    |192940 |  192940 |\n",
    "cylinders    |171140 |   80402 |\n",
    "fuel         |  3237 |     415 |\n",
    "odometer     | 55303 |   55303 |\n",
    "title_status |  2577 |    2577 |\n",
    "transmission |  2442 |    1940 |\n",
    "VIN          |187549 |  187549 |\n",
    "drive        |134188 |   92235 |\n",
    "type         |112738 |  112738 |\n",
    "paint_color  |140843 |  140843 |\n",
    "state        |     0 |       0 |\n",
    "posting_date |    28 |      28 |\n"
   ]
  },
  {
   "cell_type": "markdown",
   "metadata": {},
   "source": [
    "<blockquote>The VIN column was then dropped since it was no longer needed for the analysis."
   ]
  },
  {
   "cell_type": "code",
   "execution_count": null,
   "metadata": {},
   "outputs": [],
   "source": [
    "#drop extra ID fields, URL fields, region fields, and description\n",
    "car_df = car_df.drop(columns=['VIN'])"
   ]
  },
  {
   "cell_type": "markdown",
   "metadata": {},
   "source": [
    "<blockquote>For eight of the columns that still have missing data and no source to obtain it, the rows with missing values were dropped (condition, title_status, drive, fuel, model, manufacturer, type, and year).  Since these columns seemed to be important for predicition, it was determined that these columns not be dropped from the dataset. The remaining n/a's are combined with other fields in the section below for <a href='#recategorization'>Re-Categorizing Data</a>."
   ]
  },
  {
   "cell_type": "code",
   "execution_count": null,
   "metadata": {},
   "outputs": [],
   "source": [
    "#drop rows with n/a for important variables that couldn't be obtained from the dept. of transportation\n",
    "car_df = car_df[car_df['condition'].notna()]\n",
    "car_df = car_df[car_df['title_status'].notna()]\n",
    "car_df = car_df[car_df['drive'].notna()]\n",
    "car_df = car_df[car_df['fuel'].notna()]\n",
    "car_df = car_df[car_df['model'].notna()]\n",
    "car_df = car_df[car_df['manufacturer'].notna()]\n",
    "car_df = car_df[car_df['type'].notna()]\n",
    "car_df['year'].dropna(inplace=True)"
   ]
  },
  {
   "cell_type": "markdown",
   "metadata": {},
   "source": [
    "### Outliers\n",
    "\n",
    "Price, year, and odometer had some major outliers. A lot of the extreme outliers seemed to be mistakes (e.g., 3.5 billion for price, 1900 for year). We implemented quantile method to screen out the outliers. We set the upper limit for the quantile to be 0.99 and lower limit to be 0.01. <p>\n",
    "\n",
    "Year. The number of count for year reduced from 203,001 to 173,449 while the IQR ( delta between Q1- 25th percentiles and Q3-75th percentiles) stay the same. The mean of the two is about the same between 2010 and 2011. The left tail of the year distribution pull back significantly from 1900 to 1970 due to this outlier screening. <p>\n",
    "\n",
    "Odometer. The number of count reduced from 191,762 to 173,449. IQR is quite close between the two (94,328(screened) vs 97,066). The std deviation is greatly improved from 4,677,272 to 59,592. The max of odometer reading changed from 2,043,756,000 (make no sense) to 269,781. <p>\n",
    "\n",
    "Price. The price has several extreme outliers which can go as high as $3.6 billion. The count reduced from 203,001 to 173,449. The IQR is quite close between the two ( 16,495vs 16,074). The std devication is improved with outlier screening from 8,038,314 to 11,041.  <p>"
   ]
  },
  {
   "cell_type": "code",
   "execution_count": null,
   "metadata": {},
   "outputs": [],
   "source": [
    "# use quantile to remove outliers\n",
    "# creating a new data frame car_df1 to compare the before and after snapshot from the outlier correction.\n",
    "# we will later copy back car_df1 to car_df for easier code readability\n",
    "\n",
    "q_hi = car_df['price'].quantile(0.99)\n",
    "q_low = car_df['price'].quantile(0.01)\n",
    "car_df1 = car_df[(car_df['price'] < q_hi) & (car_df['price'] > q_low)]\n",
    "\n",
    "q_hi = car_df1['year'].quantile(0.99)\n",
    "q_low = car_df1['year'].quantile(0.01)\n",
    "car_df1 = car_df1[(car_df1['year'] < q_hi) & (car_df1['year'] > q_low)]\n",
    "\n",
    "q_hi = car_df1['odometer'].quantile(0.99)\n",
    "q_low = car_df1['odometer'].quantile(0.01)\n",
    "car_df1 = car_df1[(car_df1['odometer'] < q_hi) & (car_df1['odometer'] > q_low)]"
   ]
  },
  {
   "cell_type": "markdown",
   "metadata": {},
   "source": [
    "<blockquote>Summary for price, year, odometer before removing outliers. Seeing the boxplots, we can conclude that there are outliers that are skewing the data"
   ]
  },
  {
   "cell_type": "code",
   "execution_count": null,
   "metadata": {},
   "outputs": [],
   "source": [
    "car_df[['price','year','odometer']].describe()"
   ]
  },
  {
   "cell_type": "code",
   "execution_count": null,
   "metadata": {},
   "outputs": [],
   "source": [
    "# boxplots before removing the outliers\n",
    "fig, axs = plt.subplots(ncols=3, figsize=(12,5))\n",
    "sns.boxplot(y=car_df['price'], ax=axs[0])\n",
    "sns.boxplot(y=car_df['year'], ax=axs[1])\n",
    "sns.boxplot(y=car_df['odometer'], ax=axs[2])\n",
    "plt.show()"
   ]
  },
  {
   "cell_type": "markdown",
   "metadata": {},
   "source": [
    "<blockquote>The data and boxplot reflects that the skewed observations are removed after removing outliers "
   ]
  },
  {
   "cell_type": "code",
   "execution_count": null,
   "metadata": {},
   "outputs": [],
   "source": [
    "car_df1[['price','year','odometer']].describe()"
   ]
  },
  {
   "cell_type": "code",
   "execution_count": null,
   "metadata": {},
   "outputs": [],
   "source": [
    "# boxplots after removing the outliers\n",
    "fig, axs = plt.subplots(ncols=3, figsize=(12,5))\n",
    "sns.boxplot(y=car_df1['price'], ax=axs[0])\n",
    "sns.boxplot(y=car_df1['year'], ax=axs[1])\n",
    "sns.boxplot(y=car_df1['odometer'], ax=axs[2])\n",
    "plt.show()"
   ]
  },
  {
   "cell_type": "markdown",
   "metadata": {},
   "source": [
    "### <a id=\"recategorization\">Re-Categorizing Data</a>"
   ]
  },
  {
   "cell_type": "markdown",
   "metadata": {},
   "source": [
    "<blockquote>The drive type of a vehicle indicates the type of climate and conditions that the vehicle is optimized for.  After retrieving data from the Dept. of Transportation, there were some text mismatches that represented the same types of drives.  After re-categorizing, these are the final categories:<p>\n",
    "    \n",
    "    rwd:  Rear-wheel drive \n",
    "    4wd:  Four-wheel drive\n",
    "    fwd:  Front-wheel drive\n",
    "    others:  As indicated by the seller or when no value was specified.  Glider was categorized here as well."
   ]
  },
  {
   "cell_type": "code",
   "execution_count": null,
   "metadata": {},
   "outputs": [],
   "source": [
    "# Copy back car_df1 to car_df \n",
    "car_df = car_df1.copy()"
   ]
  },
  {
   "cell_type": "code",
   "execution_count": null,
   "metadata": {
    "scrolled": true
   },
   "outputs": [],
   "source": [
    "# Regroup different drive types\n",
    "drive_types = [\n",
    "    # begin transformation for 4wd\n",
    "    (car_df['drive'] == \"4WD/4-Wheel Drive/4x4\") | \n",
    "    (car_df['drive'] == \"4wd\") | \n",
    "    (car_df['drive'] == \"4WD/4-Wheel Drive/4x4\") | \n",
    "    (car_df['drive'] == \"2WD/4WD\") | \n",
    "    (car_df['drive'] == \"6x4\") | \n",
    "    (car_df['drive'] == \"6x2\") | \n",
    "    (car_df['drive'] == \"AWD/All Wheel Drive\"),\n",
    "    # begin transformation for fwd\n",
    "    (car_df['drive'] == \"4x2\") | \n",
    "    (car_df['drive'] == \"2WD/4WD\") | \n",
    "    (car_df['drive'] == \"FWD/Front Wheel Drive\") | \n",
    "    (car_df['drive'] == \"fwd\"),\n",
    "    # begin transformation for rwd\n",
    "    (car_df['drive'] == \"RWD/ Rear Wheel Drive\") | \n",
    "    (car_df['drive'] == \"rwd\"),\n",
    "    # begin transformation for others\n",
    "    (car_df['drive'] == \"Not Applicable\") | \n",
    "    (car_df['drive'] == \"Other\") | \n",
    "    (car_df['drive'] == \"Glider\")\n",
    "]\n",
    "\n",
    "# new drive categories\n",
    "drive_values = ['4wd', 'fwd', 'rwd', 'others']\n",
    "\n",
    "# new drive column\n",
    "car_df['drive_new'] = np.select(drive_types, drive_values)\n",
    "car_df['drive_new'].unique()\n"
   ]
  },
  {
   "cell_type": "markdown",
   "metadata": {},
   "source": [
    "<blockquote>One of the goals of this project is to predict categorical responses for price range.  A new category field named \"price_range\" was derived from the \"price\" field. These are the final categories:\n",
    "    \n",
    "    < 1K\n",
    "    1K-5K \n",
    "    5K-10K \n",
    "    10K-15K\n",
    "    15k-30K \n",
    "    30K-50K \n",
    "    > 50K\n",
    "    "
   ]
  },
  {
   "cell_type": "code",
   "execution_count": null,
   "metadata": {},
   "outputs": [],
   "source": [
    "#Create column price_range to classify price of a car into one of the following groups: ('<1K' < '1K-5K' < '5K-10K' < '10K-15K' < '15k-30K' < '30K-50K' < '>50K'etc.)\n",
    "\n",
    "car_df['price_range'] = pd.cut(x=car_df['price'], bins=[-1, \n",
    "                                                        1000, \n",
    "                                                        5000,\n",
    "                                                        10000,\n",
    "                                                        15000,\n",
    "                                                        30000,\n",
    "                                                        50000, \n",
    "                                                        100000],\n",
    "                                                 labels=['<1K', \n",
    "                                                         '1K-5K', \n",
    "                                                         '5K-10K',\n",
    "                                                         '10K-15K', \n",
    "                                                         '15k-30K',\n",
    "                                                         '30K-50K', \n",
    "                                                         '>50K' ])\n",
    "car_df['price_range'].unique()"
   ]
  },
  {
   "cell_type": "markdown",
   "metadata": {},
   "source": [
    "<blockquote>\"Condition\" of the vehicles is determined by the seller.  Because some of them were very similar, they were re-grouped to a condition_new field with these final categories:\n",
    "    \n",
    "    salvage\n",
    "    good_fair\n",
    "    excellent_likenew\n",
    "    new"
   ]
  },
  {
   "cell_type": "code",
   "execution_count": null,
   "metadata": {},
   "outputs": [],
   "source": [
    "#combine conditions to 4 categories with the following groupings ('good', 'fair'), ('excellent','like new'), 'salvage', 'new' \n",
    "conditions = [\n",
    "    # begin transformation for good_fair\n",
    "    (car_df['condition'] == \"good\") | \n",
    "    (car_df['condition'] == \"fair\"),\n",
    "    (car_df['condition'] == \"excellent\") | \n",
    "    # begin transformation for excellent_likenew\n",
    "    (car_df['condition'] == \"like new\"),\n",
    "    # begin transformation for salvage\n",
    "    (car_df['condition'] == \"salvage\"),\n",
    "    # begin transformation for new\n",
    "    (car_df['condition'] == \"new\")\n",
    "    ]\n",
    "\n",
    "#new condition categories\n",
    "values = ['good_fair', 'excellent_likenew', 'salvage', 'new']\n",
    "\n",
    "#new condition column\n",
    "car_df['condition_new'] = np.select(conditions, values)\n",
    "car_df['condition_new'].unique()"
   ]
  },
  {
   "cell_type": "code",
   "execution_count": null,
   "metadata": {},
   "outputs": [],
   "source": [
    "#drop the original condition field\n",
    "car_df = car_df.drop(columns=['condition'])\n",
    "\n",
    "#drop the original  drive field\n",
    "car_df = car_df.drop(columns=['drive'])"
   ]
  },
  {
   "cell_type": "markdown",
   "metadata": {},
   "source": [
    "<blockquote>'Transmission' types had a similar issue to drives in that different text values represented the same thing after the Dept. of Transportation data was retrieved.  This field was regrouped into a 'transmission_new' field with these final categories: automatic, manual, and other. The \"other\" field consists of transmissions such as Semi-Automatic and Dual-Clutch."
   ]
  },
  {
   "cell_type": "code",
   "execution_count": null,
   "metadata": {},
   "outputs": [],
   "source": [
    "#Group different transmission categories. \n",
    "car_df['transmission'] = car_df['transmission'].fillna('other')\n",
    "transmission_types = [\n",
    "    # begin transformation for Automatic\n",
    "    (car_df['transmission'] == \"automatic\") | \n",
    "    (car_df['transmission'] == \"Automatic\") | \n",
    "    (car_df['transmission'] == \"Continuously Variable Transmission (CVT)\"),\n",
    "    # begin transformation for Manual\n",
    "    (car_df['transmission'] == \"manual\") | \n",
    "    # begin transformation for Other\n",
    "    (car_df['transmission'] == \"Manual/Standard\"),\n",
    "    (car_df['transmission'] == \"other\")\n",
    "    ]\n",
    "\n",
    "#new transmission categories\n",
    "t_values_types = ['Automatic', 'Manual', 'Other']\n",
    "\n",
    "#new transmission column\n",
    "car_df['transmission_new'] = np.select(transmission_types, t_values_types)\n",
    "car_df['transmission_new'].unique()"
   ]
  },
  {
   "cell_type": "code",
   "execution_count": null,
   "metadata": {},
   "outputs": [],
   "source": [
    "#drop the original transmission field\n",
    "car_df = car_df.drop(columns=['transmission'])"
   ]
  },
  {
   "cell_type": "markdown",
   "metadata": {},
   "source": [
    "<blockquote>Vehicle 'type' is a classification given by car makers to represent size and shape.  We felt that several were similar to each other so those were grouped together in a 'type_new' field with these final categories: 'sedan', 'pickup_truck', 'coupe', 'crossover', 'mini-van', 'convertible', 'hatchback', 'van', 'offroad'."
   ]
  },
  {
   "cell_type": "code",
   "execution_count": null,
   "metadata": {},
   "outputs": [],
   "source": [
    "#Combine types to: 'sedan', ('wagon','SUV') and call it 'crossover', ('pickup', 'truck'), 'coupe', 'van', 'mini-van', 'convertible', 'hatchback', 'offroad'\n",
    "car_df['type'] = car_df['type'].fillna('')\n",
    "car_df = car_df[car_df['type'].isin(['sedan', 'SUV', 'pickup', 'coupe', 'van', 'truck','mini-van', 'wagon', 'convertible', 'hatchback','offroad',''])]\n",
    "\n",
    "types = [\n",
    "    # begin transformation for crossover\n",
    "    (car_df['type'] == \"wagon\") | \n",
    "    (car_df['type'] == \"SUV\"),\n",
    "    # begin transformation for pickup_truck\n",
    "    (car_df['type'] == \"pickup\") | \n",
    "    (car_df['type'] == \"truck\"),\n",
    "    # begin transformation for sedan\n",
    "    (car_df['type'] == \"sedan\"),\n",
    "    # begin transformation for coupe\n",
    "    (car_df['type'] == \"coupe\"),\n",
    "    # begin transformation for van\n",
    "    (car_df['type'] == \"van\"),\n",
    "    # begin transformation for mini-van\n",
    "    (car_df['type'] == \"mini-van\"),\n",
    "    # begin transformation for wagon\n",
    "    (car_df['type'] == \"wagon\"),\n",
    "    # begin transformation for convertible\n",
    "    (car_df['type'] == \"convertible\"),\n",
    "    # begin transformation for hatchback\n",
    "    (car_df['type'] == \"hatchback\"),\n",
    "    # begin transformation for offroad\n",
    "    (car_df['type'] == \"offroad\"),\n",
    "    (car_df['type'] == \"\")\n",
    "    ]\n",
    "#new condition categories\n",
    "values_types = ['crossover', 'pickup_truck', 'sedan', 'coupe','van','mini-van','wagon','convertible','hatchback','offroad','']\n",
    "#new condition column\n",
    "car_df['type_new'] = np.select(types, values_types)\n",
    "car_df.head()\n",
    "car_df['type_new'].unique()"
   ]
  },
  {
   "cell_type": "code",
   "execution_count": null,
   "metadata": {},
   "outputs": [],
   "source": [
    "#drop the original type field\n",
    "car_df = car_df.drop(columns=['type'])\n",
    "car_df['paint_color'] = car_df['paint_color'].fillna('Z')\n",
    "car_df.drop(car_df[car_df['paint_color']=='Z'].index,inplace=True)\n",
    "car_df['paint_color'].unique()"
   ]
  },
  {
   "cell_type": "markdown",
   "metadata": {},
   "source": [
    "<blockquote>There were originally 14 paint colors. These were grouped together after looking at boxplots to see which ones were similar to each other.  These are the final categories: \n",
    "    \n",
    "    BlSlvrWhGryMsng: Black, Silver, White, Gray.  N/As are included due to a higher probability of being the more popular colors.\n",
    "    BluRdBrwn:  Blue, Red, and Brown\n",
    "    OrYlwGrnPrpl: Orange, Yellow, Green, Purple\n",
    "    Custom:  Custom paint"
   ]
  },
  {
   "cell_type": "code",
   "execution_count": null,
   "metadata": {},
   "outputs": [],
   "source": [
    "paint_color_grps = [\n",
    "    #\n",
    "    (car_df['paint_color'] == \"black\") | \n",
    "    (car_df['paint_color'] == \"silver\") | \n",
    "    (car_df['paint_color'] == \"white\")|\n",
    "    (car_df['paint_color'] == \"grey\")|\n",
    "    (car_df['paint_color'] == '')  ,\n",
    "    #\n",
    "    (car_df['paint_color'] == \"blue\") | \n",
    "    (car_df['paint_color'] == \"red\")| \n",
    "    #\n",
    "    (car_df['paint_color'] == \"brown\"),\n",
    "    (car_df['paint_color'] == \"orange\")| \n",
    "    (car_df['paint_color'] == \"yellow\")| \n",
    "    (car_df['paint_color'] == \"green\")| \n",
    "    # \n",
    "    (car_df['paint_color'] == \"purple\"),\n",
    "    (car_df['paint_color'] == \"custom\")\n",
    "    ]\n",
    "#new paint groups\n",
    "values_paint = ['BlSlvrWhGryMsng', 'BluRdBrwn', 'OrYlwGrnPrpl', 'Custom']\n",
    "#new condition column\n",
    "car_df['paint_color_new'] = np.select(paint_color_grps, values_paint)\n",
    "car_df['paint_color_new'].unique()"
   ]
  },
  {
   "cell_type": "markdown",
   "metadata": {},
   "source": [
    "<blockquote> From a one way ANOVA we can reject the null hypothesis that the  mean prices are equal for all paint groups(p-value < 0.05)"
   ]
  },
  {
   "cell_type": "code",
   "execution_count": null,
   "metadata": {},
   "outputs": [],
   "source": [
    "model = ols('price ~ C(paint_color_new)', data=car_df).fit()\n",
    "aov_table = sm.stats.anova_lm(model, typ=2)\n",
    "aov_table"
   ]
  },
  {
   "cell_type": "markdown",
   "metadata": {},
   "source": [
    "<blockquote> From a Tukey Post Hoc Test we can see there is a significant difference in mean prices across the different paint groups(p-value < 0.05). However, we fail to reject the null hypothesis that the mean prices are different for the group Custom & OrYlwGrnPrpl(Combination of Orange, Yellow, Green, Purple). p-value = 0.6669. We will still keep this in the dataset and let feature selection process guide the results"
   ]
  },
  {
   "cell_type": "code",
   "execution_count": null,
   "metadata": {},
   "outputs": [],
   "source": [
    "comp = mc.MultiComparison(car_df['price'], car_df['paint_color_new'])\n",
    "post_hoc_res = comp.tukeyhsd()\n",
    "post_hoc_res.summary()"
   ]
  },
  {
   "cell_type": "code",
   "execution_count": null,
   "metadata": {},
   "outputs": [],
   "source": [
    "#drop the original color field\n",
    "car_df = car_df.drop(columns=['paint_color'])"
   ]
  },
  {
   "cell_type": "code",
   "execution_count": null,
   "metadata": {},
   "outputs": [],
   "source": [
    "car_df.info()"
   ]
  },
  {
   "cell_type": "markdown",
   "metadata": {},
   "source": [
    "### Duplicate Data"
   ]
  },
  {
   "cell_type": "markdown",
   "metadata": {},
   "source": [
    "<blockquote> There are duplicate records in the dataset. The way we have identified duplicate records is to see whether an instance is unique across all columns that are present in the dataset(see below for columns names). If there are multiple records for these combinations then we have removed those records. The number of duplicates and the total number of valid records and noted after the code block"
   ]
  },
  {
   "cell_type": "code",
   "execution_count": null,
   "metadata": {},
   "outputs": [],
   "source": [
    "#Columns to check duplicates\n",
    "check_dup_col = ['price',\n",
    "                 'manufacturer',\n",
    "                 'model',\n",
    "                 'cylinders',\n",
    "                 'fuel',\n",
    "                 'odometer',\n",
    "                 'title_status',\n",
    "                 'state',\n",
    "                 'posting_date',\n",
    "                 'drive_new',\n",
    "                 'condition_new',\n",
    "                 'transmission_new',\n",
    "                 'type_new',\n",
    "                 'paint_color_new']\n",
    "\n",
    "#Check for duplicates\n",
    "dup_rec = car_df.duplicated(subset=check_dup_col).sum()\n",
    "\n",
    "# Print the number of duplicate records\n",
    "print('Number of original records  = {}'.format(len(car_df)))\n",
    "print('Number of duplicate records = {}'.format(dup_rec))\n",
    "\n",
    "#Remove the duplicate records from the dataset \n",
    "car_df.drop_duplicates(subset=check_dup_col, keep='first', inplace=True)\n",
    "\n",
    "# New number of records\n",
    "print('Number of new records  = {}'.format(len(car_df)))"
   ]
  },
  {
   "cell_type": "markdown",
   "metadata": {},
   "source": [
    "### Other cleanup"
   ]
  },
  {
   "cell_type": "markdown",
   "metadata": {},
   "source": [
    "<blockquote>After the merge with the Dept. of Transportation data, the cylinders were repeated in different formats.  This column was converted to an int with the final values between 2 - 12 cylinders.  1 cyclinder cars were dropped because there were only two records for Honda Pioneers."
   ]
  },
  {
   "cell_type": "code",
   "execution_count": null,
   "metadata": {
    "scrolled": true
   },
   "outputs": [],
   "source": [
    "# fill null with Z and remove later\n",
    "car_df['cylinders'] = car_df['cylinders'].fillna('Z')\n",
    "\n",
    "# transform cylinders to integer format\n",
    "car_df.drop(car_df[car_df['cylinders']=='Z'].index,inplace=True)\n",
    "car_df.drop(car_df[car_df['cylinders']=='other'].index,inplace=True)\n",
    "car_df['cylinders'] = car_df['cylinders'].astype('int64')\n",
    "\n",
    "# drop 1 cylinder cars\n",
    "car_df = car_df.drop(car_df[(car_df.cylinders == 1)].index)\n",
    "\n",
    "car_df['cylinders'].unique()"
   ]
  },
  {
   "cell_type": "markdown",
   "metadata": {},
   "source": [
    "<blockquote>The \"posting_date\" was converted to a datetime object to derive a new column for the age of the car (posting_date - year of the car)."
   ]
  },
  {
   "cell_type": "code",
   "execution_count": null,
   "metadata": {},
   "outputs": [],
   "source": [
    "#convert posting_date to datetime object\n",
    "car_df['posting_date'] = car_df['posting_date'].fillna('')\n",
    "car_df['posting_date'] = car_df['posting_date'].astype(str)\n",
    "new_post_Dt= car_df['posting_date'].str.split('T', n = 1, expand = True)\n",
    "car_df[\"posting_date\"]= new_post_Dt[0]\n",
    "car_df[\"posting_date\"]=car_df[\"posting_date\"].astype('datetime64[ns]')"
   ]
  },
  {
   "cell_type": "code",
   "execution_count": null,
   "metadata": {},
   "outputs": [],
   "source": [
    "car_df['car_Age_in_yrs'] = car_df['posting_date'].dt.year - car_df['year']\n",
    "car_df = car_df.drop(columns=['year'])"
   ]
  },
  {
   "cell_type": "markdown",
   "metadata": {},
   "source": [
    "### Simple Statistics\n",
    "\n",
    "The table below shows statistics for the continous variables from the dataset"
   ]
  },
  {
   "cell_type": "markdown",
   "metadata": {},
   "source": [
    "<blockquote> Price : The average price for all used cars in the dataset is 14575 USD. The median price of all used cars in the dataset is 11900 USD. The average used car price from 2016 - 2019 is 21000 USD per the site (https://www.statista.com/statistics/274928/used-vehicle-average-selling-price-in-the-united-states/). This price is higher in this website as it considers vintage cars, the price of which tends to be higher. We do not have many vintage cars in our dataset that may be a reason why the average price is lower. Also the website includes used car figures from car dealerships, and we know the dealerships charge a premium for selling used cars"
   ]
  },
  {
   "cell_type": "code",
   "execution_count": null,
   "metadata": {},
   "outputs": [],
   "source": [
    "car_df['price'].describe()"
   ]
  },
  {
   "cell_type": "markdown",
   "metadata": {},
   "source": [
    "<blockquote> Cylinders : From the below results(percentage of cars for each cylinder type) we can see that 72% of all cars have either 4 or 6 cylinders. This makes sense as most consumers prefer sedans or SUVs which normally have 4 / 6 cylinders. Trucks / Muscle cars tend to have a higher number of cylinders (8 and above) and they tend to have lower sales figures than other cars.  "
   ]
  },
  {
   "cell_type": "code",
   "execution_count": null,
   "metadata": {},
   "outputs": [],
   "source": [
    "print(round(car_df['cylinders'].value_counts() / len(car_df),4)*100)"
   ]
  },
  {
   "cell_type": "markdown",
   "metadata": {},
   "source": [
    "<blockquote> Using the above premise, we know that most of the cars have either 6 or 4 cylinders. However, as seen in the cross tabulation result the pickup trucks have more 8 cyclinder engines(over 20000 cars). Sedans and crssovers tends to have more engines in the 4-6 cylinder range."
   ]
  },
  {
   "cell_type": "code",
   "execution_count": null,
   "metadata": {},
   "outputs": [],
   "source": [
    "pd.crosstab(car_df.type_new,\n",
    "            car_df.cylinders,\n",
    "            rownames=['Car Types'], \n",
    "            colnames=['Number of Cylinders'],\n",
    "            margins=True,\n",
    "            margins_name = 'Total')"
   ]
  },
  {
   "cell_type": "markdown",
   "metadata": {},
   "source": [
    "<blockquote> As the age of the car increases, the selling price decreases and the odometer increases. This is consistent with the general understanding of how car values depreciate with increased usage and life of the car. For clarity we have restricted the output to only first 10 observations "
   ]
  },
  {
   "cell_type": "code",
   "execution_count": null,
   "metadata": {},
   "outputs": [],
   "source": [
    "car_df.groupby('car_Age_in_yrs').median()[['price','odometer']].head(10)"
   ]
  },
  {
   "cell_type": "markdown",
   "metadata": {},
   "source": [
    "<blockquote> Odometer and Car Age : From the below descriptive statistics we can see that the median / mean age is around 8 - 9 years. The average number of miles driven in a car in the United States is around 12,000 miles. So a 8 year car will have an average mileage of 96000 miles. Given this information, we can say that the median odometer reading in our dataset(95416 miles) and the average odometer reading(98461 miles) is consistent with the actual numbers. "
   ]
  },
  {
   "cell_type": "code",
   "execution_count": null,
   "metadata": {},
   "outputs": [],
   "source": [
    "car_df[['odometer','car_Age_in_yrs']].describe()"
   ]
  },
  {
   "cell_type": "markdown",
   "metadata": {},
   "source": [
    "### Visualize Attributes\n",
    "*Visualize the most interesting attributes (at least 5 attributes, your opinion on what is interesting). Important: Interpret the implications for each visualization. Explain for each attribute why the chosen visualization is appropriate.*"
   ]
  },
  {
   "cell_type": "markdown",
   "metadata": {},
   "source": [
    "<blockquote>We thought it was interesting to plot some of the data by state. California, Florida, New York are states with the highest number of listings.</blockquote>"
   ]
  },
  {
   "cell_type": "markdown",
   "metadata": {},
   "source": [
    "<blockquote>We thought it would be interesting to plot the age, odometer, and price in a 3d plot.  Here we can see that the price trends down as vehicle age and mileage increases."
   ]
  },
  {
   "cell_type": "code",
   "execution_count": null,
   "metadata": {},
   "outputs": [],
   "source": [
    "# %matplotlib notebook\n",
    "# Creating figure\n",
    "fig = plt.figure(figsize=(8,6))\n",
    "ax = plt.axes(projection =\"3d\")\n",
    "# Creating plot\n",
    "ax.scatter3D(car_df['odometer'], car_df['car_Age_in_yrs'], car_df['price'], color = \"navy\", s=1)\n",
    "plt.title(\"Odometer, Car Age, and Price\")\n",
    "ax.set_xlabel('Odometer')\n",
    "ax.set_ylabel('Age')\n",
    "#ax.zaxis.set_rotate_label(False) \n",
    "ax.set_zlabel('Price ($)', rotation = 0)\n",
    "# show plot\n",
    "plt.show()"
   ]
  },
  {
   "cell_type": "markdown",
   "metadata": {},
   "source": [
    "<blockquote>To get a sense of the location of cars for sale in this dataset, the count of cars by state is shown in this plot. California has the most listings followed by Florida.</blockquote>"
   ]
  },
  {
   "cell_type": "code",
   "execution_count": null,
   "metadata": {},
   "outputs": [],
   "source": [
    "#Reference:  https://github.com/python-visualization/folium/blob/master/examples/GeoJSON_and_choropleth.ipynb\n",
    "\n",
    "#convert the state column to all upper case\n",
    "car_df['state'] = car_df['state'].str.upper() \n",
    "\n",
    "#import the coordinates of each state\n",
    "url = (\n",
    "    \"https://raw.githubusercontent.com/python-visualization/folium/master/examples/data\"\n",
    ")\n",
    "state_geo = f\"{url}/us-states.json\"\n",
    "\n",
    "#create a new dataframe grouped by state and count of vehicles\n",
    "grp_df = car_df.groupby([\"state\"], as_index=False)[\"price\"].count()\n",
    "\n",
    "# Initialize the map:\n",
    "map = folium.Map([43, -100], zoom_start=4)\n",
    "\n",
    "folium.Choropleth(\n",
    "    geo_data=state_geo,\n",
    "    data=grp_df,\n",
    "    columns=[\"state\", \"price\"],\n",
    "    key_on=\"feature.id\",\n",
    ").add_to(map)\n",
    "\n",
    "# Plot the map\n",
    "map"
   ]
  },
  {
   "cell_type": "markdown",
   "metadata": {},
   "source": [
    "<blockquote>For Condition of the car, we found it interesting that the excellent_likenew and new categories do not have higher median prices than the good_fair category as indicated by the white circles in the center of each.  This plot also shows that the distribution is heavily skewed below $10,000 for all categories."
   ]
  },
  {
   "cell_type": "code",
   "execution_count": null,
   "metadata": {},
   "outputs": [],
   "source": [
    "%matplotlib auto\n",
    "car_df['condition_new'].value_counts()\n",
    "#boxplot for condition of car\n",
    "# fig, axs = plt.subplots(ncols=1, figsize=(10,6))\n",
    "# ax = sns.boxplot(x=\"condition_new\", y=\"price\", data=car_df).set(title='Condition & Price', xlabel='Condition', ylabel='Price (USD)')\n",
    "# # Add in points to show each observation\n",
    "# sns.stripplot(x=\"condition_new\", y=\"price\", data=car_df,\n",
    "#               jitter=True, size=2, color=\"slategrey\", linewidth=0)\n",
    "\n",
    "sns.catplot(x=\"condition_new\", y=\"price\", data=car_df, kind='violin',aspect=2,height=6,linewidth=5,\n",
    "            order=['new','excellent_likenew','good_fair','salvage'])"
   ]
  },
  {
   "cell_type": "markdown",
   "metadata": {},
   "source": [
    "<blockquote>This plot shows that the majority of observations in the dataset are in the excellent_likenew and good_fair condition categories."
   ]
  },
  {
   "cell_type": "code",
   "execution_count": null,
   "metadata": {},
   "outputs": [],
   "source": [
    "#Plot Used cars distribution in by car type\n",
    "plt.subplots(figsize = (8,7))\n",
    "car_df['condition_new'].hist(bins=10)\n",
    "plt.title(\"Used car distribution by 'Condition' of car\", fontsize=18)\n",
    "plt.xlabel('Car Condition', fontsize=16)\n",
    "plt.ylabel('Number of Cars', fontsize=16)"
   ]
  },
  {
   "cell_type": "markdown",
   "metadata": {},
   "source": [
    "<blockquote>This plot shows that the majority of observations in the dataset are sedans followed by crossover and pickup_truck."
   ]
  },
  {
   "cell_type": "code",
   "execution_count": null,
   "metadata": {},
   "outputs": [],
   "source": [
    "#Plot Used cars distribution in by car type\n",
    "plt.subplots(figsize = (8,7))\n",
    "car_df['type_new'].hist(bins=25)\n",
    "plt.title(\"Used car distribution by 'Type' of car\", fontsize=18)\n",
    "plt.xlabel('Car Type', fontsize=16)\n",
    "plt.ylabel('Number of Cars', fontsize=16)"
   ]
  },
  {
   "cell_type": "markdown",
   "metadata": {},
   "source": [
    "<blockquote>This plot shows that the majority of observations in the dataset are 4-wheel drives and rear-wheel drives."
   ]
  },
  {
   "cell_type": "code",
   "execution_count": null,
   "metadata": {},
   "outputs": [],
   "source": [
    "#Histogram for Numbers of cars in each price range by drive\n",
    "fig, ax = plt.subplots(figsize = (8,7))\n",
    "sns.set_theme(style=\"whitegrid\")\n",
    "plt.title(\"Used car price distribution by Drive Type\", fontsize=18)\n",
    "ax = sns.barplot(y=\"price\", x=\"drive_new\", data=car_df)\n",
    "ax.set_ylabel('Price ($)', fontsize = 16)\n",
    "ax.set_xlabel ('Drive', fontsize = 16)\n",
    "plt.xticks(rotation=45)"
   ]
  },
  {
   "cell_type": "markdown",
   "metadata": {},
   "source": [
    "### Explore Joint Attributes\n",
    "*Visualize relationships between attributes: Look at the attributes via scatter plots, correlation, cross-tabulation, group-wise averages, etc. as appropriate. Explain any interesting relationships.*"
   ]
  },
  {
   "cell_type": "markdown",
   "metadata": {},
   "source": [
    "<blockquote>Correlations<br>\n",
    "1) A strong negative correlation between Price and Odometer reading. <br>\n",
    "2) A strong negative correlation between Price and the age of the car. <br>\n",
    "3) A strong postive correlation between Odometer reading and the age of the car. <br>\n",
    "4) A slight positive correlation between the number of cyclinders and the price of the car. <br>\n",
    "5) A very week correlation between the number of cylinders and the age of the car. <br></blockquote\n",
    "    "
   ]
  },
  {
   "cell_type": "code",
   "execution_count": null,
   "metadata": {},
   "outputs": [],
   "source": [
    "correlations = car_df.corr()\n",
    "fig, ax = plt.subplots(figsize=(8,8))         # Sample figsize in inches\n",
    "sns.heatmap(correlations, annot=True, linewidths=.5, ax=ax)"
   ]
  },
  {
   "cell_type": "markdown",
   "metadata": {},
   "source": [
    "<blockquote> California followed by Florida has the most number of 'excellent_likenew' cars for sale on Craigslist for the time period of this dataset."
   ]
  },
  {
   "cell_type": "code",
   "execution_count": null,
   "metadata": {},
   "outputs": [],
   "source": [
    "#Plot Used cars distribution by State\n",
    "fig, ax1 = plt.subplots(figsize = (18,9))\n",
    "ax1 = sns.histplot(x=\"state\",hue=\"condition_new\", data=car_df)\n",
    "ax1.set_ylabel('Number of Cars', fontsize = 16)\n",
    "ax1.set_xlabel ('State', fontsize = 16)\n",
    "plt.title(\"Used cars distribution by State\", fontsize=18)"
   ]
  },
  {
   "cell_type": "markdown",
   "metadata": {},
   "source": [
    "<blockquote>Odometer and Car Age are the continuous features in the dataset.  The expectation is that as a car ages, the odometer would increase.  When we break out the data by category we can see this correlation in new and salvaged cars, not those in the excellent_likenew and good_fair categories.    "
   ]
  },
  {
   "cell_type": "code",
   "execution_count": null,
   "metadata": {},
   "outputs": [],
   "source": [
    "g = sns.relplot(\n",
    "    data=car_df, x=\"car_Age_in_yrs\", y=\"odometer\",\n",
    "    col=\"condition_new\",\n",
    "    kind=\"scatter\",\n",
    ")\n",
    "(g.map(plt.axhline, y=0, color=\".7\", dashes=(2, 1), zorder=0)\n",
    "  .set_axis_labels(\"Car Age (yrs)\", \"Odometer\")\n",
    "  .set_titles(\"{col_name}\")\n",
    "  .tight_layout(w_pad=0))"
   ]
  },
  {
   "cell_type": "markdown",
   "metadata": {},
   "source": [
    "<blockquote>This plot shows the proportions of fuel types by vehicle type.  Again, most are gas.  Hatchbacks have the highest proportion of hybrids, followed by sedans.  Pickup trucks, vans, and offroad vehicles have the highest proportion of diesel.  "
   ]
  },
  {
   "cell_type": "code",
   "execution_count": null,
   "metadata": {},
   "outputs": [],
   "source": [
    "#proportion plot for cylinders and fuel type\n",
    "fig, axs = plt.subplots(ncols=1,figsize=(15,6))\n",
    "plt.title(\"Car Type & Fuel\", fontsize=18)\n",
    "sns.histplot(car_df, x=\"type_new\", hue=\"fuel\", stat=\"probability\", multiple=\"fill\", shrink=.8).set_xlabel('Car Type', fontsize = 16)"
   ]
  },
  {
   "cell_type": "markdown",
   "metadata": {},
   "source": [
    "<blockquote>This plot shows the proportions of fuel types by manufacturer.  While most of the fuel types in the dataset are classified as gas, we can see which manufacturers have other fuel types.  Tesla of course has the highest percentage of electric cars.  However, more than 50% of Teslas are labeled as having gas fuel.  Since they do not make a gas car, this is likely data entry error.  Ford, Ram, and Volkswagon have the highest percentage of diesel"
   ]
  },
  {
   "cell_type": "code",
   "execution_count": null,
   "metadata": {},
   "outputs": [],
   "source": [
    "#proportion plot for manufacturer and fuel type\n",
    "fig, axs = plt.subplots(ncols=1,figsize=(20,10))\n",
    "plt.title(\"Manufacturer & Fuel Types\", fontsize=18)\n",
    "sns.histplot(car_df, x=\"manufacturer\", hue=\"fuel\", stat=\"probability\", multiple=\"fill\", shrink=.8).set_xlabel('Manufacturer', fontsize = 16)\n",
    "plt.xticks(rotation=90)\n",
    "plt.show()"
   ]
  },
  {
   "cell_type": "markdown",
   "metadata": {},
   "source": [
    "<blockquote>When exploring the relationship between cylinders and fuel type, we see that 2 cyclinder cars have the highest percentage of non-gasoline fuel types including electric and hybrid.  All of the other cylinders have primarily gas fuel types.  We see some hybrids in the 3 and 4 cylinder cars and diesel fuel types in 4, 5, 6, 7, and 12 cylinder vehicles."
   ]
  },
  {
   "cell_type": "code",
   "execution_count": null,
   "metadata": {},
   "outputs": [],
   "source": [
    "#proportion plot for cylinders and fuel type\n",
    "fig, axs = plt.subplots(ncols=1,figsize=(15,6))\n",
    "plt.title(\"Cylinders & Fuel\", fontsize=18)\n",
    "sns.histplot(car_df, x=\"cylinders\", hue=\"fuel\", stat=\"probability\", multiple=\"fill\", shrink=.8).set_xlabel('Cylinders', fontsize = 16)"
   ]
  },
  {
   "cell_type": "markdown",
   "metadata": {},
   "source": [
    "<blockquote><b>We observe the following from the plot below:</b><br>\n",
    "\n",
    "1) For each car type, the cars with the highest odometer reading are in the 'salvage' condition. <br>\n",
    "2) Off-road vehicles, followed by pickup_trucks and vans have the highest odometer reading for the salvage cars.<br>\n",
    "3) Convertible cars seem to be inconsistent, with around the same odometer reading, a comparable number of cars are in the 'excellent_likenew' condition or 'salvage' condition.<br>\n",
    "4) For pick_up trucks, hatchbacks and coupes, the cars in 'excellent_likenew' condition have higher odometer reading compared to these types of cars in 'good/fair' condition. We saw from the plot above that the price for these car types was higher for cars in good/fair condition compared to those in 'excellent/like-new' condition.<p>\n",
    "Thus condition and car type along with the odometer reading may be good predictors for the price of the car.</blockquote>"
   ]
  },
  {
   "cell_type": "code",
   "execution_count": null,
   "metadata": {},
   "outputs": [],
   "source": [
    "#Distribution of cars by their odometer reading, type and condition\n",
    "fig, ax = plt.subplots(figsize = (15,7))\n",
    "sns.set_theme(style=\"whitegrid\")\n",
    "plt.title(\"Distribution of the price of the cars by their 'type' and 'odometer' reading\", fontsize=18)\n",
    "ax = sns.barplot(y=\"odometer\",x=\"type_new\", hue=\"condition_new\", data=car_df)\n",
    "ax.set_ylabel('Odometer', fontsize = 16)\n",
    "ax.set_xlabel (' Car Type by Condition', fontsize = 16)"
   ]
  },
  {
   "cell_type": "markdown",
   "metadata": {},
   "source": [
    "### Explore Attributes and Class\n",
    "Identify and explain interesting relationships between features and the class you are trying to predict (i.e., relationships with variables and the target classification)."
   ]
  },
  {
   "cell_type": "markdown",
   "metadata": {},
   "source": [
    "#### Features and Price (Regression)\n",
    "\n",
    "\n",
    "<blockquote>There are two continuous features in the dataset - car age in years and odometer.  Prices are trending down as vehicles age and as the mileage increases.  These features are expected to be useful predictors.\n",
    "   "
   ]
  },
  {
   "cell_type": "code",
   "execution_count": null,
   "metadata": {},
   "outputs": [],
   "source": [
    "#scatterplots for continuous of car age and odometer by price\n",
    "fig, axs = plt.subplots(ncols=2, figsize=(18,6))\n",
    "sns.scatterplot(data=car_df, x=\"car_Age_in_yrs\", y=\"price\", ax=axs[0]).set(title='Age & Price', xlabel='Age (yrs)', ylabel='Price (USD)')\n",
    "sns.scatterplot(data=car_df, x=\"odometer\", y=\"price\", ax=axs[1]).set(title='Odometer & Price', xlabel='Odometer (miles)', ylabel='Price (USD)')\n",
    "plt.show()"
   ]
  },
  {
   "cell_type": "markdown",
   "metadata": {},
   "source": [
    "<blockquote><b>We observe the following from the plot below:</b><p>\n",
    "1) New cars have the highest prices for cars in each car type. <br>\n",
    "2) For pickup trucks, hatchbacks and convertible cars, the cars in good_fair condition appear to have higher prices than the cars in excellent_likenew condition for the same car types. Thus, apart from condition and type, there have to be other factors that influence the price of vehicles. <br>\n",
    "3) Salvage cars have the lowest price for each car type. <br></blockquote>"
   ]
  },
  {
   "cell_type": "code",
   "execution_count": null,
   "metadata": {},
   "outputs": [],
   "source": [
    "#Histogram for Numbers of cars in each price range by car condition\n",
    "fig, ax = plt.subplots(figsize = (15,7))\n",
    "sns.set_theme(style=\"whitegrid\")\n",
    "plt.title(\"Distribution of the price of the cars by their 'type' and 'condition'\", fontsize=18)\n",
    "ax = sns.barplot(y=\"price\",x=\"type_new\", hue=\"condition_new\", data=car_df)\n",
    "ax.set_ylabel('Price ($)', fontsize = 16)\n",
    "ax.set_xlabel (' Car Type by Condition', fontsize = 16)"
   ]
  },
  {
   "cell_type": "markdown",
   "metadata": {},
   "source": [
    "<blockquote>High-end manufacturers like Aston-Martin, Ferrari, Porshe, and Tesla have higher prices with medians over $30,000. The manufacturers with the lowest median prices are Mercury, Pontiac, and Saturn.  While the median is high for Tesla, there is a large range of values between the 25th PCTL and the 75th PCTL, indicating that there is a lot of variability in prices for this manufacturer.  We expect this to be a useful feature for prediction."
   ]
  },
  {
   "cell_type": "code",
   "execution_count": null,
   "metadata": {},
   "outputs": [],
   "source": [
    "fig, axs = plt.subplots(ncols=1, figsize=(20,8))\n",
    "plt.title(\"Manufacturer and Price\", fontsize=18)\n",
    "ax = sns.boxplot(x=\"manufacturer\", y=\"price\", data=car_df.sort_values(\"manufacturer\"))\n",
    "ax.set_ylabel('Price ($)', fontsize = 16)\n",
    "ax.set_xlabel (' Manufacturer', fontsize = 16)\n",
    "plt.xticks(rotation=90)\n",
    "plt.show()"
   ]
  },
  {
   "cell_type": "markdown",
   "metadata": {},
   "source": [
    "<blockquote> There does not seem to be much correlation between state and price. West Virginia and Wyoming an could be an exception to this."
   ]
  },
  {
   "cell_type": "code",
   "execution_count": null,
   "metadata": {},
   "outputs": [],
   "source": [
    "#Price by State\n",
    "fig, ax = plt.subplots(figsize = (15,7))\n",
    "sns.set_theme(style=\"whitegrid\")\n",
    "plt.title(\"Price by State\", fontsize=18)\n",
    "ax = sns.boxplot(y=\"price\",x=\"state\", data=car_df)\n",
    "ax.set_ylabel('Price ($)', fontsize = 16)\n",
    "ax.set_xlabel ('State', fontsize = 16)"
   ]
  },
  {
   "cell_type": "markdown",
   "metadata": {},
   "source": [
    "<blockquote> Color seems to have small only a minor correlation with price, while transmission seems to have more correlation."
   ]
  },
  {
   "cell_type": "code",
   "execution_count": null,
   "metadata": {},
   "outputs": [],
   "source": [
    "fig, axs = plt.subplots(ncols=2, figsize=(20,8))\n",
    "ax = sns.boxplot(x=\"paint_color_new\", y=\"price\", data=car_df,ax=axs[0])\n",
    "ax = sns.boxplot(x=\"transmission_new\", y=\"price\", data=car_df,ax=axs[1]) "
   ]
  },
  {
   "cell_type": "markdown",
   "metadata": {},
   "source": [
    "#### Categorical Features and Price Range (Classification)"
   ]
  },
  {
   "cell_type": "code",
   "execution_count": null,
   "metadata": {},
   "outputs": [],
   "source": [
    "#Plot Used cars distribution in each price range\n",
    "plt.subplots(figsize = (11,7))\n",
    "car_df['price_range'].hist(bins=25)\n",
    "plt.title('Used cars distribution in each price range', fontsize=18)\n",
    "plt.xlabel('Price Range', fontsize=16)\n",
    "plt.ylabel('Number of Cars', fontsize=16)"
   ]
  },
  {
   "cell_type": "markdown",
   "metadata": {},
   "source": [
    "<blockquote> For classification problems, the prices have been binned into price ranges.  Below are the proportions for each price range for some of the categorical variables. <br> \n",
    "\n",
    "The Title Status is a legal document that states the legal owner of the car.  95% of the vehicles in this dataset have a clean title.  More than 50% of these vehicles with clean titles are priced between 10k-50k.  A rebuilt title is for a vehicle that has been damaged or totaled.  More than 50% of the vehicles in this dataset with a rebuilt title are 10k or less.  A lien title is one that has an outstanding loan on the vehicle.  The majority of vehicles in that category are listed between 10k - 50k.  A parts only title indicates that the car cannot be registered again.  The majority of listings for parts only titles are less than 1k.  A missing title can mean that the title was damaged or lost, but could also indicate a stolen car.  Most of the cars in this category are between 1k - 5k."
   ]
  },
  {
   "cell_type": "code",
   "execution_count": null,
   "metadata": {},
   "outputs": [],
   "source": [
    "# Draw Seaborn Scatter Plot to find relationship between age and fare\n",
    "fig, axs = plt.subplots(ncols=1,figsize=(15,8))\n",
    "sns.histplot(car_df, x=\"title_status\", hue=\"price_range\", stat=\"probability\", multiple=\"fill\", shrink=.8)"
   ]
  },
  {
   "cell_type": "markdown",
   "metadata": {},
   "source": [
    "<blockquote>For condition of the car, the price ranges are similar for all the conditions except for salvage.  Salvage has a higher proportion of cars that are less than $5,000.  "
   ]
  },
  {
   "cell_type": "code",
   "execution_count": null,
   "metadata": {},
   "outputs": [],
   "source": [
    "table=pd.crosstab(car_df['condition_new'],car_df['price_range'])\n",
    "table.div(table.sum(1).astype(float),axis=0).plot(kind='bar',stacked=True, figsize=(12,6),)"
   ]
  },
  {
   "cell_type": "markdown",
   "metadata": {},
   "source": [
    "<blockquote>When looking at vehicles by the type of fuel, diesel, other, and electric have higher proportions in the USD 15 - 30k range.Hybrids have the highest proportion in the USD 5-10k range."
   ]
  },
  {
   "cell_type": "code",
   "execution_count": null,
   "metadata": {},
   "outputs": [],
   "source": [
    "fig, axs = plt.subplots(ncols=1,figsize=(15,8))\n",
    "sns.histplot(car_df, x=\"fuel\", hue=\"price_range\", stat=\"probability\", multiple=\"fill\", shrink=.8)"
   ]
  },
  {
   "cell_type": "markdown",
   "metadata": {},
   "source": [
    "### <a id=\"New-Features\">New Features</a>\n",
    "*Are there other features that could be added to the data or created from existing features? Which ones?*\n",
    "\n",
    "* We created a new feature column called “car_Age_in_yrs” which is derived by substracting the age of the car from the posting date. This new column will help determine whether there is correlation between the car age and the price of the car, which we believe to be the case.<p> \n",
    "    \n",
    "* We also do the one hot encoding on the categorical feature variables i.e. manufacturer, model, cylinders, fuel, title_status, drive, state, condition_new, transmission_new, type_new, paint_color_new. The feature columns total number grow from 16 columns to 13,196 columns due to this one hot encoding. <p>\n",
    "    \n",
    "* Depending on the results of feature selection, we may reduce the states column to larger regions (west coast, east coast, etc.).\n",
    "    \n",
    " "
   ]
  },
  {
   "cell_type": "code",
   "execution_count": null,
   "metadata": {
    "scrolled": true
   },
   "outputs": [],
   "source": [
    "car_df_encoded = pd.get_dummies(car_df[[ 'price', 'manufacturer', 'model', 'cylinders', 'fuel', 'odometer',\n",
    "       'title_status', 'drive_new', 'state', 'posting_date', 'price_range',\n",
    "       'condition_new', 'transmission_new', 'type_new', 'paint_color_new',\n",
    "       'car_Age_in_yrs']])\n",
    "car_df_encoded.info()"
   ]
  },
  {
   "cell_type": "markdown",
   "metadata": {},
   "source": [
    "<a id='exceptional'></a>\n",
    "\n",
    "### Exceptional Work\n",
    "\n",
    "There were columns in the dataset that had missing values. We extracted the information for these columns using the U.S. Department Of Transportation VIN API. (https://vpic.nhtsa.dot.gov/api/). As a valid VIN number is needed to extract information from this API the entire dataset could not be cleanup as many instances were missing VIN number. The following columns were extracted from the VIN API. A scraper was built to call a ReST endpoint and write the details to a file, which was later joined to the original dataset.\n",
    "\n",
    "\n",
    "\n",
    "| Attribute | Attribute Description | Imputed Column in the Original Dataset |\n",
    "| --- | --- | --- | \n",
    "|VIN | Unique Vehicle Indentifier for a car | Not Mapped. Used for perform join on dataset\n",
    "| DriveType | Front Wheel Drive, Rear Wheel Drive, All Wheel Drive, etc.| drive\n",
    "| EngineCylinders | Number of cylinders in the car| cylinders\n",
    "| EngineManufacturer | Manufacturer Name, for example Ford, GM, etc.| Not Mapped\n",
    "| EngineModel | The model of the engine | Not Mapped\n",
    "| Make | Make of the car. For example Toyota, Hyundai, etc. | Not Mapped \n",
    "| Manufacturer | Same as engine Manufacturer, but more detailed name | Not Mapped \n",
    "| Model | Model of the car. For example Camry, Sonata, etc.| model\n",
    "| ModelYear | Model when the car was released| year\n",
    "| PlantCompanyName | Plant where the engine was manufactured| Not Mapped\n",
    "| TransmissionSpeeds | How many transmissions are present in the car, for Example 4 Speed, 6 Speed etc.|  Not Mapped |\n",
    "| TransmissionStyle | Kind of transmission. For example, Automatic , Manual, CVT, etc.| transmission |\n",
    "| FuelTypePrimary | Fuel type used in the car. For example, Gasoline ,Diesel, etc.| fuel |\n",
    "\n"
   ]
  },
  {
   "cell_type": "code",
   "execution_count": null,
   "metadata": {},
   "outputs": [],
   "source": [
    "# add the final dataset shape \n"
   ]
  }
 ],
 "metadata": {
  "celltoolbar": "Raw Cell Format",
  "kernelspec": {
   "display_name": "Python 3",
   "language": "python",
   "name": "python3"
  },
  "language_info": {
   "codemirror_mode": {
    "name": "ipython",
    "version": 3
   },
   "file_extension": ".py",
   "mimetype": "text/x-python",
   "name": "python",
   "nbconvert_exporter": "python",
   "pygments_lexer": "ipython3",
   "version": "3.8.5"
  }
 },
 "nbformat": 4,
 "nbformat_minor": 2
}
