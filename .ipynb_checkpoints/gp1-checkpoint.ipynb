{
 "cells": [
  {
   "cell_type": "markdown",
   "metadata": {},
   "source": [
    "# Lab 1 : Visualization and Data Processing\n",
    "\n",
    "## Group 4 :  Simerpreet Reddy, Rudranil Mitra, Samuel VonPaays Soh, Kristi Herman\n",
    "\n",
    "---\n",
    "## <font color='darkgreen'> Business Understanding </font>\n",
    "\n",
    "The source selected for this analysis is a Craigslist used car listings dataset from Kaggle:  https://www.kaggle.com/austinreese/craigslist-carstrucks-data<br>  The author of this dataset used web scraping algorithms to scrape the information for used vehicles from all regional Craigslist's sites in the U.S that were posted between 10/28/2020 and 12/3/2020.  The original dataset contained <b>458,213 rows</b> with <b>26 fields</b>. \n",
    "\n",
    "\n",
    "#### <font color='green'>Describe the purpose of the data set you selected (i.e., why was this data collected in the first place?)</font>\n",
    "The purpose of this dataset is to collect data for all used cars and trucks for sale in the U.S. that are listed on Craigslist regional sites.  This dataset was selected to model and predict used car prices and to classify price ranges by categories.  Included in the dataset were other types of vehicles such as buses and motorcycles.  Those records were removed to limit the analysis to cars and trucks only. \n",
    "\n",
    "\n",
    "#### <font color='green'>Describe how you would define and measure the outcomes from the dataset. That is, why is this data important and how do you know if you have mined useful knowledge from the dataset? </font>\n",
    "\n",
    "We will know that we have mined useful knowledge if we are able to come up with a good prediction for used car prices and a classifier for price range predictions. In other words, a good model will be able to find relationships among the predictors and the response variables.  \n",
    "\n",
    "#### <font color='green'>How would you measure the effectiveness of a good prediction algorithm? Be specific. </font>\n",
    "\n",
    "Our goal is to run both both regression and classification algorithms on this dataset. For the regression problem of predicting car prices, RMSE along with k-fold cross validation will be used to determine the effectiveness of the prediction. For the classification problem, k-fold cross validation with accuracy, precision, recall, True Positive Rate, and False Positive Rate will be used to measure the effectiveness of the prediction model. The value for 'k' in cross validation will be determined through hyperparameter tuning during the model building process."
   ]
  },
  {
   "cell_type": "markdown",
   "metadata": {},
   "source": [
    "## Data Meaning Type\n",
    "\n",
    "*Describe the meaning and type of data (scale, values, etc.) for each attribute in the data file.*"
   ]
  },
  {
   "cell_type": "code",
   "execution_count": 2,
   "metadata": {},
   "outputs": [],
   "source": [
    "#import libraries\n",
    "import pandas as pd\n",
    "import numpy as np\n",
    "import matplotlib.pyplot as plt\n",
    "import plotly.express as px\n",
    "import seaborn as sns\n",
    "import requests\n",
    "import json\n",
    "import time\n",
    "import statsmodels.api as sm\n",
    "import statsmodels.stats.multicomp as mc\n",
    "import folium\n",
    "from datetime import datetime\n",
    "from sklearn.base import BaseEstimator, TransformerMixin\n",
    "from statsmodels.formula.api import ols"
   ]
  },
  {
   "cell_type": "code",
   "execution_count": 3,
   "metadata": {},
   "outputs": [],
   "source": [
    "#import vehicle dataset\n",
    "orig_df = pd.read_csv('data/vehicles.csv') "
   ]
  },
  {
   "cell_type": "markdown",
   "metadata": {},
   "source": [
    "<blockquote>The original dataset contained <b>458,213 rows</b> with <b>26 fields</b>. "
   ]
  },
  {
   "cell_type": "code",
   "execution_count": 128,
   "metadata": {},
   "outputs": [
    {
     "name": "stdout",
     "output_type": "stream",
     "text": [
      "<class 'pandas.core.frame.DataFrame'>\n",
      "RangeIndex: 458213 entries, 0 to 458212\n",
      "Data columns (total 26 columns):\n",
      " #   Column        Non-Null Count   Dtype  \n",
      "---  ------        --------------   -----  \n",
      " 0   Unnamed: 0    458213 non-null  int64  \n",
      " 1   id            458213 non-null  int64  \n",
      " 2   url           458213 non-null  object \n",
      " 3   region        458213 non-null  object \n",
      " 4   region_url    458213 non-null  object \n",
      " 5   price         458213 non-null  int64  \n",
      " 6   year          457163 non-null  float64\n",
      " 7   manufacturer  439993 non-null  object \n",
      " 8   model         453367 non-null  object \n",
      " 9   condition     265273 non-null  object \n",
      " 10  cylinders     287073 non-null  object \n",
      " 11  fuel          454976 non-null  object \n",
      " 12  odometer      402910 non-null  float64\n",
      " 13  title_status  455636 non-null  object \n",
      " 14  transmission  455771 non-null  object \n",
      " 15  VIN           270664 non-null  object \n",
      " 16  drive         324025 non-null  object \n",
      " 17  size          136865 non-null  object \n",
      " 18  type          345475 non-null  object \n",
      " 19  paint_color   317370 non-null  object \n",
      " 20  image_url     458185 non-null  object \n",
      " 21  description   458143 non-null  object \n",
      " 22  state         458213 non-null  object \n",
      " 23  lat           450765 non-null  float64\n",
      " 24  long          450765 non-null  float64\n",
      " 25  posting_date  458185 non-null  object \n",
      "dtypes: float64(4), int64(3), object(19)\n",
      "memory usage: 90.9+ MB\n"
     ]
    }
   ],
   "source": [
    "# Copy original file to car_df to avoid reloading the large file, keep the original dataset in case it is needed. \n",
    "car_df = orig_df.copy()\n",
    "\n",
    "#info\n",
    "car_df.info()"
   ]
  },
  {
   "cell_type": "markdown",
   "metadata": {},
   "source": [
    "<blockquote>These fields(below) were immediately dropped for the following reasons:<br>\n",
    "1) The features were not useful for the two prediction problems in this analysis (id, Unnamed:0, url, image_url, region_url, description)<br>\n",
    "2) There were too many missing values that could not be easily derived (size) <br> \n",
    "3) The features provided similar location information to the \"state\" feature (region, lat, long were dropped and state was kept)"
   ]
  },
  {
   "cell_type": "code",
   "execution_count": 130,
   "metadata": {},
   "outputs": [
    {
     "ename": "KeyError",
     "evalue": "\"['id' 'Unnamed: 0' 'url' 'image_url' 'region_url' 'description' 'size'\\n 'region' 'lat' 'long'] not found in axis\"",
     "output_type": "error",
     "traceback": [
      "\u001b[1;31m---------------------------------------------------------------------------\u001b[0m",
      "\u001b[1;31mKeyError\u001b[0m                                  Traceback (most recent call last)",
      "\u001b[1;32m<ipython-input-130-e4203bbb9b28>\u001b[0m in \u001b[0;36m<module>\u001b[1;34m\u001b[0m\n\u001b[1;32m----> 1\u001b[1;33m car_df = car_df.drop(columns=['id', 'Unnamed: 0', 'url', 'image_url',\n\u001b[0m\u001b[0;32m      2\u001b[0m                               'region_url', 'description', 'size', 'region', 'lat', 'long'])\n",
      "\u001b[1;32m~\\anaconda3\\envs\\DS7331_ML1\\lib\\site-packages\\pandas\\core\\frame.py\u001b[0m in \u001b[0;36mdrop\u001b[1;34m(self, labels, axis, index, columns, level, inplace, errors)\u001b[0m\n\u001b[0;32m   4165\u001b[0m                 \u001b[0mweight\u001b[0m  \u001b[1;36m1.0\u001b[0m     \u001b[1;36m0.8\u001b[0m\u001b[1;33m\u001b[0m\u001b[1;33m\u001b[0m\u001b[0m\n\u001b[0;32m   4166\u001b[0m         \"\"\"\n\u001b[1;32m-> 4167\u001b[1;33m         return super().drop(\n\u001b[0m\u001b[0;32m   4168\u001b[0m             \u001b[0mlabels\u001b[0m\u001b[1;33m=\u001b[0m\u001b[0mlabels\u001b[0m\u001b[1;33m,\u001b[0m\u001b[1;33m\u001b[0m\u001b[1;33m\u001b[0m\u001b[0m\n\u001b[0;32m   4169\u001b[0m             \u001b[0maxis\u001b[0m\u001b[1;33m=\u001b[0m\u001b[0maxis\u001b[0m\u001b[1;33m,\u001b[0m\u001b[1;33m\u001b[0m\u001b[1;33m\u001b[0m\u001b[0m\n",
      "\u001b[1;32m~\\anaconda3\\envs\\DS7331_ML1\\lib\\site-packages\\pandas\\core\\generic.py\u001b[0m in \u001b[0;36mdrop\u001b[1;34m(self, labels, axis, index, columns, level, inplace, errors)\u001b[0m\n\u001b[0;32m   3887\u001b[0m         \u001b[1;32mfor\u001b[0m \u001b[0maxis\u001b[0m\u001b[1;33m,\u001b[0m \u001b[0mlabels\u001b[0m \u001b[1;32min\u001b[0m \u001b[0maxes\u001b[0m\u001b[1;33m.\u001b[0m\u001b[0mitems\u001b[0m\u001b[1;33m(\u001b[0m\u001b[1;33m)\u001b[0m\u001b[1;33m:\u001b[0m\u001b[1;33m\u001b[0m\u001b[1;33m\u001b[0m\u001b[0m\n\u001b[0;32m   3888\u001b[0m             \u001b[1;32mif\u001b[0m \u001b[0mlabels\u001b[0m \u001b[1;32mis\u001b[0m \u001b[1;32mnot\u001b[0m \u001b[1;32mNone\u001b[0m\u001b[1;33m:\u001b[0m\u001b[1;33m\u001b[0m\u001b[1;33m\u001b[0m\u001b[0m\n\u001b[1;32m-> 3889\u001b[1;33m                 \u001b[0mobj\u001b[0m \u001b[1;33m=\u001b[0m \u001b[0mobj\u001b[0m\u001b[1;33m.\u001b[0m\u001b[0m_drop_axis\u001b[0m\u001b[1;33m(\u001b[0m\u001b[0mlabels\u001b[0m\u001b[1;33m,\u001b[0m \u001b[0maxis\u001b[0m\u001b[1;33m,\u001b[0m \u001b[0mlevel\u001b[0m\u001b[1;33m=\u001b[0m\u001b[0mlevel\u001b[0m\u001b[1;33m,\u001b[0m \u001b[0merrors\u001b[0m\u001b[1;33m=\u001b[0m\u001b[0merrors\u001b[0m\u001b[1;33m)\u001b[0m\u001b[1;33m\u001b[0m\u001b[1;33m\u001b[0m\u001b[0m\n\u001b[0m\u001b[0;32m   3890\u001b[0m \u001b[1;33m\u001b[0m\u001b[0m\n\u001b[0;32m   3891\u001b[0m         \u001b[1;32mif\u001b[0m \u001b[0minplace\u001b[0m\u001b[1;33m:\u001b[0m\u001b[1;33m\u001b[0m\u001b[1;33m\u001b[0m\u001b[0m\n",
      "\u001b[1;32m~\\anaconda3\\envs\\DS7331_ML1\\lib\\site-packages\\pandas\\core\\generic.py\u001b[0m in \u001b[0;36m_drop_axis\u001b[1;34m(self, labels, axis, level, errors)\u001b[0m\n\u001b[0;32m   3921\u001b[0m                 \u001b[0mnew_axis\u001b[0m \u001b[1;33m=\u001b[0m \u001b[0maxis\u001b[0m\u001b[1;33m.\u001b[0m\u001b[0mdrop\u001b[0m\u001b[1;33m(\u001b[0m\u001b[0mlabels\u001b[0m\u001b[1;33m,\u001b[0m \u001b[0mlevel\u001b[0m\u001b[1;33m=\u001b[0m\u001b[0mlevel\u001b[0m\u001b[1;33m,\u001b[0m \u001b[0merrors\u001b[0m\u001b[1;33m=\u001b[0m\u001b[0merrors\u001b[0m\u001b[1;33m)\u001b[0m\u001b[1;33m\u001b[0m\u001b[1;33m\u001b[0m\u001b[0m\n\u001b[0;32m   3922\u001b[0m             \u001b[1;32melse\u001b[0m\u001b[1;33m:\u001b[0m\u001b[1;33m\u001b[0m\u001b[1;33m\u001b[0m\u001b[0m\n\u001b[1;32m-> 3923\u001b[1;33m                 \u001b[0mnew_axis\u001b[0m \u001b[1;33m=\u001b[0m \u001b[0maxis\u001b[0m\u001b[1;33m.\u001b[0m\u001b[0mdrop\u001b[0m\u001b[1;33m(\u001b[0m\u001b[0mlabels\u001b[0m\u001b[1;33m,\u001b[0m \u001b[0merrors\u001b[0m\u001b[1;33m=\u001b[0m\u001b[0merrors\u001b[0m\u001b[1;33m)\u001b[0m\u001b[1;33m\u001b[0m\u001b[1;33m\u001b[0m\u001b[0m\n\u001b[0m\u001b[0;32m   3924\u001b[0m             \u001b[0mresult\u001b[0m \u001b[1;33m=\u001b[0m \u001b[0mself\u001b[0m\u001b[1;33m.\u001b[0m\u001b[0mreindex\u001b[0m\u001b[1;33m(\u001b[0m\u001b[1;33m**\u001b[0m\u001b[1;33m{\u001b[0m\u001b[0maxis_name\u001b[0m\u001b[1;33m:\u001b[0m \u001b[0mnew_axis\u001b[0m\u001b[1;33m}\u001b[0m\u001b[1;33m)\u001b[0m\u001b[1;33m\u001b[0m\u001b[1;33m\u001b[0m\u001b[0m\n\u001b[0;32m   3925\u001b[0m \u001b[1;33m\u001b[0m\u001b[0m\n",
      "\u001b[1;32m~\\anaconda3\\envs\\DS7331_ML1\\lib\\site-packages\\pandas\\core\\indexes\\base.py\u001b[0m in \u001b[0;36mdrop\u001b[1;34m(self, labels, errors)\u001b[0m\n\u001b[0;32m   5285\u001b[0m         \u001b[1;32mif\u001b[0m \u001b[0mmask\u001b[0m\u001b[1;33m.\u001b[0m\u001b[0many\u001b[0m\u001b[1;33m(\u001b[0m\u001b[1;33m)\u001b[0m\u001b[1;33m:\u001b[0m\u001b[1;33m\u001b[0m\u001b[1;33m\u001b[0m\u001b[0m\n\u001b[0;32m   5286\u001b[0m             \u001b[1;32mif\u001b[0m \u001b[0merrors\u001b[0m \u001b[1;33m!=\u001b[0m \u001b[1;34m\"ignore\"\u001b[0m\u001b[1;33m:\u001b[0m\u001b[1;33m\u001b[0m\u001b[1;33m\u001b[0m\u001b[0m\n\u001b[1;32m-> 5287\u001b[1;33m                 \u001b[1;32mraise\u001b[0m \u001b[0mKeyError\u001b[0m\u001b[1;33m(\u001b[0m\u001b[1;34mf\"{labels[mask]} not found in axis\"\u001b[0m\u001b[1;33m)\u001b[0m\u001b[1;33m\u001b[0m\u001b[1;33m\u001b[0m\u001b[0m\n\u001b[0m\u001b[0;32m   5288\u001b[0m             \u001b[0mindexer\u001b[0m \u001b[1;33m=\u001b[0m \u001b[0mindexer\u001b[0m\u001b[1;33m[\u001b[0m\u001b[1;33m~\u001b[0m\u001b[0mmask\u001b[0m\u001b[1;33m]\u001b[0m\u001b[1;33m\u001b[0m\u001b[1;33m\u001b[0m\u001b[0m\n\u001b[0;32m   5289\u001b[0m         \u001b[1;32mreturn\u001b[0m \u001b[0mself\u001b[0m\u001b[1;33m.\u001b[0m\u001b[0mdelete\u001b[0m\u001b[1;33m(\u001b[0m\u001b[0mindexer\u001b[0m\u001b[1;33m)\u001b[0m\u001b[1;33m\u001b[0m\u001b[1;33m\u001b[0m\u001b[0m\n",
      "\u001b[1;31mKeyError\u001b[0m: \"['id' 'Unnamed: 0' 'url' 'image_url' 'region_url' 'description' 'size'\\n 'region' 'lat' 'long'] not found in axis\""
     ]
    }
   ],
   "source": [
    "car_df = car_df.drop(columns=['id', 'Unnamed: 0', 'url', 'image_url',\n",
    "                              'region_url', 'description', 'size', 'region', 'lat', 'long'])"
   ]
  },
  {
   "cell_type": "markdown",
   "metadata": {},
   "source": [
    "<blockquote>This is a more detailed description of the fields that will be used for explanatory and response variables after some transformations are applied in <a href='#dataquality'>Data Quality</a> .  The first two variables listed are the ones that will be predicted - price and price_range. </blockquote> \n",
    "   "
   ]
  },
  {
   "cell_type": "code",
   "execution_count": 131,
   "metadata": {},
   "outputs": [
    {
     "data": {
      "text/html": [
       "<style>\n",
       "table {float:left}\n",
       "</style>\n"
      ],
      "text/plain": [
       "<IPython.core.display.HTML object>"
      ]
     },
     "metadata": {},
     "output_type": "display_data"
    }
   ],
   "source": [
    "%%html\n",
    "<style>\n",
    "table {float:left}\n",
    "</style>"
   ]
  },
  {
   "cell_type": "markdown",
   "metadata": {},
   "source": [
    "|<p>Field Name|<p>Description|Type|Scale|\n",
    "|:-----|:-----|:-----|:-----|\n",
    "|<p>price |<p>The price of the vehicle in US dollars. |integer |ratio |\n",
    "|<p>price_range |<p>Price category derived from the \"price\" field, e.g., <1,000, 1,000 - 5, 0000, 5,000 - 10,000, etc. |category |ordinal |\n",
    "|<p>manufacturer |<p>Manufacturer of the vehicle, e.g., honda, jeep, etc.  There are 44 unique values. |category |nominal |\n",
    "|<p>model |<p>Model of the vehicle, e.g., f150, malibue, etc.  There are 31,521 unique models. |category |nominal |\n",
    "|<p>condition_new |<p>Condition of the car with 4 values (salvage, fair_good, excellent_likenew, new).  This field combined some of the values in the original \"condition\" field. |category |ordinal |\n",
    "|<p>cylinders |<p>Number of cylinders in the car ranging from 4 to 12. |integer |interval |\n",
    "|<p>fuel |<p>Type of fuel with the following categories:  'gas', 'diesel', 'other', 'hybrid', 'electric'. |category |nominal |\n",
    "|<p>odometer |<p>Mileage listed for the vehicle. |integer |ratio |\n",
    "|<p>title_status |<p>The title status is of the vehicle:  'clean', 'lien', 'missing', 'salvage', 'rebuilt', 'parts only'. |category |nominal |\n",
    "|<p>transmission_new |<p>Type of transmission:   'other', 'automatic', 'manual'.  This field combined some of the categories from the original 'transmission' field.  The 'other' category includes semi-automatic and dual clutch vehicles. |category |nominal |\n",
    "|<p>drive |<p>Type of drive: ' rwd', 'fwd', '4wd'. |category |nominal |\n",
    "|<p>type_new |<p>Type of vehicle with 9 categories after combining some from the original types:  'sedan', 'pickup_truck', 'coupe', 'crossover', 'mini-van','convertible', 'hatchback', 'van', 'offroad'. |category |nominal |\n",
    "|<p>paint_color_new |<p>Color of the vehicle with 4 categories after combining some from the original colors:   'BlSlvrWhGryMsng', 'BluRdBrwn', 'OrYlwGrnPrpl', 'Custom'. |category |nominal \n",
    "|<p>state |<p>State the vehicle is being sold.  All 50 states are represented as well as a category for D.C. |category |nominal |\n",
    "|<p>car_Age_in_yrs |<p>Derived by subtracting the original year of the vehicle from the date of the Craiglist posting. |integer |ratio |"
   ]
  },
  {
   "cell_type": "markdown",
   "metadata": {},
   "source": [
    "All the categorical variables will be One Hot Encoded in the [New Features](#New-Features) section below."
   ]
  },
  {
   "cell_type": "markdown",
   "metadata": {},
   "source": [
    "## Data Quality\n",
    "*Verify data quality: Explain any missing values, duplicate data, and outliers. Are those mistakes? How do you deal with these problems? Give justifications for your methods.*"
   ]
  },
  {
   "cell_type": "markdown",
   "metadata": {},
   "source": [
    "### Missing values"
   ]
  },
  {
   "cell_type": "markdown",
   "metadata": {},
   "source": [
    "<blockquote>There were a significant number of missing values in the original dataset. The first step taken to address this was to attempt to get the missing values from the Department of Transportation's VIN API (https://vpic.nhtsa.dot.gov/api/) based on VIN number.  From there, the records that had missing values were dropped or combined into \"other\" categories.  More details for each field are outlined below."
   ]
  },
  {
   "cell_type": "code",
   "execution_count": 132,
   "metadata": {},
   "outputs": [
    {
     "data": {
      "text/plain": [
       "price                0\n",
       "year              1050\n",
       "manufacturer     18220\n",
       "model             4846\n",
       "condition       192940\n",
       "cylinders       171140\n",
       "fuel              3237\n",
       "odometer         55303\n",
       "title_status      2577\n",
       "transmission      2442\n",
       "VIN             187549\n",
       "drive           134188\n",
       "type            112738\n",
       "paint_color     140843\n",
       "state                0\n",
       "posting_date        28\n",
       "dtype: int64"
      ]
     },
     "execution_count": 132,
     "metadata": {},
     "output_type": "execute_result"
    }
   ],
   "source": [
    "#n/a's before getting Dept. of Transportation data\n",
    "car_df.isna().sum()"
   ]
  },
  {
   "cell_type": "markdown",
   "metadata": {},
   "source": [
    "<blockquote>Cylinders, year, fuel, drive, transmission, and model were available from the Department of Transportation.  A python wrapper was built to retrieve the data from ReST endpoints based on VIN number of records with missing data.  More details about the scraper are in the <a href='#exceptional'>Exceptional section</a>. Once the data was retrieved, it was exported to a separate csv (vin_data.csv) and imported and merged into car_df to fill in missing values by VIN."
   ]
  },
  {
   "cell_type": "code",
   "execution_count": 133,
   "metadata": {},
   "outputs": [],
   "source": [
    "#import VIN dataset\n",
    "vin_df  = pd.read_csv('data/vin_data.csv',sep='|', encoding='latin-1')"
   ]
  },
  {
   "cell_type": "code",
   "execution_count": 134,
   "metadata": {},
   "outputs": [],
   "source": [
    "class MergeTransform(BaseEstimator, TransformerMixin):\n",
    "    def __init__(self, original_dataset, column_map, columns_to_drop, join_column):\n",
    "        self.original_dataset = original_dataset\n",
    "        self.column_map = column_map\n",
    "        self.columns_to_drop = columns_to_drop\n",
    "        self.join_column = join_column\n",
    "    #\n",
    "\n",
    "    def fit(self, X, y=None):\n",
    "        return self\n",
    "    #\n",
    "\n",
    "    def transform(self, X, y=None):\n",
    "        #\n",
    "        X = X.drop_duplicates(['VIN'])\n",
    "        #\n",
    "        merged_dataset = pd.merge(\n",
    "            self.original_dataset, X, how='left', on=self.join_column)\n",
    "        #\n",
    "        for k, v in self.column_map:\n",
    "            merged_dataset[k].fillna(merged_dataset[v], inplace=True)\n",
    "        #\n",
    "        merged_dataset.drop(self.columns_to_drop, axis=1, inplace=True)\n",
    "        merged_dataset['cylinders'] = merged_dataset['cylinders'].replace(\n",
    "            {'cylinders': ''}, regex=True)\n",
    "        #\n",
    "        return merged_dataset\n",
    "\n",
    "\n",
    "# The datasets will be joined on VIN\n",
    "join_col = ['VIN']\n",
    "\n",
    "# These are the columns that are being cleaned up. The column on the left is the from the cars dataset. These columns\n",
    "# have null values and need to be replaced from the VIN dataset\n",
    "column_transform_map = [['cylinders', 'EngineCylinders'],\n",
    "                        ['year', 'ModelYear'],\n",
    "                        ['fuel', 'FuelTypePrimary'],\n",
    "                        ['drive', 'DriveType'],\n",
    "                        ['transmission', 'TransmissionStyle'],\n",
    "                        ['model', 'Model']]\n",
    "\n",
    "# These are additional columns from the VIN dataset an can be dropped after the merge\n",
    "columns_to_drop = ['DriveType', 'EngineCylinders', 'EngineManufacturer', 'EngineModel', 'Make', 'Manufacturer',\n",
    "                   'Model', 'ModelYear', 'PlantCompanyName', 'TransmissionSpeeds', 'TransmissionStyle', 'FuelTypePrimary']\n",
    "\n",
    "# Create an instance of the transformer\n",
    "transformer = MergeTransform(\n",
    "    car_df, column_transform_map, columns_to_drop, join_col)\n",
    "\n",
    "# Run the transformer to generate the clean dataset\n",
    "car_df = transformer.transform(vin_df)\n"
   ]
  },
  {
   "cell_type": "markdown",
   "metadata": {},
   "source": [
    "<blockquote>After merging the original dataset with the VIN dataset, the missing values have been reduced. We can see the differences in the table that mentions the before and after counts"
   ]
  },
  {
   "cell_type": "code",
   "execution_count": 135,
   "metadata": {},
   "outputs": [
    {
     "data": {
      "text/plain": [
       "price                0\n",
       "year               145\n",
       "manufacturer     18220\n",
       "model             3837\n",
       "condition       192940\n",
       "cylinders        80402\n",
       "fuel               415\n",
       "odometer         55303\n",
       "title_status      2577\n",
       "transmission      1940\n",
       "VIN             187549\n",
       "drive            92235\n",
       "type            112738\n",
       "paint_color     140843\n",
       "state                0\n",
       "posting_date        28\n",
       "dtype: int64"
      ]
     },
     "execution_count": 135,
     "metadata": {},
     "output_type": "execute_result"
    }
   ],
   "source": [
    "#n/as after getting Dept. of Transportation data\n",
    "car_df.isna().sum()"
   ]
  },
  {
   "cell_type": "markdown",
   "metadata": {},
   "source": [
    "| Column | Before Merge Null Count| After Merge Null Count|\n",
    "| --- | --- | --- |\n",
    "price        |     0 |       0 |\n",
    "year         |  1050 |     145 |\n",
    "manufacturer | 18220 |   18220 |\n",
    "model        |  4846 |    3837 |\n",
    "condition    |192940 |  192940 |\n",
    "cylinders    |171140 |   80402 |\n",
    "fuel         |  3237 |     415 |\n",
    "odometer     | 55303 |   55303 |\n",
    "title_status |  2577 |    2577 |\n",
    "transmission |  2442 |    1940 |\n",
    "VIN          |187549 |  187549 |\n",
    "drive        |134188 |   92235 |\n",
    "type         |112738 |  112738 |\n",
    "paint_color  |140843 |  140843 |\n",
    "state        |     0 |       0 |\n",
    "posting_date |    28 |      28 |\n"
   ]
  },
  {
   "cell_type": "markdown",
   "metadata": {},
   "source": [
    "<blockquote>The VIN column was then dropped since it was no longer needed for the analysis."
   ]
  },
  {
   "cell_type": "code",
   "execution_count": 145,
   "metadata": {},
   "outputs": [
    {
     "ename": "KeyError",
     "evalue": "\"['VIN'] not found in axis\"",
     "output_type": "error",
     "traceback": [
      "\u001b[1;31m---------------------------------------------------------------------------\u001b[0m",
      "\u001b[1;31mKeyError\u001b[0m                                  Traceback (most recent call last)",
      "\u001b[1;32m<ipython-input-145-ec3eb7a41596>\u001b[0m in \u001b[0;36m<module>\u001b[1;34m\u001b[0m\n\u001b[0;32m      1\u001b[0m \u001b[1;31m#drop extra ID fields, URL fields, region fields, and description\u001b[0m\u001b[1;33m\u001b[0m\u001b[1;33m\u001b[0m\u001b[1;33m\u001b[0m\u001b[0m\n\u001b[1;32m----> 2\u001b[1;33m \u001b[0mcar_df\u001b[0m \u001b[1;33m=\u001b[0m \u001b[0mcar_df\u001b[0m\u001b[1;33m.\u001b[0m\u001b[0mdrop\u001b[0m\u001b[1;33m(\u001b[0m\u001b[0mcolumns\u001b[0m\u001b[1;33m=\u001b[0m\u001b[1;33m[\u001b[0m\u001b[1;34m'VIN'\u001b[0m\u001b[1;33m]\u001b[0m\u001b[1;33m)\u001b[0m\u001b[1;33m\u001b[0m\u001b[1;33m\u001b[0m\u001b[0m\n\u001b[0m",
      "\u001b[1;32m~\\anaconda3\\envs\\DS7331_ML1\\lib\\site-packages\\pandas\\core\\frame.py\u001b[0m in \u001b[0;36mdrop\u001b[1;34m(self, labels, axis, index, columns, level, inplace, errors)\u001b[0m\n\u001b[0;32m   4165\u001b[0m                 \u001b[0mweight\u001b[0m  \u001b[1;36m1.0\u001b[0m     \u001b[1;36m0.8\u001b[0m\u001b[1;33m\u001b[0m\u001b[1;33m\u001b[0m\u001b[0m\n\u001b[0;32m   4166\u001b[0m         \"\"\"\n\u001b[1;32m-> 4167\u001b[1;33m         return super().drop(\n\u001b[0m\u001b[0;32m   4168\u001b[0m             \u001b[0mlabels\u001b[0m\u001b[1;33m=\u001b[0m\u001b[0mlabels\u001b[0m\u001b[1;33m,\u001b[0m\u001b[1;33m\u001b[0m\u001b[1;33m\u001b[0m\u001b[0m\n\u001b[0;32m   4169\u001b[0m             \u001b[0maxis\u001b[0m\u001b[1;33m=\u001b[0m\u001b[0maxis\u001b[0m\u001b[1;33m,\u001b[0m\u001b[1;33m\u001b[0m\u001b[1;33m\u001b[0m\u001b[0m\n",
      "\u001b[1;32m~\\anaconda3\\envs\\DS7331_ML1\\lib\\site-packages\\pandas\\core\\generic.py\u001b[0m in \u001b[0;36mdrop\u001b[1;34m(self, labels, axis, index, columns, level, inplace, errors)\u001b[0m\n\u001b[0;32m   3887\u001b[0m         \u001b[1;32mfor\u001b[0m \u001b[0maxis\u001b[0m\u001b[1;33m,\u001b[0m \u001b[0mlabels\u001b[0m \u001b[1;32min\u001b[0m \u001b[0maxes\u001b[0m\u001b[1;33m.\u001b[0m\u001b[0mitems\u001b[0m\u001b[1;33m(\u001b[0m\u001b[1;33m)\u001b[0m\u001b[1;33m:\u001b[0m\u001b[1;33m\u001b[0m\u001b[1;33m\u001b[0m\u001b[0m\n\u001b[0;32m   3888\u001b[0m             \u001b[1;32mif\u001b[0m \u001b[0mlabels\u001b[0m \u001b[1;32mis\u001b[0m \u001b[1;32mnot\u001b[0m \u001b[1;32mNone\u001b[0m\u001b[1;33m:\u001b[0m\u001b[1;33m\u001b[0m\u001b[1;33m\u001b[0m\u001b[0m\n\u001b[1;32m-> 3889\u001b[1;33m                 \u001b[0mobj\u001b[0m \u001b[1;33m=\u001b[0m \u001b[0mobj\u001b[0m\u001b[1;33m.\u001b[0m\u001b[0m_drop_axis\u001b[0m\u001b[1;33m(\u001b[0m\u001b[0mlabels\u001b[0m\u001b[1;33m,\u001b[0m \u001b[0maxis\u001b[0m\u001b[1;33m,\u001b[0m \u001b[0mlevel\u001b[0m\u001b[1;33m=\u001b[0m\u001b[0mlevel\u001b[0m\u001b[1;33m,\u001b[0m \u001b[0merrors\u001b[0m\u001b[1;33m=\u001b[0m\u001b[0merrors\u001b[0m\u001b[1;33m)\u001b[0m\u001b[1;33m\u001b[0m\u001b[1;33m\u001b[0m\u001b[0m\n\u001b[0m\u001b[0;32m   3890\u001b[0m \u001b[1;33m\u001b[0m\u001b[0m\n\u001b[0;32m   3891\u001b[0m         \u001b[1;32mif\u001b[0m \u001b[0minplace\u001b[0m\u001b[1;33m:\u001b[0m\u001b[1;33m\u001b[0m\u001b[1;33m\u001b[0m\u001b[0m\n",
      "\u001b[1;32m~\\anaconda3\\envs\\DS7331_ML1\\lib\\site-packages\\pandas\\core\\generic.py\u001b[0m in \u001b[0;36m_drop_axis\u001b[1;34m(self, labels, axis, level, errors)\u001b[0m\n\u001b[0;32m   3921\u001b[0m                 \u001b[0mnew_axis\u001b[0m \u001b[1;33m=\u001b[0m \u001b[0maxis\u001b[0m\u001b[1;33m.\u001b[0m\u001b[0mdrop\u001b[0m\u001b[1;33m(\u001b[0m\u001b[0mlabels\u001b[0m\u001b[1;33m,\u001b[0m \u001b[0mlevel\u001b[0m\u001b[1;33m=\u001b[0m\u001b[0mlevel\u001b[0m\u001b[1;33m,\u001b[0m \u001b[0merrors\u001b[0m\u001b[1;33m=\u001b[0m\u001b[0merrors\u001b[0m\u001b[1;33m)\u001b[0m\u001b[1;33m\u001b[0m\u001b[1;33m\u001b[0m\u001b[0m\n\u001b[0;32m   3922\u001b[0m             \u001b[1;32melse\u001b[0m\u001b[1;33m:\u001b[0m\u001b[1;33m\u001b[0m\u001b[1;33m\u001b[0m\u001b[0m\n\u001b[1;32m-> 3923\u001b[1;33m                 \u001b[0mnew_axis\u001b[0m \u001b[1;33m=\u001b[0m \u001b[0maxis\u001b[0m\u001b[1;33m.\u001b[0m\u001b[0mdrop\u001b[0m\u001b[1;33m(\u001b[0m\u001b[0mlabels\u001b[0m\u001b[1;33m,\u001b[0m \u001b[0merrors\u001b[0m\u001b[1;33m=\u001b[0m\u001b[0merrors\u001b[0m\u001b[1;33m)\u001b[0m\u001b[1;33m\u001b[0m\u001b[1;33m\u001b[0m\u001b[0m\n\u001b[0m\u001b[0;32m   3924\u001b[0m             \u001b[0mresult\u001b[0m \u001b[1;33m=\u001b[0m \u001b[0mself\u001b[0m\u001b[1;33m.\u001b[0m\u001b[0mreindex\u001b[0m\u001b[1;33m(\u001b[0m\u001b[1;33m**\u001b[0m\u001b[1;33m{\u001b[0m\u001b[0maxis_name\u001b[0m\u001b[1;33m:\u001b[0m \u001b[0mnew_axis\u001b[0m\u001b[1;33m}\u001b[0m\u001b[1;33m)\u001b[0m\u001b[1;33m\u001b[0m\u001b[1;33m\u001b[0m\u001b[0m\n\u001b[0;32m   3925\u001b[0m \u001b[1;33m\u001b[0m\u001b[0m\n",
      "\u001b[1;32m~\\anaconda3\\envs\\DS7331_ML1\\lib\\site-packages\\pandas\\core\\indexes\\base.py\u001b[0m in \u001b[0;36mdrop\u001b[1;34m(self, labels, errors)\u001b[0m\n\u001b[0;32m   5285\u001b[0m         \u001b[1;32mif\u001b[0m \u001b[0mmask\u001b[0m\u001b[1;33m.\u001b[0m\u001b[0many\u001b[0m\u001b[1;33m(\u001b[0m\u001b[1;33m)\u001b[0m\u001b[1;33m:\u001b[0m\u001b[1;33m\u001b[0m\u001b[1;33m\u001b[0m\u001b[0m\n\u001b[0;32m   5286\u001b[0m             \u001b[1;32mif\u001b[0m \u001b[0merrors\u001b[0m \u001b[1;33m!=\u001b[0m \u001b[1;34m\"ignore\"\u001b[0m\u001b[1;33m:\u001b[0m\u001b[1;33m\u001b[0m\u001b[1;33m\u001b[0m\u001b[0m\n\u001b[1;32m-> 5287\u001b[1;33m                 \u001b[1;32mraise\u001b[0m \u001b[0mKeyError\u001b[0m\u001b[1;33m(\u001b[0m\u001b[1;34mf\"{labels[mask]} not found in axis\"\u001b[0m\u001b[1;33m)\u001b[0m\u001b[1;33m\u001b[0m\u001b[1;33m\u001b[0m\u001b[0m\n\u001b[0m\u001b[0;32m   5288\u001b[0m             \u001b[0mindexer\u001b[0m \u001b[1;33m=\u001b[0m \u001b[0mindexer\u001b[0m\u001b[1;33m[\u001b[0m\u001b[1;33m~\u001b[0m\u001b[0mmask\u001b[0m\u001b[1;33m]\u001b[0m\u001b[1;33m\u001b[0m\u001b[1;33m\u001b[0m\u001b[0m\n\u001b[0;32m   5289\u001b[0m         \u001b[1;32mreturn\u001b[0m \u001b[0mself\u001b[0m\u001b[1;33m.\u001b[0m\u001b[0mdelete\u001b[0m\u001b[1;33m(\u001b[0m\u001b[0mindexer\u001b[0m\u001b[1;33m)\u001b[0m\u001b[1;33m\u001b[0m\u001b[1;33m\u001b[0m\u001b[0m\n",
      "\u001b[1;31mKeyError\u001b[0m: \"['VIN'] not found in axis\""
     ]
    }
   ],
   "source": [
    "#drop extra ID fields, URL fields, region fields, and description\n",
    "car_df = car_df.drop(columns=['VIN'])"
   ]
  },
  {
   "cell_type": "markdown",
   "metadata": {},
   "source": [
    "<blockquote>For seven of the columns that still have missing data and no source to obtain it, the rows with missing values were dropped (condition, title_status, drive, fuel, model, manufacturer, type, and year).  Since these columns seemed to be important for predicition, it was determined that these columns not be dropped from the dataset. The remaining n/a's are combined with other fields in the section below for <a href='#recategorization'>Re-Categorizing Data</a>."
   ]
  },
  {
   "cell_type": "code",
   "execution_count": 146,
   "metadata": {},
   "outputs": [],
   "source": [
    "#drop rows with n/a for important variables that couldn't be obtained from the dept. of transportation\n",
    "car_df = car_df[car_df['condition'].notna()]\n",
    "car_df = car_df[car_df['title_status'].notna()]\n",
    "car_df = car_df[car_df['drive'].notna()]\n",
    "car_df = car_df[car_df['fuel'].notna()]\n",
    "car_df = car_df[car_df['model'].notna()]\n",
    "car_df = car_df[car_df['manufacturer'].notna()]\n",
    "car_df = car_df[car_df['type'].notna()]\n",
    "car_df['year'].dropna(inplace=True)"
   ]
  },
  {
   "cell_type": "markdown",
   "metadata": {},
   "source": [
    "### Outliers\n",
    "\n",
    "Price, year, and odometer had some major outliers. A lot of the extreme outliers seemed to be mistakes (e.g., 3.5 billion for price, 1900 for year). We implemented a quantile method to screen out the outliers. We set the upper limit for the quantile to 0.99 and the lower limit to 0.01. \n",
    "\n",
    "* **Year:** The number of records for year reduced from 457,163 to 441,660 while the IQR (delta between Q1- 25th percentiles and Q3-75th percentiles) stayed the same. The mean of the two is about the same between 2010 and 2011. The left tail of the year distribution pull back significantly from 1900 to 1970 due to this outlier screening. <p>\n",
    "\n",
    "* **Odometer:** The number of records reduced from 402,910 to 394,622. IQR is quite close between the two (93,123 vs 91,218). The standard deviation is greatly improved from 3,228,623 to 58,661. The max odometer reading changed from 2,043,756,000 (which did not make any sense) to 269,930. <p>\n",
    "\n",
    "* **Price** The price has several extreme outliers which went as high as $3.6 billion. The count reduced from 458,213 to 419,847. The IQR is extremely wide before outlier screening (210,050 vs 16,002). The standard deviation is improved with outlier screening from 8,194,599 to 11,991."
   ]
  },
  {
   "cell_type": "code",
   "execution_count": 147,
   "metadata": {},
   "outputs": [],
   "source": [
    "# use quantile to remove outliers\n",
    "# creating a new data frame car_df1 to compare the before and after snapshot from the outlier correction.\n",
    "# we will later copy back car_df1 to car_df for easier code readability\n",
    "\n",
    "q_hi = car_df['price'].quantile(0.99)\n",
    "q_low = car_df['price'].quantile(0.01)\n",
    "car_df1 = car_df[(car_df['price'] < q_hi) & (car_df['price'] > q_low)]\n",
    "\n",
    "q_hi = car_df1['year'].quantile(0.99)\n",
    "q_low = car_df1['year'].quantile(0.01)\n",
    "car_df1 = car_df1[(car_df1['year'] < q_hi) & (car_df1['year'] > q_low)]\n",
    "\n",
    "q_hi = car_df1['odometer'].quantile(0.99)\n",
    "q_low = car_df1['odometer'].quantile(0.01)\n",
    "car_df1 = car_df1[(car_df1['odometer'] < q_hi) & (car_df1['odometer'] > q_low)]"
   ]
  },
  {
   "cell_type": "markdown",
   "metadata": {},
   "source": [
    "<blockquote>Summary for price, year, odometer before removing outliers. Seeing the boxplots, we can conclude that there are outliers that are skewing the data"
   ]
  },
  {
   "cell_type": "code",
   "execution_count": 148,
   "metadata": {},
   "outputs": [
    {
     "data": {
      "text/html": [
       "<div>\n",
       "<style scoped>\n",
       "    .dataframe tbody tr th:only-of-type {\n",
       "        vertical-align: middle;\n",
       "    }\n",
       "\n",
       "    .dataframe tbody tr th {\n",
       "        vertical-align: top;\n",
       "    }\n",
       "\n",
       "    .dataframe thead th {\n",
       "        text-align: right;\n",
       "    }\n",
       "</style>\n",
       "<table border=\"1\" class=\"dataframe\">\n",
       "  <thead>\n",
       "    <tr style=\"text-align: right;\">\n",
       "      <th></th>\n",
       "      <th>price</th>\n",
       "      <th>year</th>\n",
       "      <th>odometer</th>\n",
       "    </tr>\n",
       "  </thead>\n",
       "  <tbody>\n",
       "    <tr>\n",
       "      <th>count</th>\n",
       "      <td>2.030010e+05</td>\n",
       "      <td>203001.000000</td>\n",
       "      <td>1.917620e+05</td>\n",
       "    </tr>\n",
       "    <tr>\n",
       "      <th>mean</th>\n",
       "      <td>3.524055e+04</td>\n",
       "      <td>2010.890168</td>\n",
       "      <td>1.061668e+05</td>\n",
       "    </tr>\n",
       "    <tr>\n",
       "      <th>std</th>\n",
       "      <td>8.038314e+06</td>\n",
       "      <td>8.010294</td>\n",
       "      <td>4.677272e+06</td>\n",
       "    </tr>\n",
       "    <tr>\n",
       "      <th>min</th>\n",
       "      <td>0.000000e+00</td>\n",
       "      <td>1900.000000</td>\n",
       "      <td>0.000000e+00</td>\n",
       "    </tr>\n",
       "    <tr>\n",
       "      <th>25%</th>\n",
       "      <td>5.500000e+03</td>\n",
       "      <td>2008.000000</td>\n",
       "      <td>3.766400e+04</td>\n",
       "    </tr>\n",
       "    <tr>\n",
       "      <th>50%</th>\n",
       "      <td>1.195000e+04</td>\n",
       "      <td>2013.000000</td>\n",
       "      <td>8.574700e+04</td>\n",
       "    </tr>\n",
       "    <tr>\n",
       "      <th>75%</th>\n",
       "      <td>2.199500e+04</td>\n",
       "      <td>2016.000000</td>\n",
       "      <td>1.347300e+05</td>\n",
       "    </tr>\n",
       "    <tr>\n",
       "      <th>max</th>\n",
       "      <td>3.615215e+09</td>\n",
       "      <td>2021.000000</td>\n",
       "      <td>2.043756e+09</td>\n",
       "    </tr>\n",
       "  </tbody>\n",
       "</table>\n",
       "</div>"
      ],
      "text/plain": [
       "              price           year      odometer\n",
       "count  2.030010e+05  203001.000000  1.917620e+05\n",
       "mean   3.524055e+04    2010.890168  1.061668e+05\n",
       "std    8.038314e+06       8.010294  4.677272e+06\n",
       "min    0.000000e+00    1900.000000  0.000000e+00\n",
       "25%    5.500000e+03    2008.000000  3.766400e+04\n",
       "50%    1.195000e+04    2013.000000  8.574700e+04\n",
       "75%    2.199500e+04    2016.000000  1.347300e+05\n",
       "max    3.615215e+09    2021.000000  2.043756e+09"
      ]
     },
     "execution_count": 148,
     "metadata": {},
     "output_type": "execute_result"
    }
   ],
   "source": [
    "car_df[['price','year','odometer']].describe()"
   ]
  },
  {
   "cell_type": "code",
   "execution_count": 149,
   "metadata": {},
   "outputs": [
    {
     "data": {
      "image/png": "[encoded data removed]",
      "text/plain": [
       "<Figure size 864x360 with 3 Axes>"
      ]
     },
     "metadata": {
      "needs_background": "light"
     },
     "output_type": "display_data"
    }
   ],
   "source": [
    "# boxplots before removing the outliers\n",
    "fig, axs = plt.subplots(ncols=3, figsize=(12,5))\n",
    "sns.boxplot(y=car_df['price'], ax=axs[0])\n",
    "sns.boxplot(y=car_df['year'], ax=axs[1])\n",
    "sns.boxplot(y=car_df['odometer'], ax=axs[2])\n",
    "plt.show()"
   ]
  },
  {
   "cell_type": "markdown",
   "metadata": {},
   "source": [
    "<blockquote>The data and boxplot reflects that the skewed observations are removed after removing outliers "
   ]
  },
  {
   "cell_type": "code",
   "execution_count": 150,
   "metadata": {},
   "outputs": [
    {
     "data": {
      "text/html": [
       "<div>\n",
       "<style scoped>\n",
       "    .dataframe tbody tr th:only-of-type {\n",
       "        vertical-align: middle;\n",
       "    }\n",
       "\n",
       "    .dataframe tbody tr th {\n",
       "        vertical-align: top;\n",
       "    }\n",
       "\n",
       "    .dataframe thead th {\n",
       "        text-align: right;\n",
       "    }\n",
       "</style>\n",
       "<table border=\"1\" class=\"dataframe\">\n",
       "  <thead>\n",
       "    <tr style=\"text-align: right;\">\n",
       "      <th></th>\n",
       "      <th>price</th>\n",
       "      <th>year</th>\n",
       "      <th>odometer</th>\n",
       "    </tr>\n",
       "  </thead>\n",
       "  <tbody>\n",
       "    <tr>\n",
       "      <th>count</th>\n",
       "      <td>173449.000000</td>\n",
       "      <td>173449.000000</td>\n",
       "      <td>173449.000000</td>\n",
       "    </tr>\n",
       "    <tr>\n",
       "      <th>mean</th>\n",
       "      <td>15294.256813</td>\n",
       "      <td>2011.298024</td>\n",
       "      <td>94339.717652</td>\n",
       "    </tr>\n",
       "    <tr>\n",
       "      <th>std</th>\n",
       "      <td>11041.568001</td>\n",
       "      <td>5.945514</td>\n",
       "      <td>59592.115171</td>\n",
       "    </tr>\n",
       "    <tr>\n",
       "      <th>min</th>\n",
       "      <td>1.000000</td>\n",
       "      <td>1977.000000</td>\n",
       "      <td>181.000000</td>\n",
       "    </tr>\n",
       "    <tr>\n",
       "      <th>25%</th>\n",
       "      <td>6426.000000</td>\n",
       "      <td>2008.000000</td>\n",
       "      <td>42347.000000</td>\n",
       "    </tr>\n",
       "    <tr>\n",
       "      <th>50%</th>\n",
       "      <td>12590.000000</td>\n",
       "      <td>2013.000000</td>\n",
       "      <td>90000.000000</td>\n",
       "    </tr>\n",
       "    <tr>\n",
       "      <th>75%</th>\n",
       "      <td>22500.000000</td>\n",
       "      <td>2016.000000</td>\n",
       "      <td>136675.000000</td>\n",
       "    </tr>\n",
       "    <tr>\n",
       "      <th>max</th>\n",
       "      <td>52948.000000</td>\n",
       "      <td>2019.000000</td>\n",
       "      <td>269781.000000</td>\n",
       "    </tr>\n",
       "  </tbody>\n",
       "</table>\n",
       "</div>"
      ],
      "text/plain": [
       "               price           year       odometer\n",
       "count  173449.000000  173449.000000  173449.000000\n",
       "mean    15294.256813    2011.298024   94339.717652\n",
       "std     11041.568001       5.945514   59592.115171\n",
       "min         1.000000    1977.000000     181.000000\n",
       "25%      6426.000000    2008.000000   42347.000000\n",
       "50%     12590.000000    2013.000000   90000.000000\n",
       "75%     22500.000000    2016.000000  136675.000000\n",
       "max     52948.000000    2019.000000  269781.000000"
      ]
     },
     "execution_count": 150,
     "metadata": {},
     "output_type": "execute_result"
    }
   ],
   "source": [
    "car_df1[['price','year','odometer']].describe()"
   ]
  },
  {
   "cell_type": "code",
   "execution_count": 151,
   "metadata": {},
   "outputs": [
    {
     "data": {
      "image/png": "[encoded data removed]",
      "text/plain": [
       "<Figure size 864x360 with 3 Axes>"
      ]
     },
     "metadata": {
      "needs_background": "light"
     },
     "output_type": "display_data"
    }
   ],
   "source": [
    "# boxplots after removing the outliers\n",
    "fig, axs = plt.subplots(ncols=3, figsize=(12,5))\n",
    "sns.boxplot(y=car_df1['price'], ax=axs[0])\n",
    "sns.boxplot(y=car_df1['year'], ax=axs[1])\n",
    "sns.boxplot(y=car_df1['odometer'], ax=axs[2])\n",
    "plt.show()"
   ]
  },
  {
   "cell_type": "markdown",
   "metadata": {},
   "source": [
    "### <a id=\"recategorization\">Re-Categorizing Data</a>"
   ]
  },
  {
   "cell_type": "markdown",
   "metadata": {},
   "source": [
    "<blockquote>The drive type of a vehicle indicates the type of climate and conditions that the vehicle is optimized for.  After retrieving data from the Dept. of Transportation, there were some text mismatches that represented the same types of drives.  After re-categorizing, these are the final categories:<p>\n",
    "    \n",
    "    rwd:  Rear-wheel drive \n",
    "    4wd:  Four-wheel drive\n",
    "    fwd:  Front-wheel drive\n",
    "    others:  As indicated by the seller or when no value was specified.  Glider was categorized here as well."
   ]
  },
  {
   "cell_type": "code",
   "execution_count": 152,
   "metadata": {},
   "outputs": [],
   "source": [
    "# Copy back car_df1 to car_df \n",
    "car_df = car_df1.copy()"
   ]
  },
  {
   "cell_type": "code",
   "execution_count": 191,
   "metadata": {
    "scrolled": true
   },
   "outputs": [
    {
     "data": {
      "text/plain": [
       "array(['rwd', 'fwd', '4wd', 'others'], dtype=object)"
      ]
     },
     "execution_count": 191,
     "metadata": {},
     "output_type": "execute_result"
    }
   ],
   "source": [
    "# Regroup different drive types\n",
    "drive_types = [\n",
    "    # begin transformation for 4wd\n",
    "    (car_df['drive'] == \"4WD/4-Wheel Drive/4x4\") | \n",
    "    (car_df['drive'] == \"4wd\") | \n",
    "    (car_df['drive'] == \"4WD/4-Wheel Drive/4x4\") | \n",
    "    (car_df['drive'] == \"2WD/4WD\") | \n",
    "    (car_df['drive'] == \"6x4\") | \n",
    "    (car_df['drive'] == \"6x2\") | \n",
    "    (car_df['drive'] == \"AWD/All Wheel Drive\"),\n",
    "    # begin transformation for fwd\n",
    "    (car_df['drive'] == \"4x2\") | \n",
    "    (car_df['drive'] == \"2WD/4WD\") | \n",
    "    (car_df['drive'] == \"FWD/Front Wheel Drive\") | \n",
    "    (car_df['drive'] == \"fwd\"),\n",
    "    # begin transformation for rwd\n",
    "    (car_df['drive'] == \"RWD/ Rear Wheel Drive\") | \n",
    "    (car_df['drive'] == \"rwd\"),\n",
    "    # begin transformation for others\n",
    "    (car_df['drive'] == \"Not Applicable\") | \n",
    "    (car_df['drive'] == \"Other\") | \n",
    "    (car_df['drive'] == \"Glider\")\n",
    "]\n",
    "\n",
    "# new drive categories\n",
    "drive_values = ['4wd', 'fwd', 'rwd', 'others']\n",
    "\n",
    "# new drive column\n",
    "car_df['drive_new'] = np.select(drive_types, drive_values)\n",
    "car_df['drive_new'].unique()\n"
   ]
  },
  {
   "cell_type": "markdown",
   "metadata": {},
   "source": [
    "<blockquote>One of the goals of this project is to predict categorical responses for price range.  A new category field named \"price_range\" was derived from the \"price\" field. These are the final categories:\n",
    "    \n",
    "    < 1K\n",
    "    1K-5K \n",
    "    5K-10K \n",
    "    10K-15K\n",
    "    15k-30K \n",
    "    30K-50K \n",
    "    > 50K\n",
    "    "
   ]
  },
  {
   "cell_type": "code",
   "execution_count": 192,
   "metadata": {},
   "outputs": [
    {
     "data": {
      "text/plain": [
       "['30K-50K', '5K-10K', '15k-30K', '1K-5K', '10K-15K', '<1K', '>50K']\n",
       "Categories (7, object): ['<1K' < '1K-5K' < '5K-10K' < '10K-15K' < '15k-30K' < '30K-50K' < '>50K']"
      ]
     },
     "execution_count": 192,
     "metadata": {},
     "output_type": "execute_result"
    }
   ],
   "source": [
    "#Create column price_range to classify price of a car into one of the following groups: ('<1K' < '1K-5K' < '5K-10K' < '10K-15K' < '15k-30K' < '30K-50K' < '>50K'etc.)\n",
    "\n",
    "car_df['price_range'] = pd.cut(x=car_df['price'], bins=[-1, \n",
    "                                                        1000, \n",
    "                                                        5000,\n",
    "                                                        10000,\n",
    "                                                        15000,\n",
    "                                                        30000,\n",
    "                                                        50000, \n",
    "                                                        100000],\n",
    "                                                 labels=['<1K', \n",
    "                                                         '1K-5K', \n",
    "                                                         '5K-10K',\n",
    "                                                         '10K-15K', \n",
    "                                                         '15k-30K',\n",
    "                                                         '30K-50K', \n",
    "                                                         '>50K' ])\n",
    "car_df['price_range'].unique()"
   ]
  },
  {
   "cell_type": "markdown",
   "metadata": {},
   "source": [
    "<blockquote>\"Condition\" of the vehicles is determined by the seller.  Because some of them were very similar, they were re-grouped to a condition_new field with these final categories:\n",
    "    \n",
    "    salvage\n",
    "    good_fair\n",
    "    excellent_likenew\n",
    "    new"
   ]
  },
  {
   "cell_type": "code",
   "execution_count": 193,
   "metadata": {},
   "outputs": [
    {
     "data": {
      "text/plain": [
       "array(['good_fair', 'excellent_likenew', 'new', 'salvage'], dtype=object)"
      ]
     },
     "execution_count": 193,
     "metadata": {},
     "output_type": "execute_result"
    }
   ],
   "source": [
    "#combine conditions to 4 categories with the following groupings ('good', 'fair'), ('excellent','like new'), 'salvage', 'new' \n",
    "conditions = [\n",
    "    # begin transformation for good_fair\n",
    "    (car_df['condition'] == \"good\") | \n",
    "    (car_df['condition'] == \"fair\"),\n",
    "    (car_df['condition'] == \"excellent\") | \n",
    "    # begin transformation for excellent_likenew\n",
    "    (car_df['condition'] == \"like new\"),\n",
    "    # begin transformation for salvage\n",
    "    (car_df['condition'] == \"salvage\"),\n",
    "    # begin transformation for new\n",
    "    (car_df['condition'] == \"new\")\n",
    "    ]\n",
    "\n",
    "#new condition categories\n",
    "values = ['good_fair', 'excellent_likenew', 'salvage', 'new']\n",
    "\n",
    "#new condition column\n",
    "car_df['condition_new'] = np.select(conditions, values)\n",
    "car_df['condition_new'].unique()"
   ]
  },
  {
   "cell_type": "code",
   "execution_count": 194,
   "metadata": {},
   "outputs": [],
   "source": [
    "#drop the original condition field\n",
    "car_df = car_df.drop(columns=['condition'])\n",
    "\n",
    "#drop the original  drive field\n",
    "car_df = car_df.drop(columns=['drive'])"
   ]
  },
  {
   "cell_type": "markdown",
   "metadata": {},
   "source": [
    "<blockquote>'Transmission' types had a similar issue to drives in that different text values represented the same thing after the Dept. of Transportation data was retrieved.  This field was regrouped into a 'transmission_new' field with these final categories: automatic, manual, and other. The \"other\" field consists of transmissions such as Semi-Automatic and Dual-Clutch."
   ]
  },
  {
   "cell_type": "code",
   "execution_count": 195,
   "metadata": {},
   "outputs": [
    {
     "data": {
      "text/plain": [
       "array(['Other', 'Automatic', 'Manual'], dtype=object)"
      ]
     },
     "execution_count": 195,
     "metadata": {},
     "output_type": "execute_result"
    }
   ],
   "source": [
    "#Group different transmission categories. \n",
    "car_df['transmission'] = car_df['transmission'].fillna('other')\n",
    "transmission_types = [\n",
    "    # begin transformation for Automatic\n",
    "    (car_df['transmission'] == \"automatic\") | \n",
    "    (car_df['transmission'] == \"Automatic\") | \n",
    "    (car_df['transmission'] == \"Continuously Variable Transmission (CVT)\"),\n",
    "    # begin transformation for Manual\n",
    "    (car_df['transmission'] == \"manual\") | \n",
    "    # begin transformation for Other\n",
    "    (car_df['transmission'] == \"Manual/Standard\"),\n",
    "    (car_df['transmission'] == \"other\")\n",
    "    ]\n",
    "\n",
    "#new transmission categories\n",
    "t_values_types = ['Automatic', 'Manual', 'Other']\n",
    "\n",
    "#new transmission column\n",
    "car_df['transmission_new'] = np.select(transmission_types, t_values_types)\n",
    "car_df['transmission_new'].unique()"
   ]
  },
  {
   "cell_type": "code",
   "execution_count": 196,
   "metadata": {},
   "outputs": [],
   "source": [
    "#drop the original transmission field\n",
    "car_df = car_df.drop(columns=['transmission'])"
   ]
  },
  {
   "cell_type": "markdown",
   "metadata": {},
   "source": [
    "<blockquote>Vehicle 'type' is a classification given by car makers to represent size and shape.  We felt that several were similar to each other so those were grouped together in a 'type_new' field with these final categories: 'sedan', 'pickup_truck', 'coupe', 'crossover', 'mini-van', 'convertible', 'hatchback', 'van', 'offroad'."
   ]
  },
  {
   "cell_type": "code",
   "execution_count": 197,
   "metadata": {},
   "outputs": [
    {
     "data": {
      "text/plain": [
       "array(['sedan', 'pickup_truck', 'coupe', 'crossover', 'mini-van',\n",
       "       'convertible', 'hatchback', 'van', 'offroad'], dtype=object)"
      ]
     },
     "execution_count": 197,
     "metadata": {},
     "output_type": "execute_result"
    }
   ],
   "source": [
    "#Combine types to: 'sedan', ('wagon','SUV') and call it 'crossover', ('pickup', 'truck'), 'coupe', 'van', 'mini-van', 'convertible', 'hatchback', 'offroad'\n",
    "car_df['type'] = car_df['type'].fillna('')\n",
    "car_df = car_df[car_df['type'].isin(['sedan', 'SUV', 'pickup', 'coupe', 'van', 'truck','mini-van', 'wagon', 'convertible', 'hatchback','offroad',''])]\n",
    "\n",
    "types = [\n",
    "    # begin transformation for crossover\n",
    "    (car_df['type'] == \"wagon\") | \n",
    "    (car_df['type'] == \"SUV\"),\n",
    "    # begin transformation for pickup_truck\n",
    "    (car_df['type'] == \"pickup\") | \n",
    "    (car_df['type'] == \"truck\"),\n",
    "    # begin transformation for sedan\n",
    "    (car_df['type'] == \"sedan\"),\n",
    "    # begin transformation for coupe\n",
    "    (car_df['type'] == \"coupe\"),\n",
    "    # begin transformation for van\n",
    "    (car_df['type'] == \"van\"),\n",
    "    # begin transformation for mini-van\n",
    "    (car_df['type'] == \"mini-van\"),\n",
    "    # begin transformation for wagon\n",
    "    (car_df['type'] == \"wagon\"),\n",
    "    # begin transformation for convertible\n",
    "    (car_df['type'] == \"convertible\"),\n",
    "    # begin transformation for hatchback\n",
    "    (car_df['type'] == \"hatchback\"),\n",
    "    # begin transformation for offroad\n",
    "    (car_df['type'] == \"offroad\"),\n",
    "    (car_df['type'] == \"\")\n",
    "    ]\n",
    "#new condition categories\n",
    "values_types = ['crossover', 'pickup_truck', 'sedan', 'coupe','van','mini-van','wagon','convertible','hatchback','offroad','']\n",
    "#new condition column\n",
    "car_df['type_new'] = np.select(types, values_types)\n",
    "car_df.head()\n",
    "car_df['type_new'].unique()"
   ]
  },
  {
   "cell_type": "code",
   "execution_count": 198,
   "metadata": {},
   "outputs": [],
   "source": [
    "#drop the original type field\n",
    "car_df = car_df.drop(columns=['type'])"
   ]
  },
  {
   "cell_type": "markdown",
   "metadata": {},
   "source": [
    "<blockquote>There were originally 14 paint colors. These were grouped together after looking at boxplots to see which ones were similar to each other.  These are the final categories: \n",
    "    \n",
    "    BlSlvrWhGryMsng: Black, Silver, White, Gray.  N/As are included due to a higher probability of being the more popular colors.\n",
    "    BluRdBrwn:  Blue, Red, and Brown\n",
    "    OrYlwGrnPrpl: Orange, Yellow, Green, Purple\n",
    "    Custom:  Custom paint"
   ]
  },
  {
   "cell_type": "markdown",
   "metadata": {},
   "source": [
    "# need to correct zero issue here "
   ]
  },
  {
   "cell_type": "code",
   "execution_count": 199,
   "metadata": {},
   "outputs": [
    {
     "data": {
      "text/plain": [
       "array(['0', 'BluRdBrwn', 'BlSlvrWhGryMsng', 'OrYlwGrnPrpl', 'Custom'],\n",
       "      dtype=object)"
      ]
     },
     "execution_count": 199,
     "metadata": {},
     "output_type": "execute_result"
    }
   ],
   "source": [
    "car_df['paint_color'] = car_df['paint_color'].fillna('')\n",
    "paint_color_grps = [\n",
    "    #\n",
    "    (car_df['paint_color'] == \"black\") | \n",
    "    (car_df['paint_color'] == \"silver\") | \n",
    "    (car_df['paint_color'] == \"white\")|\n",
    "    (car_df['paint_color'] == \"grey\")|\n",
    "    (car_df['paint_color'] == '')  ,\n",
    "    #\n",
    "    (car_df['paint_color'] == \"blue\") | \n",
    "    (car_df['paint_color'] == \"red\")| \n",
    "    #\n",
    "    (car_df['paint_color'] == \"brown\"),\n",
    "    (car_df['paint_color'] == \"orange\")| \n",
    "    (car_df['paint_color'] == \"yellow\")| \n",
    "    (car_df['paint_color'] == \"green\")| \n",
    "    # \n",
    "    (car_df['paint_color'] == \"purple\"),\n",
    "    (car_df['paint_color'] == \"custom\")\n",
    "    ]\n",
    "#new paint groups\n",
    "values_paint = ['BlSlvrWhGryMsng', 'BluRdBrwn', 'OrYlwGrnPrpl', 'Custom']\n",
    "#new condition column\n",
    "car_df['paint_color_new'] = np.select(paint_color_grps, values_paint)\n",
    "car_df['paint_color_new'].unique()"
   ]
  },
  {
   "cell_type": "markdown",
   "metadata": {},
   "source": [
    "<blockquote> From a one way ANOVA we can reject the null hypothesis that the  mean prices are equal for all paint groups(p-value < 0.05)"
   ]
  },
  {
   "cell_type": "code",
   "execution_count": 205,
   "metadata": {},
   "outputs": [
    {
     "data": {
      "text/html": [
       "<div>\n",
       "<style scoped>\n",
       "    .dataframe tbody tr th:only-of-type {\n",
       "        vertical-align: middle;\n",
       "    }\n",
       "\n",
       "    .dataframe tbody tr th {\n",
       "        vertical-align: top;\n",
       "    }\n",
       "\n",
       "    .dataframe thead th {\n",
       "        text-align: right;\n",
       "    }\n",
       "</style>\n",
       "<table border=\"1\" class=\"dataframe\">\n",
       "  <thead>\n",
       "    <tr style=\"text-align: right;\">\n",
       "      <th></th>\n",
       "      <th>sum_sq</th>\n",
       "      <th>df</th>\n",
       "      <th>F</th>\n",
       "      <th>PR(&gt;F)</th>\n",
       "    </tr>\n",
       "  </thead>\n",
       "  <tbody>\n",
       "    <tr>\n",
       "      <th>C(paint_color_new)</th>\n",
       "      <td>1.602366e+11</td>\n",
       "      <td>4.0</td>\n",
       "      <td>347.379161</td>\n",
       "      <td>2.440952e-298</td>\n",
       "    </tr>\n",
       "    <tr>\n",
       "      <th>Residual</th>\n",
       "      <td>1.880160e+13</td>\n",
       "      <td>163041.0</td>\n",
       "      <td>NaN</td>\n",
       "      <td>NaN</td>\n",
       "    </tr>\n",
       "  </tbody>\n",
       "</table>\n",
       "</div>"
      ],
      "text/plain": [
       "                          sum_sq        df           F         PR(>F)\n",
       "C(paint_color_new)  1.602366e+11       4.0  347.379161  2.440952e-298\n",
       "Residual            1.880160e+13  163041.0         NaN            NaN"
      ]
     },
     "execution_count": 205,
     "metadata": {},
     "output_type": "execute_result"
    }
   ],
   "source": [
    "model = ols('price ~ C(paint_color_new)', data=car_df).fit()\n",
    "aov_table = sm.stats.anova_lm(model, typ=2)\n",
    "aov_table"
   ]
  },
  {
   "cell_type": "markdown",
   "metadata": {},
   "source": [
    "<blockquote> From a Tukey Post Hoc Test we can see there is a significant difference in mean prices across the different paint groups(p-value < 0.05). However, we fail to reject the null hypothesis that the mean prices are different for the group Custom & OrYlwGrnPrpl(Combination of Orange, Yellow, Green, Purple). p-value = 0.7849. We will still keep this in the dataset and let feature selection process guide the results"
   ]
  },
  {
   "cell_type": "code",
   "execution_count": 208,
   "metadata": {},
   "outputs": [
    {
     "data": {
      "text/html": [
       "<table class=\"simpletable\">\n",
       "<caption>Multiple Comparison of Means - Tukey HSD, FWER=0.05</caption>\n",
       "<tr>\n",
       "      <th>group1</th>          <th>group2</th>       <th>meandiff</th>   <th>p-adj</th>    <th>lower</th>      <th>upper</th>   <th>reject</th>\n",
       "</tr>\n",
       "<tr>\n",
       "         <td>0</td>        <td>BlSlvrWhGryMsng</td>  <td>-123.1843</td> <td>0.5717</td>   <td>-351.95</td>   <td>105.5813</td>   <td>False</td>\n",
       "</tr>\n",
       "<tr>\n",
       "         <td>0</td>           <td>BluRdBrwn</td>     <td>-973.9867</td>  <td>0.001</td> <td>-1234.9931</td>  <td>-712.9803</td>  <td>True</td> \n",
       "</tr>\n",
       "<tr>\n",
       "         <td>0</td>            <td>Custom</td>      <td>-4371.7998</td>  <td>0.001</td> <td>-4966.4791</td> <td>-3777.1205</td>  <td>True</td> \n",
       "</tr>\n",
       "<tr>\n",
       "         <td>0</td>         <td>OrYlwGrnPrpl</td>   <td>-4646.7656</td>  <td>0.001</td> <td>-5099.1248</td> <td>-4194.4063</td>  <td>True</td> \n",
       "</tr>\n",
       "<tr>\n",
       "  <td>BlSlvrWhGryMsng</td>    <td>BluRdBrwn</td>     <td>-850.8024</td>  <td>0.001</td> <td>-1032.2749</td>  <td>-669.3299</td>  <td>True</td> \n",
       "</tr>\n",
       "<tr>\n",
       "  <td>BlSlvrWhGryMsng</td>     <td>Custom</td>      <td>-4248.6155</td>  <td>0.001</td> <td>-4812.9305</td> <td>-3684.3006</td>  <td>True</td> \n",
       "</tr>\n",
       "<tr>\n",
       "  <td>BlSlvrWhGryMsng</td>  <td>OrYlwGrnPrpl</td>   <td>-4523.5813</td>  <td>0.001</td> <td>-4935.2083</td> <td>-4111.9542</td>  <td>True</td> \n",
       "</tr>\n",
       "<tr>\n",
       "     <td>BluRdBrwn</td>        <td>Custom</td>      <td>-3397.8131</td>  <td>0.001</td> <td>-3975.9498</td> <td>-2819.6765</td>  <td>True</td> \n",
       "</tr>\n",
       "<tr>\n",
       "     <td>BluRdBrwn</td>     <td>OrYlwGrnPrpl</td>   <td>-3672.7789</td>  <td>0.001</td> <td>-4103.1595</td> <td>-3242.3983</td>  <td>True</td> \n",
       "</tr>\n",
       "<tr>\n",
       "      <td>Custom</td>       <td>OrYlwGrnPrpl</td>    <td>-274.9658</td> <td>0.7849</td>  <td>-961.0755</td>  <td>411.1439</td>   <td>False</td>\n",
       "</tr>\n",
       "</table>"
      ],
      "text/plain": [
       "<class 'statsmodels.iolib.table.SimpleTable'>"
      ]
     },
     "execution_count": 208,
     "metadata": {},
     "output_type": "execute_result"
    }
   ],
   "source": [
    "comp = mc.MultiComparison(car_df['price'], car_df['paint_color_new'])\n",
    "post_hoc_res = comp.tukeyhsd()\n",
    "post_hoc_res.summary()"
   ]
  },
  {
   "cell_type": "code",
   "execution_count": 210,
   "metadata": {},
   "outputs": [
    {
     "ename": "KeyError",
     "evalue": "\"['paint_color'] not found in axis\"",
     "output_type": "error",
     "traceback": [
      "\u001b[1;31m---------------------------------------------------------------------------\u001b[0m",
      "\u001b[1;31mKeyError\u001b[0m                                  Traceback (most recent call last)",
      "\u001b[1;32m<ipython-input-210-10c82ae6198a>\u001b[0m in \u001b[0;36m<module>\u001b[1;34m\u001b[0m\n\u001b[0;32m      1\u001b[0m \u001b[1;31m#drop the original color field\u001b[0m\u001b[1;33m\u001b[0m\u001b[1;33m\u001b[0m\u001b[1;33m\u001b[0m\u001b[0m\n\u001b[1;32m----> 2\u001b[1;33m \u001b[0mcar_df\u001b[0m \u001b[1;33m=\u001b[0m \u001b[0mcar_df\u001b[0m\u001b[1;33m.\u001b[0m\u001b[0mdrop\u001b[0m\u001b[1;33m(\u001b[0m\u001b[0mcolumns\u001b[0m\u001b[1;33m=\u001b[0m\u001b[1;33m[\u001b[0m\u001b[1;34m'paint_color'\u001b[0m\u001b[1;33m]\u001b[0m\u001b[1;33m)\u001b[0m\u001b[1;33m\u001b[0m\u001b[1;33m\u001b[0m\u001b[0m\n\u001b[0m",
      "\u001b[1;32m~\\anaconda3\\envs\\DS7331_ML1\\lib\\site-packages\\pandas\\core\\frame.py\u001b[0m in \u001b[0;36mdrop\u001b[1;34m(self, labels, axis, index, columns, level, inplace, errors)\u001b[0m\n\u001b[0;32m   4165\u001b[0m                 \u001b[0mweight\u001b[0m  \u001b[1;36m1.0\u001b[0m     \u001b[1;36m0.8\u001b[0m\u001b[1;33m\u001b[0m\u001b[1;33m\u001b[0m\u001b[0m\n\u001b[0;32m   4166\u001b[0m         \"\"\"\n\u001b[1;32m-> 4167\u001b[1;33m         return super().drop(\n\u001b[0m\u001b[0;32m   4168\u001b[0m             \u001b[0mlabels\u001b[0m\u001b[1;33m=\u001b[0m\u001b[0mlabels\u001b[0m\u001b[1;33m,\u001b[0m\u001b[1;33m\u001b[0m\u001b[1;33m\u001b[0m\u001b[0m\n\u001b[0;32m   4169\u001b[0m             \u001b[0maxis\u001b[0m\u001b[1;33m=\u001b[0m\u001b[0maxis\u001b[0m\u001b[1;33m,\u001b[0m\u001b[1;33m\u001b[0m\u001b[1;33m\u001b[0m\u001b[0m\n",
      "\u001b[1;32m~\\anaconda3\\envs\\DS7331_ML1\\lib\\site-packages\\pandas\\core\\generic.py\u001b[0m in \u001b[0;36mdrop\u001b[1;34m(self, labels, axis, index, columns, level, inplace, errors)\u001b[0m\n\u001b[0;32m   3887\u001b[0m         \u001b[1;32mfor\u001b[0m \u001b[0maxis\u001b[0m\u001b[1;33m,\u001b[0m \u001b[0mlabels\u001b[0m \u001b[1;32min\u001b[0m \u001b[0maxes\u001b[0m\u001b[1;33m.\u001b[0m\u001b[0mitems\u001b[0m\u001b[1;33m(\u001b[0m\u001b[1;33m)\u001b[0m\u001b[1;33m:\u001b[0m\u001b[1;33m\u001b[0m\u001b[1;33m\u001b[0m\u001b[0m\n\u001b[0;32m   3888\u001b[0m             \u001b[1;32mif\u001b[0m \u001b[0mlabels\u001b[0m \u001b[1;32mis\u001b[0m \u001b[1;32mnot\u001b[0m \u001b[1;32mNone\u001b[0m\u001b[1;33m:\u001b[0m\u001b[1;33m\u001b[0m\u001b[1;33m\u001b[0m\u001b[0m\n\u001b[1;32m-> 3889\u001b[1;33m                 \u001b[0mobj\u001b[0m \u001b[1;33m=\u001b[0m \u001b[0mobj\u001b[0m\u001b[1;33m.\u001b[0m\u001b[0m_drop_axis\u001b[0m\u001b[1;33m(\u001b[0m\u001b[0mlabels\u001b[0m\u001b[1;33m,\u001b[0m \u001b[0maxis\u001b[0m\u001b[1;33m,\u001b[0m \u001b[0mlevel\u001b[0m\u001b[1;33m=\u001b[0m\u001b[0mlevel\u001b[0m\u001b[1;33m,\u001b[0m \u001b[0merrors\u001b[0m\u001b[1;33m=\u001b[0m\u001b[0merrors\u001b[0m\u001b[1;33m)\u001b[0m\u001b[1;33m\u001b[0m\u001b[1;33m\u001b[0m\u001b[0m\n\u001b[0m\u001b[0;32m   3890\u001b[0m \u001b[1;33m\u001b[0m\u001b[0m\n\u001b[0;32m   3891\u001b[0m         \u001b[1;32mif\u001b[0m \u001b[0minplace\u001b[0m\u001b[1;33m:\u001b[0m\u001b[1;33m\u001b[0m\u001b[1;33m\u001b[0m\u001b[0m\n",
      "\u001b[1;32m~\\anaconda3\\envs\\DS7331_ML1\\lib\\site-packages\\pandas\\core\\generic.py\u001b[0m in \u001b[0;36m_drop_axis\u001b[1;34m(self, labels, axis, level, errors)\u001b[0m\n\u001b[0;32m   3921\u001b[0m                 \u001b[0mnew_axis\u001b[0m \u001b[1;33m=\u001b[0m \u001b[0maxis\u001b[0m\u001b[1;33m.\u001b[0m\u001b[0mdrop\u001b[0m\u001b[1;33m(\u001b[0m\u001b[0mlabels\u001b[0m\u001b[1;33m,\u001b[0m \u001b[0mlevel\u001b[0m\u001b[1;33m=\u001b[0m\u001b[0mlevel\u001b[0m\u001b[1;33m,\u001b[0m \u001b[0merrors\u001b[0m\u001b[1;33m=\u001b[0m\u001b[0merrors\u001b[0m\u001b[1;33m)\u001b[0m\u001b[1;33m\u001b[0m\u001b[1;33m\u001b[0m\u001b[0m\n\u001b[0;32m   3922\u001b[0m             \u001b[1;32melse\u001b[0m\u001b[1;33m:\u001b[0m\u001b[1;33m\u001b[0m\u001b[1;33m\u001b[0m\u001b[0m\n\u001b[1;32m-> 3923\u001b[1;33m                 \u001b[0mnew_axis\u001b[0m \u001b[1;33m=\u001b[0m \u001b[0maxis\u001b[0m\u001b[1;33m.\u001b[0m\u001b[0mdrop\u001b[0m\u001b[1;33m(\u001b[0m\u001b[0mlabels\u001b[0m\u001b[1;33m,\u001b[0m \u001b[0merrors\u001b[0m\u001b[1;33m=\u001b[0m\u001b[0merrors\u001b[0m\u001b[1;33m)\u001b[0m\u001b[1;33m\u001b[0m\u001b[1;33m\u001b[0m\u001b[0m\n\u001b[0m\u001b[0;32m   3924\u001b[0m             \u001b[0mresult\u001b[0m \u001b[1;33m=\u001b[0m \u001b[0mself\u001b[0m\u001b[1;33m.\u001b[0m\u001b[0mreindex\u001b[0m\u001b[1;33m(\u001b[0m\u001b[1;33m**\u001b[0m\u001b[1;33m{\u001b[0m\u001b[0maxis_name\u001b[0m\u001b[1;33m:\u001b[0m \u001b[0mnew_axis\u001b[0m\u001b[1;33m}\u001b[0m\u001b[1;33m)\u001b[0m\u001b[1;33m\u001b[0m\u001b[1;33m\u001b[0m\u001b[0m\n\u001b[0;32m   3925\u001b[0m \u001b[1;33m\u001b[0m\u001b[0m\n",
      "\u001b[1;32m~\\anaconda3\\envs\\DS7331_ML1\\lib\\site-packages\\pandas\\core\\indexes\\base.py\u001b[0m in \u001b[0;36mdrop\u001b[1;34m(self, labels, errors)\u001b[0m\n\u001b[0;32m   5285\u001b[0m         \u001b[1;32mif\u001b[0m \u001b[0mmask\u001b[0m\u001b[1;33m.\u001b[0m\u001b[0many\u001b[0m\u001b[1;33m(\u001b[0m\u001b[1;33m)\u001b[0m\u001b[1;33m:\u001b[0m\u001b[1;33m\u001b[0m\u001b[1;33m\u001b[0m\u001b[0m\n\u001b[0;32m   5286\u001b[0m             \u001b[1;32mif\u001b[0m \u001b[0merrors\u001b[0m \u001b[1;33m!=\u001b[0m \u001b[1;34m\"ignore\"\u001b[0m\u001b[1;33m:\u001b[0m\u001b[1;33m\u001b[0m\u001b[1;33m\u001b[0m\u001b[0m\n\u001b[1;32m-> 5287\u001b[1;33m                 \u001b[1;32mraise\u001b[0m \u001b[0mKeyError\u001b[0m\u001b[1;33m(\u001b[0m\u001b[1;34mf\"{labels[mask]} not found in axis\"\u001b[0m\u001b[1;33m)\u001b[0m\u001b[1;33m\u001b[0m\u001b[1;33m\u001b[0m\u001b[0m\n\u001b[0m\u001b[0;32m   5288\u001b[0m             \u001b[0mindexer\u001b[0m \u001b[1;33m=\u001b[0m \u001b[0mindexer\u001b[0m\u001b[1;33m[\u001b[0m\u001b[1;33m~\u001b[0m\u001b[0mmask\u001b[0m\u001b[1;33m]\u001b[0m\u001b[1;33m\u001b[0m\u001b[1;33m\u001b[0m\u001b[0m\n\u001b[0;32m   5289\u001b[0m         \u001b[1;32mreturn\u001b[0m \u001b[0mself\u001b[0m\u001b[1;33m.\u001b[0m\u001b[0mdelete\u001b[0m\u001b[1;33m(\u001b[0m\u001b[0mindexer\u001b[0m\u001b[1;33m)\u001b[0m\u001b[1;33m\u001b[0m\u001b[1;33m\u001b[0m\u001b[0m\n",
      "\u001b[1;31mKeyError\u001b[0m: \"['paint_color'] not found in axis\""
     ]
    }
   ],
   "source": [
    "#drop the original color field\n",
    "car_df = car_df.drop(columns=['paint_color'])"
   ]
  },
  {
   "cell_type": "code",
   "execution_count": 211,
   "metadata": {},
   "outputs": [
    {
     "name": "stdout",
     "output_type": "stream",
     "text": [
      "<class 'pandas.core.frame.DataFrame'>\n",
      "Int64Index: 163046 entries, 1 to 458211\n",
      "Data columns (total 16 columns):\n",
      " #   Column            Non-Null Count   Dtype   \n",
      "---  ------            --------------   -----   \n",
      " 0   price             163046 non-null  int64   \n",
      " 1   year              163046 non-null  float64 \n",
      " 2   manufacturer      163046 non-null  object  \n",
      " 3   model             163046 non-null  object  \n",
      " 4   cylinders         156413 non-null  object  \n",
      " 5   fuel              163046 non-null  object  \n",
      " 6   odometer          163046 non-null  float64 \n",
      " 7   title_status      163046 non-null  object  \n",
      " 8   state             163046 non-null  object  \n",
      " 9   posting_date      163046 non-null  object  \n",
      " 10  drive_new         163046 non-null  object  \n",
      " 11  price_range       163046 non-null  category\n",
      " 12  condition_new     163046 non-null  object  \n",
      " 13  transmission_new  163046 non-null  object  \n",
      " 14  type_new          163046 non-null  object  \n",
      " 15  paint_color_new   163046 non-null  object  \n",
      "dtypes: category(1), float64(2), int64(1), object(12)\n",
      "memory usage: 20.1+ MB\n"
     ]
    }
   ],
   "source": [
    "car_df.info()"
   ]
  },
  {
   "cell_type": "markdown",
   "metadata": {},
   "source": [
    "### Duplicate Data"
   ]
  },
  {
   "cell_type": "markdown",
   "metadata": {},
   "source": [
    "<blockquote> There are duplicate records in the dataset. The way we have identified duplicate records is to see whether an instance is unique across all columns that are present in the dataset(see below for columns names). If there are multiple records for these combinations then we have removed those records. The number of duplicates and the total number of valid records and noted after the code block"
   ]
  },
  {
   "cell_type": "code",
   "execution_count": 212,
   "metadata": {},
   "outputs": [
    {
     "name": "stdout",
     "output_type": "stream",
     "text": [
      "Number of original records  = 163046\n",
      "Number of duplicate records = 56\n",
      "Number of original records  = 162990\n"
     ]
    }
   ],
   "source": [
    "#Columns to check duplicates\n",
    "check_dup_col = ['price',\n",
    "                 'manufacturer',\n",
    "                 'model',\n",
    "                 'cylinders',\n",
    "                 'fuel',\n",
    "                 'odometer',\n",
    "                 'title_status',\n",
    "                 'state',\n",
    "                 'posting_date',\n",
    "                 'drive_new',\n",
    "                 'condition_new',\n",
    "                 'transmission_new',\n",
    "                 'type_new',\n",
    "                 'paint_color_new']\n",
    "\n",
    "#Check for duplicates\n",
    "dup_rec = car_df.duplicated(subset=check_dup_col).sum()\n",
    "\n",
    "# Print the number of duplicate records\n",
    "print('Number of original records  = {}'.format(len(car_df)))\n",
    "print('Number of duplicate records = {}'.format(dup_rec))\n",
    "\n",
    "#Remove the duplicate records from the dataset \n",
    "car_df.drop_duplicates(subset=check_dup_col, keep='first', inplace=True)\n",
    "\n",
    "# New number of records\n",
    "print('Number of original records  = {}'.format(len(car_df)))"
   ]
  },
  {
   "cell_type": "markdown",
   "metadata": {},
   "source": [
    "### Other cleanup"
   ]
  },
  {
   "cell_type": "markdown",
   "metadata": {},
   "source": [
    "<blockquote>After the merge with the Dept. of Transportation data, the cylinders were repeated in different formats.  This column was converted to an int with the final values between 2 - 12 cylinders.  1 cyclinder cars were dropped because there were only two records for Honda Pioneers."
   ]
  },
  {
   "cell_type": "code",
   "execution_count": 213,
   "metadata": {
    "scrolled": true
   },
   "outputs": [
    {
     "data": {
      "text/plain": [
       "array([ 4,  8,  6, 10,  5,  3,  2, 12], dtype=int64)"
      ]
     },
     "execution_count": 213,
     "metadata": {},
     "output_type": "execute_result"
    }
   ],
   "source": [
    "# fill null with Z and remove later\n",
    "car_df['cylinders'] = car_df['cylinders'].fillna('Z')\n",
    "\n",
    "# transform cylinders to integer format\n",
    "car_df.drop(car_df[car_df['cylinders']=='Z'].index,inplace=True)\n",
    "car_df.drop(car_df[car_df['cylinders']=='other'].index,inplace=True)\n",
    "car_df['cylinders'] = car_df['cylinders'].astype('int64')\n",
    "\n",
    "# drop 1 cylinder cars\n",
    "car_df = car_df.drop(car_df[(car_df.cylinders == 1)].index)\n",
    "\n",
    "car_df['cylinders'].unique()"
   ]
  },
  {
   "cell_type": "markdown",
   "metadata": {},
   "source": [
    "<blockquote>Harley-Davidsons were removed since they were motorcycles and this study is focused on cars and trucks."
   ]
  },
  {
   "cell_type": "code",
   "execution_count": 214,
   "metadata": {},
   "outputs": [],
   "source": [
    "# drop \"harley-davidson\"\n",
    "car_df = car_df.drop(car_df[(car_df.manufacturer == \"harley-davidson\")].index)"
   ]
  },
  {
   "cell_type": "markdown",
   "metadata": {},
   "source": [
    "<blockquote>The \"posting_date\" was converted to a datetime object to derive a new column for the age of the car (posting_date - year of the car)."
   ]
  },
  {
   "cell_type": "code",
   "execution_count": 215,
   "metadata": {},
   "outputs": [],
   "source": [
    "#convert posting_date to datetime object\n",
    "car_df['posting_date'] = car_df['posting_date'].fillna('')\n",
    "car_df['posting_date'] = car_df['posting_date'].astype(str)\n",
    "new_post_Dt= car_df['posting_date'].str.split('T', n = 1, expand = True)\n",
    "car_df[\"posting_date\"]= new_post_Dt[0]\n",
    "car_df[\"posting_date\"]=car_df[\"posting_date\"].astype('datetime64[ns]')"
   ]
  },
  {
   "cell_type": "code",
   "execution_count": 216,
   "metadata": {},
   "outputs": [],
   "source": [
    "car_df['car_Age_in_yrs'] = car_df['posting_date'].dt.year - car_df['year']\n",
    "car_df = car_df.drop(columns=['year'])"
   ]
  },
  {
   "cell_type": "markdown",
   "metadata": {},
   "source": [
    "### Simple Statistics\n",
    "\n",
    "The table below shows statistics for the continous variables from the dataset"
   ]
  },
  {
   "cell_type": "markdown",
   "metadata": {},
   "source": [
    "<blockquote> Price : The average price for all used cars in the dataset is 14575 USD. The median price of all used cars in the dataset is 11900 USD. The average used car price from 2016 - 2019 is 21000 USD per the site (https://www.statista.com/statistics/274928/used-vehicle-average-selling-price-in-the-united-states/). This price is higher in this website as it considers vintage cars, the price of which tends to be higher. We do not have many vintage cars in our dataset that may be a reason why the average price is lower. Also the website includes used car figures from car dealerships, and we know the dealerships charge a premium for selling used cars"
   ]
  },
  {
   "cell_type": "code",
   "execution_count": 217,
   "metadata": {},
   "outputs": [
    {
     "data": {
      "text/plain": [
       "count    156055.000000\n",
       "mean      14573.659229\n",
       "std       10776.319337\n",
       "min           1.000000\n",
       "25%        5995.000000\n",
       "50%       11900.000000\n",
       "75%       20990.000000\n",
       "max       52948.000000\n",
       "Name: price, dtype: float64"
      ]
     },
     "execution_count": 217,
     "metadata": {},
     "output_type": "execute_result"
    }
   ],
   "source": [
    "car_df['price'].describe()"
   ]
  },
  {
   "cell_type": "markdown",
   "metadata": {},
   "source": [
    "<blockquote> Cylinders : From the below results we can see that 72% of all cars have either 4 or 6 cylinders. This makes sense as most consumers prefer sedans or SUVs which normally have 4 / 6 cylinders. Trucks / Muscle cars tend to have a higher number of cylinders (8 and above) and they tend to have lower sales figures than other cars "
   ]
  },
  {
   "cell_type": "code",
   "execution_count": 83,
   "metadata": {},
   "outputs": [
    {
     "name": "stdout",
     "output_type": "stream",
     "text": [
      "6     36.0\n",
      "4     36.0\n",
      "8     26.0\n",
      "5      1.0\n",
      "10     1.0\n",
      "3      0.0\n",
      "2      0.0\n",
      "12     0.0\n",
      "Name: cylinders, dtype: float64\n"
     ]
    }
   ],
   "source": [
    "print(round(car_df['cylinders'].value_counts() / len(car_df),2)*100)"
   ]
  },
  {
   "cell_type": "markdown",
   "metadata": {},
   "source": [
    "<blockquote> Using the above premise, we know that most of the cars have either 6 or 4 cylinders. However, as seen in the cross tabulation result the pickup trucks have more 8 cyclinder engines(19456 cars). Sedans and crssovers tends to have more engines in the 4-6 cylinder range."
   ]
  },
  {
   "cell_type": "code",
   "execution_count": 227,
   "metadata": {},
   "outputs": [
    {
     "data": {
      "text/html": [
       "<div>\n",
       "<style scoped>\n",
       "    .dataframe tbody tr th:only-of-type {\n",
       "        vertical-align: middle;\n",
       "    }\n",
       "\n",
       "    .dataframe tbody tr th {\n",
       "        vertical-align: top;\n",
       "    }\n",
       "\n",
       "    .dataframe thead th {\n",
       "        text-align: right;\n",
       "    }\n",
       "</style>\n",
       "<table border=\"1\" class=\"dataframe\">\n",
       "  <thead>\n",
       "    <tr style=\"text-align: right;\">\n",
       "      <th>Number of Cylinders</th>\n",
       "      <th>2</th>\n",
       "      <th>3</th>\n",
       "      <th>4</th>\n",
       "      <th>5</th>\n",
       "      <th>6</th>\n",
       "      <th>8</th>\n",
       "      <th>10</th>\n",
       "      <th>12</th>\n",
       "      <th>Total</th>\n",
       "    </tr>\n",
       "    <tr>\n",
       "      <th>Car Types</th>\n",
       "      <th></th>\n",
       "      <th></th>\n",
       "      <th></th>\n",
       "      <th></th>\n",
       "      <th></th>\n",
       "      <th></th>\n",
       "      <th></th>\n",
       "      <th></th>\n",
       "      <th></th>\n",
       "    </tr>\n",
       "  </thead>\n",
       "  <tbody>\n",
       "    <tr>\n",
       "      <th>convertible</th>\n",
       "      <td>0</td>\n",
       "      <td>5</td>\n",
       "      <td>971</td>\n",
       "      <td>62</td>\n",
       "      <td>1190</td>\n",
       "      <td>1008</td>\n",
       "      <td>20</td>\n",
       "      <td>15</td>\n",
       "      <td>3271</td>\n",
       "    </tr>\n",
       "    <tr>\n",
       "      <th>coupe</th>\n",
       "      <td>0</td>\n",
       "      <td>12</td>\n",
       "      <td>2988</td>\n",
       "      <td>53</td>\n",
       "      <td>3069</td>\n",
       "      <td>4088</td>\n",
       "      <td>55</td>\n",
       "      <td>17</td>\n",
       "      <td>10282</td>\n",
       "    </tr>\n",
       "    <tr>\n",
       "      <th>crossover</th>\n",
       "      <td>0</td>\n",
       "      <td>19</td>\n",
       "      <td>14520</td>\n",
       "      <td>201</td>\n",
       "      <td>19369</td>\n",
       "      <td>6560</td>\n",
       "      <td>137</td>\n",
       "      <td>3</td>\n",
       "      <td>40809</td>\n",
       "    </tr>\n",
       "    <tr>\n",
       "      <th>hatchback</th>\n",
       "      <td>171</td>\n",
       "      <td>126</td>\n",
       "      <td>7799</td>\n",
       "      <td>583</td>\n",
       "      <td>381</td>\n",
       "      <td>83</td>\n",
       "      <td>36</td>\n",
       "      <td>0</td>\n",
       "      <td>9179</td>\n",
       "    </tr>\n",
       "    <tr>\n",
       "      <th>mini-van</th>\n",
       "      <td>0</td>\n",
       "      <td>3</td>\n",
       "      <td>236</td>\n",
       "      <td>2</td>\n",
       "      <td>3704</td>\n",
       "      <td>49</td>\n",
       "      <td>0</td>\n",
       "      <td>0</td>\n",
       "      <td>3994</td>\n",
       "    </tr>\n",
       "    <tr>\n",
       "      <th>offroad</th>\n",
       "      <td>0</td>\n",
       "      <td>0</td>\n",
       "      <td>38</td>\n",
       "      <td>0</td>\n",
       "      <td>283</td>\n",
       "      <td>52</td>\n",
       "      <td>2</td>\n",
       "      <td>0</td>\n",
       "      <td>375</td>\n",
       "    </tr>\n",
       "    <tr>\n",
       "      <th>pickup_truck</th>\n",
       "      <td>0</td>\n",
       "      <td>4</td>\n",
       "      <td>1977</td>\n",
       "      <td>191</td>\n",
       "      <td>11904</td>\n",
       "      <td>22578</td>\n",
       "      <td>397</td>\n",
       "      <td>1</td>\n",
       "      <td>37052</td>\n",
       "    </tr>\n",
       "    <tr>\n",
       "      <th>sedan</th>\n",
       "      <td>1</td>\n",
       "      <td>53</td>\n",
       "      <td>27485</td>\n",
       "      <td>654</td>\n",
       "      <td>14491</td>\n",
       "      <td>3405</td>\n",
       "      <td>141</td>\n",
       "      <td>16</td>\n",
       "      <td>46246</td>\n",
       "    </tr>\n",
       "    <tr>\n",
       "      <th>van</th>\n",
       "      <td>0</td>\n",
       "      <td>0</td>\n",
       "      <td>489</td>\n",
       "      <td>18</td>\n",
       "      <td>2312</td>\n",
       "      <td>1973</td>\n",
       "      <td>55</td>\n",
       "      <td>0</td>\n",
       "      <td>4847</td>\n",
       "    </tr>\n",
       "    <tr>\n",
       "      <th>Total</th>\n",
       "      <td>172</td>\n",
       "      <td>222</td>\n",
       "      <td>56503</td>\n",
       "      <td>1764</td>\n",
       "      <td>56703</td>\n",
       "      <td>39796</td>\n",
       "      <td>843</td>\n",
       "      <td>52</td>\n",
       "      <td>156055</td>\n",
       "    </tr>\n",
       "  </tbody>\n",
       "</table>\n",
       "</div>"
      ],
      "text/plain": [
       "Number of Cylinders    2    3      4     5      6      8   10  12   Total\n",
       "Car Types                                                                \n",
       "convertible            0    5    971    62   1190   1008   20  15    3271\n",
       "coupe                  0   12   2988    53   3069   4088   55  17   10282\n",
       "crossover              0   19  14520   201  19369   6560  137   3   40809\n",
       "hatchback            171  126   7799   583    381     83   36   0    9179\n",
       "mini-van               0    3    236     2   3704     49    0   0    3994\n",
       "offroad                0    0     38     0    283     52    2   0     375\n",
       "pickup_truck           0    4   1977   191  11904  22578  397   1   37052\n",
       "sedan                  1   53  27485   654  14491   3405  141  16   46246\n",
       "van                    0    0    489    18   2312   1973   55   0    4847\n",
       "Total                172  222  56503  1764  56703  39796  843  52  156055"
      ]
     },
     "execution_count": 227,
     "metadata": {},
     "output_type": "execute_result"
    }
   ],
   "source": [
    "pd.crosstab(car_df.type_new,\n",
    "            car_df.cylinders,\n",
    "            rownames=['Car Types'], \n",
    "            colnames=['Number of Cylinders'],\n",
    "            margins=True,\n",
    "            margins_name = 'Total')"
   ]
  },
  {
   "cell_type": "markdown",
   "metadata": {},
   "source": [
    "<blockquote> As the age of the car increases, the selling price decreases and the odometer increases. This is consistent with the general understanding of how car values depreciate with increased usage and life of the car. For clarity we have restricted the output to only first 10 observations "
   ]
  },
  {
   "cell_type": "code",
   "execution_count": 230,
   "metadata": {},
   "outputs": [
    {
     "data": {
      "text/html": [
       "<div>\n",
       "<style scoped>\n",
       "    .dataframe tbody tr th:only-of-type {\n",
       "        vertical-align: middle;\n",
       "    }\n",
       "\n",
       "    .dataframe tbody tr th {\n",
       "        vertical-align: top;\n",
       "    }\n",
       "\n",
       "    .dataframe thead th {\n",
       "        text-align: right;\n",
       "    }\n",
       "</style>\n",
       "<table border=\"1\" class=\"dataframe\">\n",
       "  <thead>\n",
       "    <tr style=\"text-align: right;\">\n",
       "      <th></th>\n",
       "      <th>price</th>\n",
       "      <th>odometer</th>\n",
       "    </tr>\n",
       "    <tr>\n",
       "      <th>car_Age_in_yrs</th>\n",
       "      <th></th>\n",
       "      <th></th>\n",
       "    </tr>\n",
       "  </thead>\n",
       "  <tbody>\n",
       "    <tr>\n",
       "      <th>1.0</th>\n",
       "      <td>27990.0</td>\n",
       "      <td>15000.0</td>\n",
       "    </tr>\n",
       "    <tr>\n",
       "      <th>2.0</th>\n",
       "      <td>25999.0</td>\n",
       "      <td>26882.0</td>\n",
       "    </tr>\n",
       "    <tr>\n",
       "      <th>3.0</th>\n",
       "      <td>23899.0</td>\n",
       "      <td>36496.0</td>\n",
       "    </tr>\n",
       "    <tr>\n",
       "      <th>4.0</th>\n",
       "      <td>18200.0</td>\n",
       "      <td>57926.0</td>\n",
       "    </tr>\n",
       "    <tr>\n",
       "      <th>5.0</th>\n",
       "      <td>17000.0</td>\n",
       "      <td>72415.0</td>\n",
       "    </tr>\n",
       "    <tr>\n",
       "      <th>6.0</th>\n",
       "      <td>15900.0</td>\n",
       "      <td>79454.0</td>\n",
       "    </tr>\n",
       "    <tr>\n",
       "      <th>7.0</th>\n",
       "      <td>13590.0</td>\n",
       "      <td>89433.0</td>\n",
       "    </tr>\n",
       "    <tr>\n",
       "      <th>8.0</th>\n",
       "      <td>11950.0</td>\n",
       "      <td>97722.0</td>\n",
       "    </tr>\n",
       "    <tr>\n",
       "      <th>9.0</th>\n",
       "      <td>9975.0</td>\n",
       "      <td>115000.0</td>\n",
       "    </tr>\n",
       "    <tr>\n",
       "      <th>10.0</th>\n",
       "      <td>7995.0</td>\n",
       "      <td>122004.0</td>\n",
       "    </tr>\n",
       "  </tbody>\n",
       "</table>\n",
       "</div>"
      ],
      "text/plain": [
       "                  price  odometer\n",
       "car_Age_in_yrs                   \n",
       "1.0             27990.0   15000.0\n",
       "2.0             25999.0   26882.0\n",
       "3.0             23899.0   36496.0\n",
       "4.0             18200.0   57926.0\n",
       "5.0             17000.0   72415.0\n",
       "6.0             15900.0   79454.0\n",
       "7.0             13590.0   89433.0\n",
       "8.0             11950.0   97722.0\n",
       "9.0              9975.0  115000.0\n",
       "10.0             7995.0  122004.0"
      ]
     },
     "execution_count": 230,
     "metadata": {},
     "output_type": "execute_result"
    }
   ],
   "source": [
    "car_df.groupby('car_Age_in_yrs').median()[['price','odometer']].head(10)"
   ]
  },
  {
   "cell_type": "markdown",
   "metadata": {},
   "source": [
    "<blockquote> Odometer and Car Age : From the below descriptive statistics we can see that the median / mean age is around 8 - 9 years. The average number of miles driven in a car in the United States is around 12,000 miles. So a 8 year car will have an average mileage of 96000 miles. Given this information, we can say that the median odometer reading in our dataset(95416 miles) and the average odometer reading(98461 miles) is consistent with the actual numbers. "
   ]
  },
  {
   "cell_type": "code",
   "execution_count": 84,
   "metadata": {},
   "outputs": [
    {
     "data": {
      "text/html": [
       "<div>\n",
       "<style scoped>\n",
       "    .dataframe tbody tr th:only-of-type {\n",
       "        vertical-align: middle;\n",
       "    }\n",
       "\n",
       "    .dataframe tbody tr th {\n",
       "        vertical-align: top;\n",
       "    }\n",
       "\n",
       "    .dataframe thead th {\n",
       "        text-align: right;\n",
       "    }\n",
       "</style>\n",
       "<table border=\"1\" class=\"dataframe\">\n",
       "  <thead>\n",
       "    <tr style=\"text-align: right;\">\n",
       "      <th></th>\n",
       "      <th>odometer</th>\n",
       "      <th>car_Age_in_yrs</th>\n",
       "    </tr>\n",
       "  </thead>\n",
       "  <tbody>\n",
       "    <tr>\n",
       "      <th>count</th>\n",
       "      <td>156111.000000</td>\n",
       "      <td>156111.000000</td>\n",
       "    </tr>\n",
       "    <tr>\n",
       "      <th>mean</th>\n",
       "      <td>98461.452197</td>\n",
       "      <td>8.972033</td>\n",
       "    </tr>\n",
       "    <tr>\n",
       "      <th>std</th>\n",
       "      <td>59130.442725</td>\n",
       "      <td>6.000368</td>\n",
       "    </tr>\n",
       "    <tr>\n",
       "      <th>min</th>\n",
       "      <td>181.000000</td>\n",
       "      <td>1.000000</td>\n",
       "    </tr>\n",
       "    <tr>\n",
       "      <th>25%</th>\n",
       "      <td>48688.000000</td>\n",
       "      <td>5.000000</td>\n",
       "    </tr>\n",
       "    <tr>\n",
       "      <th>50%</th>\n",
       "      <td>95416.000000</td>\n",
       "      <td>8.000000</td>\n",
       "    </tr>\n",
       "    <tr>\n",
       "      <th>75%</th>\n",
       "      <td>140000.000000</td>\n",
       "      <td>12.000000</td>\n",
       "    </tr>\n",
       "    <tr>\n",
       "      <th>max</th>\n",
       "      <td>269781.000000</td>\n",
       "      <td>43.000000</td>\n",
       "    </tr>\n",
       "  </tbody>\n",
       "</table>\n",
       "</div>"
      ],
      "text/plain": [
       "            odometer  car_Age_in_yrs\n",
       "count  156111.000000   156111.000000\n",
       "mean    98461.452197        8.972033\n",
       "std     59130.442725        6.000368\n",
       "min       181.000000        1.000000\n",
       "25%     48688.000000        5.000000\n",
       "50%     95416.000000        8.000000\n",
       "75%    140000.000000       12.000000\n",
       "max    269781.000000       43.000000"
      ]
     },
     "execution_count": 84,
     "metadata": {},
     "output_type": "execute_result"
    }
   ],
   "source": [
    "car_df[['odometer','car_Age_in_yrs']].describe()"
   ]
  },
  {
   "cell_type": "markdown",
   "metadata": {},
   "source": [
    "### Visualize Attributes\n",
    "*Visualize the most interesting attributes (at least 5 attributes, your opinion on what is interesting). Important: Interpret the implications for each visualization. Explain for each attribute why the chosen visualization is appropriate.*"
   ]
  },
  {
   "cell_type": "markdown",
   "metadata": {},
   "source": [
    "<blockquote>We thought it was interesting to plot some of the data by state. California, Florida, New York are states with the highest number of listings.</blockquote>"
   ]
  },
  {
   "cell_type": "code",
   "execution_count": null,
   "metadata": {},
   "outputs": [],
   "source": [
    "#Reference:  https://github.com/python-visualization/folium/blob/master/examples/GeoJSON_and_choropleth.ipynb\n",
    "\n",
    "#convert the state column to all upper case\n",
    "car_df['state'] = car_df['state'].str.upper() \n",
    "\n",
    "#import the coordinates of each state\n",
    "url = (\n",
    "    \"https://raw.githubusercontent.com/python-visualization/folium/master/examples/data\"\n",
    ")\n",
    "state_geo = f\"{url}/us-states.json\"\n",
    "\n",
    "#create a new dataframe grouped by state and count of vehicles\n",
    "grp_df = car_df.groupby([\"state\"], as_index=False)[\"price\"].count()\n",
    "\n",
    "# Initialize the map:\n",
    "m = folium.Map([43, -100], zoom_start=4)\n",
    "\n",
    "folium.Choropleth(\n",
    "    geo_data=state_geo,\n",
    "    data=grp_df,\n",
    "    columns=[\"state\", \"price\"],\n",
    "    key_on=\"feature.id\",\n",
    ").add_to(m)\n",
    "\n",
    "m"
   ]
  },
  {
   "cell_type": "markdown",
   "metadata": {},
   "source": [
    "<blockquote>For Condition of the car, we found it interesting that the excellent_likenew category does not have higher prices than the good_fair category.  This boxplot shows that break out by condition.  The scatterplot on top represent the observations.  From this we can see that the majority of observations in the data set have a condition of excellent_new or good_fair. "
   ]
  },
  {
   "cell_type": "code",
   "execution_count": null,
   "metadata": {},
   "outputs": [],
   "source": [
    "car_df['condition_new'].value_counts()\n",
    "#boxplot for condition of car\n",
    "fig, axs = plt.subplots(ncols=1, figsize=(10,6))\n",
    "ax = sns.boxplot(x=\"condition_new\", y=\"price\", data=car_df).set(title='Condition & Price', xlabel='Condition', ylabel='Price (USD)')\n",
    "# Add in points to show each observation\n",
    "sns.stripplot(x=\"condition_new\", y=\"price\", data=car_df,\n",
    "              jitter=True, size=2, color=\"slategrey\", linewidth=0)"
   ]
  },
  {
   "cell_type": "code",
   "execution_count": null,
   "metadata": {},
   "outputs": [],
   "source": [
    "#Plot Used cars distribution in by car type\n",
    "plt.subplots(figsize = (11,7))\n",
    "car_df['condition_new'].hist(bins=10)\n",
    "plt.title(\"Used car distribution by 'Condition' of car\", fontsize=18)\n",
    "plt.xlabel('Car Condition', fontsize=16)\n",
    "plt.ylabel('Number of Cars', fontsize=16)"
   ]
  },
  {
   "cell_type": "code",
   "execution_count": null,
   "metadata": {},
   "outputs": [],
   "source": [
    "#Plot Used cars distribution in by car type\n",
    "plt.subplots(figsize = (11,7))\n",
    "car_df['type_new'].hist(bins=25)\n",
    "plt.title(\"Used car distribution by 'Type' of car\", fontsize=18)\n",
    "plt.xlabel('Car Type', fontsize=16)\n",
    "plt.ylabel('Number of Cars', fontsize=16)"
   ]
  },
  {
   "cell_type": "code",
   "execution_count": null,
   "metadata": {},
   "outputs": [],
   "source": [
    "#Histogram for Numbers of cars in each price range by drive\n",
    "fig, ax = plt.subplots(figsize = (16,7))\n",
    "sns.set_theme(style=\"whitegrid\")\n",
    "plt.title(\"Car 'Type' distribution by Drive\", fontsize=18)\n",
    "ax = sns.barplot(y=\"price\", x=\"drive\", data=car_df)\n",
    "ax.set_ylabel('Price ($)', fontsize = 16)\n",
    "ax.set_xlabel ('Drive', fontsize = 16)\n",
    "plt.xticks(rotation=45)"
   ]
  },
  {
   "cell_type": "markdown",
   "metadata": {},
   "source": [
    "### Explore Joint Attributes\n",
    "*Visualize relationships between attributes: Look at the attributes via scatter plots, correlation, cross-tabulation, group-wise averages, etc. as appropriate. Explain any interesting relationships.*"
   ]
  },
  {
   "cell_type": "markdown",
   "metadata": {},
   "source": [
    "<blockquote>Correlations<br>\n",
    "1) A strong negative correlation between Price and Odometer reading. <br>\n",
    "2) A strong negative correlation between Price and the age of the car. <br>\n",
    "3) A strong postive correlation between Odometer reading and the age of the car. <br>\n",
    "4) A slight positive correlation between the number of cyclinders and the price of the car. <br>\n",
    "5) A very week correlation between the number of cylinders and the age of the car. <br></blockquote\n",
    "    "
   ]
  },
  {
   "cell_type": "code",
   "execution_count": null,
   "metadata": {},
   "outputs": [],
   "source": [
    "car_df = car_df.drop(columns=['percent'])\n",
    "correlations = car_df.corr()\n",
    "fig, ax = plt.subplots(figsize=(10,8))         # Sample figsize in inches\n",
    "sns.heatmap(correlations, annot=True, linewidths=.5, ax=ax)"
   ]
  },
  {
   "cell_type": "markdown",
   "metadata": {},
   "source": [
    "<blockquote> California followed by Florida has the most number of 'excellent_likenew' cars for sale on Craigslist for the time period of this dataset."
   ]
  },
  {
   "cell_type": "code",
   "execution_count": null,
   "metadata": {},
   "outputs": [],
   "source": [
    "#Plot Used cars distribution by State\n",
    "fig, ax1 = plt.subplots(figsize = (18,9))\n",
    "ax1 = sns.histplot(x=\"state\",hue=\"condition_new\", data=car_df)\n",
    "ax1.set_ylabel('Number of Cars', fontsize = 16)\n",
    "ax1.set_xlabel ('State', fontsize = 16)\n",
    "plt.title(\"Used cars distribution by State\", fontsize=18)"
   ]
  },
  {
   "cell_type": "markdown",
   "metadata": {},
   "source": [
    "<blockquote><b>We observe the following from the plot below:</b><br>\n",
    "\n",
    "1) For each car type, the cars with the highest odometer reading are in the 'salvage' condition. <br>\n",
    "2) Off-road vehicles, followed by pickup_trucks and vans have the highest odometer reading for the salvage cars.<br>\n",
    "3) Convertible cars seem to be inconsistent, with around the same odometer reading, a comparable number of cars are in the 'excellent_likenew' condition or 'salvage' condition.<br>\n",
    "4) For pick_up trucks, hatchbacks and coupes, the cars in 'excellent_likenew' condition have higher odometer reading compared to these types of cars in 'good/fair' condition. We saw from the plot above that the price for these car types was higher for cars in good/fair condition compared to those in 'excellent/like-new' condition.<p>\n",
    "Thus condition and car type along with the odometer reading may be good predictors for the price of the car.</blockquote>"
   ]
  },
  {
   "cell_type": "code",
   "execution_count": null,
   "metadata": {},
   "outputs": [],
   "source": [
    "#Distribution of cars by their odometer reading, type and condition\n",
    "fig, ax = plt.subplots(figsize = (15,7))\n",
    "sns.set_theme(style=\"whitegrid\")\n",
    "plt.title(\"Distribution of the price of the cars by their 'type' and 'odometer' reading\", fontsize=18)\n",
    "ax = sns.barplot(y=\"odometer\",x=\"type_new\", hue=\"condition_new\", data=car_df)\n",
    "ax.set_ylabel('Odometer', fontsize = 16)\n",
    "ax.set_xlabel (' Car Type by Condition', fontsize = 16)"
   ]
  },
  {
   "cell_type": "markdown",
   "metadata": {},
   "source": [
    "### Explore Attributes and Class\n",
    "Identify and explain interesting relationships between features and the class you are trying to predict (i.e., relationships with variables and the target classification)."
   ]
  },
  {
   "cell_type": "markdown",
   "metadata": {},
   "source": [
    "#### Features and Price (Regression)\n",
    "\n",
    "\n",
    "<blockquote>There are two continuous features in the dataset - car age in years and odometer.  Prices are trending down as vehicles age and as the mileage increases.  These features are expected to be useful predictors.\n",
    "   "
   ]
  },
  {
   "cell_type": "code",
   "execution_count": null,
   "metadata": {},
   "outputs": [],
   "source": [
    "#scatterplots for continuous of car age and odometer by price\n",
    "fig, axs = plt.subplots(ncols=2, figsize=(18,6))\n",
    "sns.scatterplot(data=car_df, x=\"car_Age_in_yrs\", y=\"price\", ax=axs[0]).set(title='Age & Price', xlabel='Age (yrs)', ylabel='Price (USD)')\n",
    "sns.scatterplot(data=car_df, x=\"odometer\", y=\"price\", ax=axs[1]).set(title='Odometer & Price', xlabel='Odometer (miles)', ylabel='Price (USD)')\n",
    "plt.show()"
   ]
  },
  {
   "cell_type": "markdown",
   "metadata": {},
   "source": [
    "<blockquote><b>We observe the following from the plot below:</b><p>\n",
    "1) New cars have the highest prices for cars in each car type. <br>\n",
    "2) For pickup trucks, hatchbacks and convertible cars, the cars in good_fair condition appear to have higher prices than the cars in excellent_likenew condition for the same car types. Thus, apart from condition and type, there have to be other factors that influence the price of vehicles. <br>\n",
    "3) Salvage cars have the lowest price for each car type. <br></blockquote>"
   ]
  },
  {
   "cell_type": "code",
   "execution_count": null,
   "metadata": {},
   "outputs": [],
   "source": [
    "#Histogram for Numbers of cars in each price range by car condition\n",
    "fig, ax = plt.subplots(figsize = (15,7))\n",
    "sns.set_theme(style=\"whitegrid\")\n",
    "plt.title(\"Distribution of the price of the cars by their 'type' and 'condition'\", fontsize=18)\n",
    "ax = sns.barplot(y=\"price\",x=\"type_new\", hue=\"condition_new\", data=car_df)\n",
    "ax.set_ylabel('Price ($)', fontsize = 16)\n",
    "ax.set_xlabel (' Car Type by Condition', fontsize = 16)"
   ]
  },
  {
   "cell_type": "markdown",
   "metadata": {},
   "source": [
    "<blockquote>High-end manufacturers like Aston-Martin, Ferrari, Porshe, and Tesla have higher prices with medians over $30,000. The manufacturers with the lowest median prices are Mercury, Pontiac, and Saturn.  While the median is high for Tesla, there is a large range of values between the 25th PCTL and the 75th PCTL, indicating that there is a lot of variability in prices for this manufacturer.  We expect this to be a useful feature for prediction."
   ]
  },
  {
   "cell_type": "code",
   "execution_count": null,
   "metadata": {},
   "outputs": [],
   "source": [
    "fig, axs = plt.subplots(ncols=1, figsize=(20,8))\n",
    "plt.title(\"Manufacturer and Price\", fontsize=18)\n",
    "ax = sns.boxplot(x=\"manufacturer\", y=\"price\", data=car_df.sort_values(\"manufacturer\"))\n",
    "ax.set_ylabel('Price ($)', fontsize = 16)\n",
    "ax.set_xlabel (' Manufacturer', fontsize = 16)\n",
    "plt.xticks(rotation=90)\n",
    "plt.show()"
   ]
  },
  {
   "cell_type": "markdown",
   "metadata": {},
   "source": [
    "<blockquote> There does not seem to be much correlation between state and price. West Virginia and Wyoming an could be an exception to this."
   ]
  },
  {
   "cell_type": "code",
   "execution_count": null,
   "metadata": {},
   "outputs": [],
   "source": [
    "#Price by State\n",
    "fig, ax = plt.subplots(figsize = (15,7))\n",
    "sns.set_theme(style=\"whitegrid\")\n",
    "plt.title(\"Price by State\", fontsize=18)\n",
    "ax = sns.boxplot(y=\"price\",x=\"state\", data=car_df)\n",
    "ax.set_ylabel('Price ($)', fontsize = 16)\n",
    "ax.set_xlabel ('State', fontsize = 16)"
   ]
  },
  {
   "cell_type": "markdown",
   "metadata": {},
   "source": [
    "<blockquote> Color seems to have small only a minor correlation with price, while transmission seems to have more correlation."
   ]
  },
  {
   "cell_type": "code",
   "execution_count": null,
   "metadata": {},
   "outputs": [],
   "source": [
    "fig, axs = plt.subplots(ncols=2, figsize=(20,8))\n",
    "ax = sns.boxplot(x=\"paint_color_new\", y=\"price\", data=car_df,ax=axs[0])\n",
    "ax = sns.boxplot(x=\"transmission_new\", y=\"price\", data=car_df,ax=axs[1]) "
   ]
  },
  {
   "cell_type": "markdown",
   "metadata": {},
   "source": [
    "#### Categorical Features and Price Range (Classification)"
   ]
  },
  {
   "cell_type": "code",
   "execution_count": null,
   "metadata": {},
   "outputs": [],
   "source": [
    "#Plot Used cars distribution in each price range\n",
    "plt.subplots(figsize = (11,7))\n",
    "car_df['price_range'].hist(bins=25)\n",
    "plt.title('Used cars distribution in each price range', fontsize=18)\n",
    "plt.xlabel('Price Range', fontsize=16)\n",
    "plt.ylabel('Number of Cars', fontsize=16)"
   ]
  },
  {
   "cell_type": "markdown",
   "metadata": {},
   "source": [
    "<blockquote> For classification problems, the prices have been binned into price ranges.  Below are the proportions for each price range for some of the categorical variables. <br> \n",
    "\n",
    "The Title Status is a legal document that states the legal owner of the car.  95% of the vehicles in this dataset have a clean title.  More than 50% of these vehicles with clean titles are priced between 10k-50k.  A rebuilt title is for a vehicle that has been damaged or totaled.  More than 50% of the vehicles in this dataset with a rebuilt title are 10k or less.  A lien title is one that has an outstanding loan on the vehicle.  The majority of vehicles in that category are listed between 10k - 50k.  A parts only title indicates that the car cannot be registered again.  The majority of listings for parts only titles are less than 1k.  A missing title can mean that the title was damaged or lost, but could also indicate a stolen car.  Most of the cars in this category are between 1k - 5k."
   ]
  },
  {
   "cell_type": "code",
   "execution_count": null,
   "metadata": {},
   "outputs": [],
   "source": [
    "# Draw Seaborn Scatter Plot to find relationship between age and fare\n",
    "fig, axs = plt.subplots(ncols=1,figsize=(15,8))\n",
    "sns.histplot(car_df, x=\"title_status\", hue=\"price_range\", stat=\"probability\", multiple=\"fill\", shrink=.8)"
   ]
  },
  {
   "cell_type": "markdown",
   "metadata": {},
   "source": [
    "# Add description for condition"
   ]
  },
  {
   "cell_type": "code",
   "execution_count": null,
   "metadata": {},
   "outputs": [],
   "source": [
    "table=pd.crosstab(car_df['condition_new'],car_df['price_range'])\n",
    "table.div(table.sum(1).astype(float),axis=0).plot(kind='bar',stacked=True, figsize=(12,6),)"
   ]
  },
  {
   "cell_type": "markdown",
   "metadata": {},
   "source": [
    "<blockquote>When looking at vehicles by the type of fuel they use, at least 50% or more of them are priced in the 10k-50k range.  92% of the vehicles in this dataset use gas for fuel. The high..."
   ]
  },
  {
   "cell_type": "code",
   "execution_count": null,
   "metadata": {},
   "outputs": [],
   "source": [
    "fig, axs = plt.subplots(ncols=1,figsize=(15,8))\n",
    "sns.histplot(car_df, x=\"fuel\", hue=\"price_range\", stat=\"probability\", multiple=\"fill\", shrink=.8)"
   ]
  },
  {
   "cell_type": "markdown",
   "metadata": {},
   "source": [
    "<blockquote>\n",
    "We created new feature column called “ Car Age” which the tell us the age of the car by substracting posting date from the year column. This new column will help us determine whether there is correlation between the car age and the price of the car which seem definitely it has the correlation. <br>\n",
    "We also do the one hot encoding on the categorical feature variables i.e. manufacturer(41 distinct),condition new(4 distinct), fuel(5 distinct), title status( 6 distinct), transmission(3 distinct transmission), drive(3 distinct), size( 4 distinct), type(10 distinct type), paint color (4 distinct group color) and cylinder.(8 distinct)"
   ]
  },
  {
   "cell_type": "markdown",
   "metadata": {},
   "source": [
    "### <a id=\"New-Features\">New Features</a>\n",
    "*Are there other features that could be added to the data or created from existing features? Which ones?*\n",
    "\n",
    "* We created a new feature column called “car_Age_in_yrs” which is derived by substracting the age of the car from the posting date. This new column will help determine whether there is correlation between the car age and the price of the car, which we believe to be the case.<p> \n",
    "    \n",
    "* We will also do one hot encoding on all of the the categorical feature variables i.e. manufacturer (41 distinct), condition_new (4 distinct), fuel (5 distinct), title status (6 distinct), transmission(3 distinct transmission), drive(3 distinct), size( 4 distinct), type(10 distinct type), paint_color (4 distinct) and cylinder (8 distinct). <p>\n",
    "    \n",
    "* Depending on the results of feature selection, we may reduce the states column to larger regions (west coast, east coast, etc.)."
   ]
  },
  {
   "cell_type": "code",
   "execution_count": null,
   "metadata": {
    "scrolled": true
   },
   "outputs": [],
   "source": [
    "car_df_encoded = pd.get_dummies(car_df[[ 'price', 'manufacturer', 'model', 'condition_new',\n",
    "       'fuel', 'odometer', 'title_status', 'transmission_new', 'drive',\n",
    "       'type_new', 'paint_color_new', 'cylinders']])"
   ]
  },
  {
   "cell_type": "markdown",
   "metadata": {},
   "source": [
    "<a id='exceptional'></a>\n",
    "\n",
    "### Exceptional Work\n",
    "\n",
    "There were columns in the dataset that had missing values. We extracted the information for these columns using the U.S. Department Of Transportation VIN API. (https://vpic.nhtsa.dot.gov/api/). As a valid VIN number is needed to extract information from this API the entire dataset could not be cleanup as many instances were missing VIN number. The following columns were extracted from the VIN API. A scraper was built to call a ReST endpoint and write the details to a file, which was later joined to the original dataset.\n",
    "\n",
    "\n",
    "\n",
    "| Attribute | Attribute Description | Imputed Column in the Original Dataset |\n",
    "| --- | --- | --- | \n",
    "|VIN | Unique Vehicle Indentifier for a car | Not Mapped. Used for perform join on dataset\n",
    "| DriveType | Front Wheel Drive, Rear Wheel Drive, All Wheel Drive, etc.| drive\n",
    "| EngineCylinders | Number of cylinders in the car| cylinders\n",
    "| EngineManufacturer | Manufacturer Name, for example Ford, GM, etc.| Not Mapped\n",
    "| EngineModel | The model of the engine | Not Mapped\n",
    "| Make | Make of the car. For example Toyota, Hyundai, etc. | Not Mapped \n",
    "| Manufacturer | Same as engine Manufacturer, but more detailed name | Not Mapped \n",
    "| Model | Model of the car. For example Camry, Sonata, etc.| model\n",
    "| ModelYear | Model when the car was released| year\n",
    "| PlantCompanyName | Plant where the engine was manufactured| Not Mapped\n",
    "| TransmissionSpeeds | How many transmissions are present in the car, for Example 4 Speed, 6 Speed etc.|  Not Mapped |\n",
    "| TransmissionStyle | Kind of transmission. For example, Automatic , Manual, CVT, etc.| transmission |\n",
    "| FuelTypePrimary | Fuel type used in the car. For example, Gasoline ,Diesel, etc.| fuel |\n",
    "\n"
   ]
  },
  {
   "cell_type": "code",
   "execution_count": null,
   "metadata": {},
   "outputs": [],
   "source": [
    "def fetch_vin_details(dataset, attribute):\n",
    "    # List of attributes to filter from the REST response\n",
    "    vin_attributes = [\n",
    "        'VIN',\n",
    "        'DriveType',\n",
    "        'EngineCylinders',\n",
    "        'EngineManufacturer',\n",
    "        'EngineModel',\n",
    "        'Make',\n",
    "        'Manufacturer',\n",
    "        'Model',\n",
    "        'ModelYear',\n",
    "        'PlantCompanyName',\n",
    "        'TransmissionSpeeds',\n",
    "        'TransmissionStyle',\n",
    "        'FuelTypePrimary']\n",
    "\n",
    "    #\n",
    "    row_list = []\n",
    "    request_batch_size = 50\n",
    "    current_fetch_size = 0\n",
    "    vin_details = ''\n",
    "    num_requests = 0\n",
    "\n",
    "    # Create VIN batches so that HTTP requests can be batched to reduce network IO calls for faster processing\n",
    "    for vin in dataset[attribute]:\n",
    "        #\n",
    "        if not pd.isnull(vin):\n",
    "            #\n",
    "            vin_details += vin + ';'\n",
    "            current_fetch_size += 1\n",
    "            #\n",
    "            if current_fetch_size == request_batch_size:\n",
    "                # Introducing a delay to not overload the remote server\n",
    "                if num_requests == 50:\n",
    "                    num_requests = 0\n",
    "                    print(\n",
    "                        'Going to sleep for sometime to avoid connection refused issue')\n",
    "                    time.sleep(2)\n",
    "                # Fetch response from API\n",
    "                rows = create_http_request(vin_details, vin_attributes)\n",
    "                vin_details = ''\n",
    "                current_fetch_size = 0\n",
    "                num_requests += 1\n",
    "                row_list.append(rows)\n",
    "\n",
    "    # Flush out remaining if last fetch size is fewer than the request batch size\n",
    "    if current_fetch_size < request_batch_size:\n",
    "        rows = create_http_request(vin_details, vin_attributes)\n",
    "    row_list.append(rows)\n",
    "\n",
    "    #\n",
    "    return row_list\n",
    "\n",
    "\n",
    "def create_http_request(vin_batch, attributes):\n",
    "    # construct the batched URL for fetching the VIN information from US DOT\n",
    "    header = {\n",
    "        'Accept': \"text/html,application/xhtml+xml,application/xml;q=0.9,image/webp,*/*;q=0.8\",\n",
    "        'Accept-Encoding': \"gzip, deflate, br\",\n",
    "        'Accept-Language': \"en-US,en;q=0.5\",\n",
    "        'Connection': \"keep-alive\",\n",
    "        'Content-Length': \"57\",\n",
    "        'Content-Type': \"application/x-www-form-urlencoded\",\n",
    "        'Host': \"vpic.nhtsa.dot.gov\",\n",
    "        'Origin': \"https://vpic.nhtsa.dot.gov\",\n",
    "        'Referer': \"https://vpic.nhtsa.dot.gov/api/\",\n",
    "        'Upgrade-Insecure-Requests': \"1\",\n",
    "        'User-Agent': \"Mozilla/5.0 (Windows NT 10.0; Win64; x64; rv:84.0) Gecko/20100101 Firefox/84.0\"\n",
    "    }\n",
    "\n",
    "    url = 'https://vpic.nhtsa.dot.gov/api/vehicles/DecodeVINValuesBatch/'\n",
    "\n",
    "    data_dict = {'DATA': vin_batch, 'format': 'JSON'}\n",
    "\n",
    "    # Parse the raw response in JSON format\n",
    "    response_raw = requests.post(\n",
    "        url, headers=header, data=data_dict)\n",
    "\n",
    "    # Parse if we get a sucessfull response, else return a null list\n",
    "    if not response_raw.status_code == requests.codes.ok:\n",
    "        print(\"Unable to get a reponse at {} for url , {} , {} \".format(\n",
    "            datetime.now(), url, response_raw.text))\n",
    "        return []\n",
    "\n",
    "    #\n",
    "    # print(response_raw.text)\n",
    "    response_json = json.loads(response_raw.text)\n",
    "\n",
    "    with open('vin_data.csv', 'a') as file:\n",
    "        # Create a dataframe from the JSON response\n",
    "        rows = []\n",
    "        for elements in range(0, response_json['Count']):\n",
    "            values = []\n",
    "            for key in attributes:\n",
    "                values.append(response_json['Results'][elements][key])\n",
    "            rows.append(values)\n",
    "            file.write(\"|\".join([str(element) for element in values])+\"\\n\")\n",
    "            file.flush()\n",
    "    #\n",
    "    print(\"Fetched {} records from API at {}\".format(len(rows), datetime.now()))\n",
    "    file.close()\n",
    "    #\n",
    "    return rows\n",
    "\n",
    "\n",
    "def unpack_list_to_df(row_list):\n",
    "    #\n",
    "    df_list = []\n",
    "\n",
    "    for indx in range(0, len(row_list)):\n",
    "        for iter in range(0, len(row_list[indx])):\n",
    "            df_list.append(row_list[indx][iter])\n",
    "\n",
    "    #\n",
    "    return pd.DataFrame(df_list, columns=[\n",
    "        'VIN',\n",
    "        'DriveType',\n",
    "        'EngineCylinders',\n",
    "        'EngineManufacturer',\n",
    "        'EngineModel',\n",
    "        'Make',\n",
    "        'Manufacturer',\n",
    "        'Model',\n",
    "        'ModelYear',\n",
    "        'PlantCompanyName',\n",
    "        'TransmissionSpeeds',\n",
    "        'TransmissionStyle',\n",
    "        'FuelTypePrimary'])"
   ]
  }
 ],
 "metadata": {
  "celltoolbar": "Raw Cell Format",
  "kernelspec": {
   "display_name": "Python 3",
   "language": "python",
   "name": "python3"
  },
  "language_info": {
   "codemirror_mode": {
    "name": "ipython",
    "version": 3
   },
   "file_extension": ".py",
   "mimetype": "text/x-python",
   "name": "python",
   "nbconvert_exporter": "python",
   "pygments_lexer": "ipython3",
   "version": "3.8.5"
  }
 },
 "nbformat": 4,
 "nbformat_minor": 2
}
